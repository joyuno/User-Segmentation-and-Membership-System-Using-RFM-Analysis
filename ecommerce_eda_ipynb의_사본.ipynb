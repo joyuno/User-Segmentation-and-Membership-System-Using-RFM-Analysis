{
  "nbformat": 4,
  "nbformat_minor": 0,
  "metadata": {
    "colab": {
      "private_outputs": true,
      "provenance": [],
      "gpuType": "T4"
    },
    "kernelspec": {
      "name": "python3",
      "display_name": "Python 3"
    },
    "language_info": {
      "name": "python"
    },
    "accelerator": "GPU"
  },
  "cells": [
    {
      "cell_type": "code",
      "execution_count": null,
      "metadata": {
        "id": "_l-nyjglE81v"
      },
      "outputs": [],
      "source": [
        "!pip install kagglehub"
      ]
    },
    {
      "cell_type": "code",
      "source": [
        "import kagglehub\n",
        "\n",
        "# Download latest version\n",
        "path = kagglehub.dataset_download(\"mkechinov/ecommerce-behavior-data-from-multi-category-store\")\n",
        "\n",
        "print(\"Path to dataset files:\", path)"
      ],
      "metadata": {
        "id": "ToP9LSVBFS--"
      },
      "execution_count": null,
      "outputs": []
    },
    {
      "cell_type": "code",
      "source": [
        "import os\n",
        "#path = \"C:/Users/User/.cache/kagglehub/datasets/mkechinov/ecommerce-behavior-data-from-multi-category-store/versions/8\"\n",
        "os.listdir(path)"
      ],
      "metadata": {
        "id": "rbiZH9XtFS8t"
      },
      "execution_count": null,
      "outputs": []
    },
    {
      "cell_type": "code",
      "source": [
        "\n",
        "path2 = os.path.join(path, '2019-Oct.csv')"
      ],
      "metadata": {
        "id": "2YeXcunnFeZ6"
      },
      "execution_count": null,
      "outputs": []
    },
    {
      "cell_type": "code",
      "source": [
        "import pandas as pd\n",
        "\n",
        "# Dask 데이터프레임 생성\n",
        "ddf = pd.read_csv(path2)\n",
        "\n",
        "# 랜덤으로 1% 샘플링\n",
        "sampled_data = ddf.sample(frac=0.01, random_state=42)\n",
        "\n",
        "print(sampled_data)"
      ],
      "metadata": {
        "id": "wPAWtuP5FS5h"
      },
      "execution_count": null,
      "outputs": []
    },
    {
      "cell_type": "code",
      "source": [
        "print(sampled_data.head())\n",
        "print(sampled_data.shape)\n",
        "print(sampled_data.info())\n",
        "print(sampled_data.columns)\n",
        "visitor = sampled_data['user_id'].nunique()\n",
        "print(\"visitors: {}\".format(visitor))"
      ],
      "metadata": {
        "id": "Uo1pAExaFS2r"
      },
      "execution_count": null,
      "outputs": []
    },
    {
      "cell_type": "code",
      "source": [
        "import pandas as pd\n",
        "#sampled_data = ddf.sample(frac=0.01, random_state=42)\n",
        "sampled_data=sampled_data.loc[sampled_data.event_type == 'purchase']\n",
        "sampled_data['event_time'] = pd.to_datetime(sampled_data['event_time']).dt.tz_convert(None)"
      ],
      "metadata": {
        "id": "8aDfqReTFS0S"
      },
      "execution_count": null,
      "outputs": []
    },
    {
      "cell_type": "code",
      "source": [
        "sampled_data.reset_index(drop=True, inplace=True)\n"
      ],
      "metadata": {
        "id": "_IIqtvm-GzV-"
      },
      "execution_count": null,
      "outputs": []
    },
    {
      "cell_type": "code",
      "source": [
        "sampled_data.dtypes"
      ],
      "metadata": {
        "id": "dCMXEik9FsFZ"
      },
      "execution_count": null,
      "outputs": []
    },
    {
      "cell_type": "code",
      "source": [
        "usecols=['event_time','event_type','price','user_id','user_session']\n",
        "product_data = sampled_data.copy()\n",
        "sampled_data = sampled_data[usecols]"
      ],
      "metadata": {
        "id": "lDk2zla5F5OZ"
      },
      "execution_count": null,
      "outputs": []
    },
    {
      "cell_type": "code",
      "source": [
        "sampled_data.head()"
      ],
      "metadata": {
        "id": "nCFJqve3FSxc"
      },
      "execution_count": null,
      "outputs": []
    },
    {
      "cell_type": "code",
      "source": [
        "print([(column,sampled_data[column].nunique()) for column in sampled_data.columns])"
      ],
      "metadata": {
        "id": "bT9ueaGuXv7L"
      },
      "execution_count": null,
      "outputs": []
    },
    {
      "cell_type": "code",
      "source": [
        "visitor_by_date = sampled_data[['user_id', 'date']].drop_duplicates().groupby('date').count().sort_values(by='date', ascending=True)"
      ],
      "metadata": {
        "id": "HxminKvEFSuy"
      },
      "execution_count": null,
      "outputs": []
    },
    {
      "cell_type": "code",
      "source": [
        "visitor_by_date"
      ],
      "metadata": {
        "id": "3Lc2A1i2bv0m"
      },
      "execution_count": null,
      "outputs": []
    },
    {
      "cell_type": "markdown",
      "source": [
        "###날짜별 고객수 추이"
      ],
      "metadata": {
        "id": "Yl2MFVaqi5Ff"
      }
    },
    {
      "cell_type": "code",
      "source": [
        "import matplotlib.pyplot as plt\n",
        "x= pd.Series(visitor_by_date.index.values)\n",
        "y= visitor_by_date[\"user_id\"]\n",
        "plt.rcParams[\"figure.figsize\"]=(20,8)\n",
        "plt.plot(x,y)\n",
        "plt.xticks(rotation = 45)"
      ],
      "metadata": {
        "id": "R4P9E9cuFSrb"
      },
      "execution_count": null,
      "outputs": []
    },
    {
      "cell_type": "code",
      "source": [
        "product_by_date = sampled_data[['product_id', 'date']].groupby('date').count().sort_values(by='date', ascending=True) # 날짜별 product 갯수\n",
        "price_by_date = sampled_data[['price', 'date']].groupby('date').mean().sort_values(by='date', ascending=True) # 날짜별 price 평균"
      ],
      "metadata": {
        "id": "8vQEUWBLdVE7"
      },
      "execution_count": null,
      "outputs": []
    },
    {
      "cell_type": "markdown",
      "source": [
        "### 날짜별 총판매 추이\n"
      ],
      "metadata": {
        "id": "RUauiCdli_CZ"
      }
    },
    {
      "cell_type": "code",
      "source": [
        "total_profit=pd.DataFrame(product_by_date['product_id']*price_by_date['price'])\n",
        "total_profit.columns=['total_profit']\n",
        "plt.rcParams[\"figure.figsize\"]=(20,8)\n",
        "plt.plot(total_profit.index.values, total_profit['total_profit'])"
      ],
      "metadata": {
        "id": "cwSqqfGghwPo"
      },
      "execution_count": null,
      "outputs": []
    },
    {
      "cell_type": "code",
      "source": [
        "purchase_data = sampled_data.loc[sampled_data['event_type'] == 'purchase',:]"
      ],
      "metadata": {
        "id": "hEHDxHYTraIc"
      },
      "execution_count": null,
      "outputs": []
    },
    {
      "cell_type": "code",
      "source": [
        "purchase_data.reset_index(drop=True).head(5)"
      ],
      "metadata": {
        "id": "12HFZKiqr8Uf"
      },
      "execution_count": null,
      "outputs": []
    },
    {
      "cell_type": "code",
      "source": [
        "product_price_map = purchase_data.groupby('product_id')['price'].mean().reset_index()\n"
      ],
      "metadata": {
        "id": "IJLvo0cAnb-Z"
      },
      "execution_count": null,
      "outputs": []
    },
    {
      "cell_type": "code",
      "source": [
        "product_price_map"
      ],
      "metadata": {
        "id": "8OuSV-VHtWV4"
      },
      "execution_count": null,
      "outputs": []
    },
    {
      "cell_type": "code",
      "source": [
        "top_10_df = purchase_data.groupby('product_id').count().reset_index()[['product_id', 'date']]"
      ],
      "metadata": {
        "id": "z1eLXm0Tqlg-"
      },
      "execution_count": null,
      "outputs": []
    },
    {
      "cell_type": "code",
      "source": [
        "top_10_df.columns = ['product_id', 'count']\n",
        "top_10_df"
      ],
      "metadata": {
        "id": "cmmnOObmsmog"
      },
      "execution_count": null,
      "outputs": []
    },
    {
      "cell_type": "code",
      "source": [
        "top_10_df = pd.merge(top_10_df, product_price_map, on='product_id', how='outer')\n",
        "top_10_df['total_profit'] = top_10_df['count'] * top_10_df['price']\n",
        "top_10_df.sort_values(by='total_profit', ascending=False, inplace=True)\n",
        "top_10_df.head(10)"
      ],
      "metadata": {
        "id": "1rSDqdHki3bf"
      },
      "execution_count": null,
      "outputs": []
    },
    {
      "cell_type": "code",
      "source": [
        "top_10_df.isnull().sum()\n",
        "top_10_df.reset_index(drop=True, inplace=True)"
      ],
      "metadata": {
        "id": "_m8UDajSmEpD"
      },
      "execution_count": null,
      "outputs": []
    },
    {
      "cell_type": "code",
      "source": [
        "purchase_data"
      ],
      "metadata": {
        "id": "7QKwtY7myqgl"
      },
      "execution_count": null,
      "outputs": []
    },
    {
      "cell_type": "code",
      "source": [
        "fig, axes = plt.subplots(2, 5, figsize=(20, 10))\n",
        "axes = axes.flatten()\n",
        "for idx, product_id in enumerate(top_10_df.loc[:9,\"product_id\"]):\n",
        "    product_daily_price = purchase_data.loc[purchase_data['product_id'] == product_id, ['date', 'price']].groupby(['date']).mean()\n",
        "\n",
        "        # x, y 값 생성\n",
        "    x = pd.Series(product_daily_price.index.values)\n",
        "    y = product_daily_price['price']\n",
        "\n",
        "    axes[idx].plot(x, y, marker='o')\n",
        "    axes[idx].set_title(f\"Product ID: {product_id}\")\n",
        "    axes[idx].set_xlabel(\"Date\")\n",
        "    axes[idx].set_ylabel(\"Price\")\n",
        "    axes[idx].tick_params(axis='x', rotation=45)\n",
        "\n",
        "# 레이아웃 조정 및 출력\n",
        "plt.tight_layout()\n",
        "plt.show()"
      ],
      "metadata": {
        "id": "6mGLDBMVwKdA"
      },
      "execution_count": null,
      "outputs": []
    },
    {
      "cell_type": "code",
      "source": [
        "purchase_data['event_time'] = pd.to_datetime(purchase_data['event_time']).dt.tz_convert(None)\n",
        "purchase_data['event_time'].min(), purchase_data['event_time'].max()"
      ],
      "metadata": {
        "id": "dzrsWP3yvWZT"
      },
      "execution_count": null,
      "outputs": []
    },
    {
      "cell_type": "code",
      "source": [
        "purchase_data['event_type']=purchase_data['event_type'].astype('category')\n",
        "purchase_data['category_code']=purchase_data['category_code'].astype('category')"
      ],
      "metadata": {
        "id": "m5y0GvwvwB4y"
      },
      "execution_count": null,
      "outputs": []
    },
    {
      "cell_type": "code",
      "source": [
        "usecols=['event_time','event_type','price','user_id','user_session']"
      ],
      "metadata": {
        "id": "1LRXIjyEBd4V"
      },
      "execution_count": null,
      "outputs": []
    },
    {
      "cell_type": "code",
      "source": [
        "purchase_data = purchase_data[usecols]"
      ],
      "metadata": {
        "id": "hf2hEvFwAk3k"
      },
      "execution_count": null,
      "outputs": []
    },
    {
      "cell_type": "code",
      "source": [
        "purchase_data.dtypes"
      ],
      "metadata": {
        "id": "LX7B_GU_B68P"
      },
      "execution_count": null,
      "outputs": []
    },
    {
      "cell_type": "code",
      "source": [
        "purchase_data=purchase_data[usecols].groupby('user_session').agg(Date_order=('event_time',lambda x: x.max()),\n",
        "                                                  user_id=('user_id',lambda x: x.unique()),\n",
        "                                          Quantity=('user_session','count'),\n",
        "                                         money_spent=('price','sum')).reset_index(drop=True)"
      ],
      "metadata": {
        "id": "4lj3qDBovwut"
      },
      "execution_count": null,
      "outputs": []
    },
    {
      "cell_type": "code",
      "source": [
        "import datetime as dt\n",
        "import numpy as np\n",
        "study_date = dt.datetime(2019,11,1)\n",
        "purchase_data=pd.DataFrame(purchase_data)\n",
        "purchase_data['last_purchase']=study_date - purchase_data['Date_order']\n",
        "purchase_data['last_purchase'].astype('timedelta64[D]')\n",
        "purchase_data['last_purchase']=purchase_data['last_purchase'] / np.timedelta64(1, 'D')\n",
        "purchase_data.head()"
      ],
      "metadata": {
        "id": "a5OdIYrLyaVC"
      },
      "execution_count": null,
      "outputs": []
    },
    {
      "cell_type": "code",
      "source": [
        "recency_df.sort_values(by='Recency', ascending=False)"
      ],
      "metadata": {
        "id": "gIuWOO1gzKIP"
      },
      "execution_count": null,
      "outputs": []
    },
    {
      "cell_type": "code",
      "source": [
        "import seaborn as sns\n",
        "%matplotlib inline\n",
        "plt.style.use(['dark_background'])\n",
        "sns.histplot(data = recency_df, x ='Recency')\n",
        "plt.gcf().set_size_inches(16.5, 3)"
      ],
      "metadata": {
        "id": "sJs7tb0W1VZY"
      },
      "execution_count": null,
      "outputs": []
    },
    {
      "cell_type": "code",
      "source": [
        "frequency_df"
      ],
      "metadata": {
        "id": "z9EHI6_TGvWZ"
      },
      "execution_count": null,
      "outputs": []
    },
    {
      "cell_type": "code",
      "source": [
        "frequency_df = purchase_data.copy()\n",
        "frequency_df.drop_duplicates(subset=['user_id', 'user_session'],keep = \"first\", inplace=True)\n",
        "frequency_df = frequency_df.groupby(\"user_id\", as_index = False)[\"user_session\"].count() # 중복되는 값중 제일 첫번째로 나온 값이 출력\n",
        "frequency_df.columns = ['user_id', 'Frequency']\n",
        "frequency_df.sort_values(by= 'Frequency',ascending=False).head()\n"
      ],
      "metadata": {
        "id": "AYe7lNG-29AB"
      },
      "execution_count": null,
      "outputs": []
    },
    {
      "cell_type": "code",
      "source": [
        "def extract_categorycode(input_text,level=0):\n",
        "    '''\n",
        "     this function splits category code and returns the first part.\n",
        "    '''\n",
        "    output_text=input_text.split('.')[level]\n",
        "    return output_text\n",
        "\n",
        "def create_clusters(input_data_frame,input_columns,n_cluster):\n",
        "    '''\n",
        "     This function creates clusters and cluster labels.\n",
        "    '''\n",
        "    from sklearn.cluster import KMeans\n",
        "    X=input_data_frame[input_columns].values\n",
        "    k_means=KMeans(n_clusters=n_cluster,random_state=15).fit(X)\n",
        "    return k_means.labels_"
      ],
      "metadata": {
        "id": "7oG026wGaoRB"
      },
      "execution_count": null,
      "outputs": []
    },
    {
      "cell_type": "code",
      "source": [
        "#creating a summary table for general overview\n",
        "daily_summary_table=sampled_data.groupby(by=[sampled_data['event_time'].dt.normalize()]).agg(Number_of_daily_visits=('user_session',lambda x: x.nunique()),\n",
        "                                                                                  Number_of_daily_visitors=('user_id',lambda x: x.nunique())\n",
        "                                                                                  )\n",
        "sales_filter=sampled_data['event_type']=='purchase'\n",
        "sales=sampled_data.loc[sales_filter].groupby(by=[sampled_data['event_time'].dt.normalize()]).agg(number_of_daily_sales=('event_type','count'),\n",
        "                                                                                      Total_daily_sales=('price','sum')\n",
        "                                                                                      ).reset_index()\n",
        "daily_summary_table=pd.merge(left=daily_summary_table,\n",
        "                          right=sales,\n",
        "                          left_on=['event_time'],\n",
        "                          right_on=['event_time'],\n",
        "                          how='left')\n",
        "daily_summary_table['conversion_rate']=daily_summary_table['number_of_daily_sales']/daily_summary_table['Number_of_daily_visits']"
      ],
      "metadata": {
        "id": "A5djNJmOapbm"
      },
      "execution_count": null,
      "outputs": []
    },
    {
      "cell_type": "code",
      "source": [
        "sampled_data.head()"
      ],
      "metadata": {
        "id": "NZ9JEVbwH5zi"
      },
      "execution_count": null,
      "outputs": []
    },
    {
      "cell_type": "code",
      "source": [
        "id_count =sampled_data.groupby(by='user_session')['user_id'].count()\n",
        "id_count = id_count[id_count>1]\n",
        "id_count"
      ],
      "metadata": {
        "id": "a6dl5FE9LjgR"
      },
      "execution_count": null,
      "outputs": []
    },
    {
      "cell_type": "code",
      "source": [
        "sampled_data.drop_duplicates(subset=['user_id', 'user_session'],keep = \"first\", inplace=True)\n"
      ],
      "metadata": {
        "id": "i7V0PBRjLQ31"
      },
      "execution_count": null,
      "outputs": []
    },
    {
      "cell_type": "code",
      "source": [
        "user_id=sampled_data.groupby(by='user_session').agg(user_id=('user_id',lambda x: [x.unique()]))\n"
      ],
      "metadata": {
        "id": "C53sQoAwKUCB"
      },
      "execution_count": null,
      "outputs": []
    },
    {
      "cell_type": "code",
      "source": [
        "greater_than_one = user_id[user_id['user_session'].apply(lambda x: len(x[0])) > 1]\n",
        "\n",
        "# 결과 출력\n",
        "print(greater_than_one)"
      ],
      "metadata": {
        "id": "xJidobl4NHNE"
      },
      "execution_count": null,
      "outputs": []
    },
    {
      "cell_type": "code",
      "source": [
        "sampled_data=sampled_data.groupby(by='user_session').agg(Date_order=('event_time',lambda x: x.max()),\n",
        "                                                  user_id=('user_id',lambda x: x),\n",
        "                                          Quantity=('user_session','count'),\n",
        "                                         money_spent=('price','sum')).reset_index(drop=True)\n",
        "sampled_data"
      ],
      "metadata": {
        "id": "BwX_T1nrapY6"
      },
      "execution_count": null,
      "outputs": []
    },
    {
      "cell_type": "code",
      "source": [
        "import datetime as dt\n",
        "import numpy as np\n",
        "study_date = dt.datetime(2019,11,1)\n",
        "sampled_data=pd.DataFrame(sampled_data)\n",
        "sampled_data['last_purchase']=study_date - sampled_data['Date_order']\n",
        "sampled_data['last_purchase']=sampled_data['last_purchase'] / np.timedelta64(1, 'D')\n",
        "sampled_data.head()"
      ],
      "metadata": {
        "id": "1Y1Dy-WLapV7"
      },
      "execution_count": null,
      "outputs": []
    },
    {
      "cell_type": "code",
      "source": [
        "print(sampled_data.dtypes)"
      ],
      "metadata": {
        "id": "C6VYk4Ife8rF"
      },
      "execution_count": null,
      "outputs": []
    },
    {
      "cell_type": "code",
      "source": [
        "RFM= sampled_data.groupby('user_id').agg(Recency=('last_purchase',lambda x: x.min()),\n",
        "                                 Frequency=('user_id',lambda x: x.count()),\n",
        "                                 Monetary=('money_spent',lambda x: x.sum()))\n",
        "RFM.head()"
      ],
      "metadata": {
        "id": "oMrJ7hCQapSx"
      },
      "execution_count": null,
      "outputs": []
    },
    {
      "cell_type": "code",
      "source": [
        "len(RFM)"
      ],
      "metadata": {
        "id": "3SNY4fwZapPx"
      },
      "execution_count": null,
      "outputs": []
    },
    {
      "cell_type": "code",
      "source": [
        "total_df = pd.merge(product_data, RFM, on='user_id', how='inner')\n",
        "total_df.head()"
      ],
      "metadata": {
        "id": "GWQn4GvaapMl"
      },
      "execution_count": null,
      "outputs": []
    },
    {
      "cell_type": "code",
      "source": [
        "total_df['category_code'].str.split('.',n=1).str[1]"
      ],
      "metadata": {
        "id": "krAKFXMukM9f"
      },
      "execution_count": null,
      "outputs": []
    },
    {
      "cell_type": "code",
      "source": [
        "total_df['main_category']=total_df['category_code'].str.split('.').str[0]\n",
        "total_df['main_category'] = total_df['main_category'].astype('category')\n",
        "total_df['sub_category']=total_df['category_code'].str.split('.',n=1).str[1]\n",
        "total_df['sub_category'] = total_df['sub_category'].astype('category')\n",
        "total_df.drop(columns=['category_code'], inplace=True)\n",
        "total_df"
      ],
      "metadata": {
        "id": "ttvar2PPh-Bh"
      },
      "execution_count": null,
      "outputs": []
    },
    {
      "cell_type": "code",
      "source": [
        "category_list = total_df['category_code'].value_counts().index.tolist()\n",
        "main_category_list = []\n",
        "for main_category in category_list:\n",
        "    main_category_list.append(main_category.split('.')[0])\n",
        "set(main_category_list)"
      ],
      "metadata": {
        "id": "_BovXhhYQXO6"
      },
      "execution_count": null,
      "outputs": []
    },
    {
      "cell_type": "code",
      "source": [
        "# 'main_category', 'sub_category', 'brand' 열에 'none' 카테고리 추가\n",
        "for col in ['main_category', 'sub_category', 'brand']:\n",
        "    if total_df[col].dtype.name == 'category':\n",
        "        total_df[col] = total_df[col].cat.add_categories(\"none\")\n",
        "\n",
        "# NaN 값을 'none'으로 채우기\n",
        "total_df[['main_category', 'sub_category', 'brand']] = total_df[['main_category', 'sub_category', 'brand']].fillna(\"none\")"
      ],
      "metadata": {
        "id": "e_5XbXkSlzkO"
      },
      "execution_count": null,
      "outputs": []
    },
    {
      "cell_type": "code",
      "source": [
        "from sklearn.preprocessing import LabelEncoder\n",
        "from sklearn.preprocessing import MinMaxScaler\n",
        "from sklearn.model_selection import train_test_split\n",
        "def extract_categorycode(input_text,level=0):\n",
        "    '''\n",
        "     this function splits category code and returns the first part.\n",
        "    '''\n",
        "    output_text=input_text.split('.')[level]\n",
        "    return output_text\n",
        "\n",
        "def create_clusters(input_data_frame,input_columns,n_cluster):\n",
        "    '''\n",
        "     This function creates clusters and cluster labels.\n",
        "    '''\n",
        "    from sklearn.cluster import KMeans\n",
        "    X=input_data_frame[input_columns].values\n",
        "    k_means=KMeans(n_clusters=n_cluster,random_state=42).fit(X)\n",
        "    return k_means.labels_"
      ],
      "metadata": {
        "id": "xM7sYwW-QktD"
      },
      "execution_count": null,
      "outputs": []
    },
    {
      "cell_type": "code",
      "source": [
        "from sklearn.preprocessing import LabelEncoder\n",
        "from sklearn.preprocessing import MinMaxScaler\n",
        "from sklearn.model_selection import train_test_split\n",
        "# 날짜 관련 변수 생성\n",
        "total_df['event_date'] = pd.to_datetime(total_df['event_time'])\n",
        "total_df['hour'] = total_df['event_date'].dt.hour\n",
        "total_df['day'] = total_df['event_date'].dt.day\n",
        "total_df['weekday'] = total_df['event_date'].dt.weekday\n",
        "\n",
        "# 범주형 데이터 인코딩\n",
        "total_df['event_type'] = LabelEncoder().fit_transform(total_df['event_type'])\n",
        "total_df['brand'] = LabelEncoder().fit_transform(total_df['brand'])\n",
        "total_df['main_category'] = LabelEncoder().fit_transform(total_df['main_category'])\n",
        "total_df['sub_category'] = LabelEncoder().fit_transform(total_df['sub_category'])\n",
        "\n",
        "# 연속형 변수 스케일링\n",
        "scaler = MinMaxScaler()\n",
        "total_df['price'] = scaler.fit_transform(total_df[['price']])\n",
        "total_df['recency'] = scaler.fit_transform(total_df[['Recency']])\n",
        "total_df['frequency'] = scaler.fit_transform(total_df[['Frequency']])\n",
        "total_df['monetary'] = scaler.fit_transform(total_df[['Monetary']])\n",
        "\n",
        "\n",
        "total_df.head()"
      ],
      "metadata": {
        "id": "SyYtRERBf1Hd"
      },
      "execution_count": null,
      "outputs": []
    },
    {
      "cell_type": "code",
      "source": [
        "total_df['product_id'] = LabelEncoder().fit_transform(total_df['product_id'])\n",
        "total_df['category_id'] = LabelEncoder().fit_transform(total_df['category_id'])\n",
        "total_df.drop(columns=['user_id','user_session'], inplace=True)\n",
        "total_df"
      ],
      "metadata": {
        "id": "FXmjODOxoDvY"
      },
      "execution_count": null,
      "outputs": []
    },
    {
      "cell_type": "code",
      "source": [],
      "metadata": {
        "id": "RJG5gq36oydT"
      },
      "execution_count": null,
      "outputs": []
    }
  ]
}