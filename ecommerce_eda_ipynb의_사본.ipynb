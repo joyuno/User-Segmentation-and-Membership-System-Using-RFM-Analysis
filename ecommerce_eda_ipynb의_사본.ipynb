{
  "cells": [
    {
      "cell_type": "code",
      "execution_count": null,
      "metadata": {
        "id": "_l-nyjglE81v"
      },
      "outputs": [],
      "source": [
        "!pip install kagglehub"
      ]
    },
    {
      "cell_type": "code",
      "execution_count": null,
      "metadata": {
        "colab": {
          "base_uri": "https://localhost:8080/"
        },
        "id": "ToP9LSVBFS--",
        "outputId": "332597ba-b1d7-4a3c-88e9-9d68e33c1eb5"
      },
      "outputs": [
        {
          "name": "stdout",
          "output_type": "stream",
          "text": [
            "Warning: Looks like you're using an outdated `kagglehub` version (installed: 0.3.5), please consider upgrading to the latest version (0.3.6).\n",
            "Downloading from https://www.kaggle.com/api/v1/datasets/download/mkechinov/ecommerce-behavior-data-from-multi-category-store?dataset_version_number=8...\n"
          ]
        },
        {
          "name": "stderr",
          "output_type": "stream",
          "text": [
            "100%|██████████| 4.29G/4.29G [02:21<00:00, 32.5MB/s]"
          ]
        },
        {
          "name": "stdout",
          "output_type": "stream",
          "text": [
            "Extracting files...\n"
          ]
        },
        {
          "name": "stderr",
          "output_type": "stream",
          "text": [
            "\n"
          ]
        },
        {
          "name": "stdout",
          "output_type": "stream",
          "text": [
            "Path to dataset files: /root/.cache/kagglehub/datasets/mkechinov/ecommerce-behavior-data-from-multi-category-store/versions/8\n"
          ]
        }
      ],
      "source": [
        "import kagglehub\n",
        "\n",
        "# Download latest version\n",
        "path = kagglehub.dataset_download(\"mkechinov/ecommerce-behavior-data-from-multi-category-store\")\n",
        "\n",
        "print(\"Path to dataset files:\", path)"
      ]
    },
    {
      "cell_type": "code",
      "execution_count": null,
      "metadata": {
        "colab": {
          "base_uri": "https://localhost:8080/"
        },
        "id": "rbiZH9XtFS8t",
        "outputId": "4478d92e-fcfa-427c-b133-fb78d97bfc2d"
      },
      "outputs": [
        {
          "data": {
            "text/plain": [
              "['2019-Oct.csv', '2019-Nov.csv']"
            ]
          },
          "execution_count": 3,
          "metadata": {},
          "output_type": "execute_result"
        }
      ],
      "source": [
        "import os\n",
        "#path = \"C:/Users/User/.cache/kagglehub/datasets/mkechinov/ecommerce-behavior-data-from-multi-category-store/versions/8\"\n",
        "os.listdir(path)"
      ]
    },
    {
      "cell_type": "code",
      "execution_count": null,
      "metadata": {
        "id": "2YeXcunnFeZ6"
      },
      "outputs": [],
      "source": [
        "path2 = os.path.join(path, '2019-Oct.csv')"
      ]
    },
    {
      "cell_type": "code",
      "execution_count": null,
      "metadata": {
        "id": "31rKtcN81GBb"
      },
      "outputs": [],
      "source": [
        "product_id"
      ]
    },
    {
      "cell_type": "code",
      "execution_count": null,
      "metadata": {
        "colab": {
          "base_uri": "https://localhost:8080/"
        },
        "id": "wPAWtuP5FS5h",
        "outputId": "0d36043a-7651-4d15-9597-999b6e56d797"
      },
      "outputs": [
        {
          "name": "stdout",
          "output_type": "stream",
          "text": [
            "                       event_time event_type  product_id          category_id  \\\n",
            "10257365  2019-10-09 02:46:19 UTC       view    29900078  2059484601444729123   \n",
            "28875143  2019-10-21 16:17:11 UTC       view     1801805  2053013554415534427   \n",
            "28709595  2019-10-21 14:42:20 UTC       cart     1004870  2053013555631882655   \n",
            "3458568   2019-10-03 18:40:22 UTC       view     5701087  2053013553970938175   \n",
            "25352815  2019-10-19 08:58:51 UTC       view     5300097  2053013563173241677   \n",
            "...                           ...        ...         ...                  ...   \n",
            "30886606  2019-10-23 06:08:37 UTC       view     1004836  2053013555631882655   \n",
            "31268671  2019-10-23 11:10:35 UTC       view    26800029  2053013564641248165   \n",
            "30103947  2019-10-22 14:18:49 UTC       view     1480451  2053013561092866779   \n",
            "24512365  2019-10-18 16:22:10 UTC       view    28712327  2053013565639492569   \n",
            "29557412  2019-10-22 07:09:07 UTC       view     2600468  2053013563970159485   \n",
            "\n",
            "                    category_code      brand    price    user_id  \\\n",
            "10257365                      NaN       peda  1647.40  532353313   \n",
            "28875143     electronics.video.tv      artel   231.60  536042235   \n",
            "28709595   electronics.smartphone    samsung   284.02  517143806   \n",
            "3458568   auto.accessories.player        jvc    51.48  556492770   \n",
            "25352815                      NaN  remington    39.87  561838859   \n",
            "...                           ...        ...      ...        ...   \n",
            "30886606   electronics.smartphone    samsung   224.15  535054144   \n",
            "31268671                      NaN      genau   611.32  517022503   \n",
            "30103947        computers.desktop     pulser   404.10  550893549   \n",
            "24512365            apparel.shoes      baden    64.61  514754109   \n",
            "29557412                      NaN      flama   116.35  558841252   \n",
            "\n",
            "                                  user_session  \n",
            "10257365  47059489-3a63-4353-9eab-0e239d5cb5aa  \n",
            "28875143  a65ee34b-7701-4b25-95e7-45a1259e747e  \n",
            "28709595  a9ba13a7-afac-41ca-a3bc-016c580908c3  \n",
            "3458568   799d5c0a-e1f3-4f22-b61d-ab78cfed068c  \n",
            "25352815  dd474f7f-0559-41f5-8be0-9d0912cf2b1b  \n",
            "...                                        ...  \n",
            "30886606  c82ec0f8-64f2-49bd-a87b-b4c7090444aa  \n",
            "31268671  8fab28c8-ece9-4c98-942c-67baea6bcc30  \n",
            "30103947  2e710d55-8c89-4bbd-9061-c49c5f54a386  \n",
            "24512365  88d65b05-d319-4180-a2b7-87c1c5488fd8  \n",
            "29557412  d8ac8653-439c-4c4d-b1b1-dadd704f1147  \n",
            "\n",
            "[212244 rows x 9 columns]\n"
          ]
        }
      ],
      "source": [
        "import pandas as pd\n",
        "\n",
        "# Dask 데이터프레임 생성\n",
        "ddf = pd.read_csv(path2)\n",
        "\n",
        "# 랜덤으로 1% 샘플링\n",
        "sampled_data = ddf.sample(frac=0.005, random_state=42)\n",
        "\n",
        "print(sampled_data)"
      ]
    },
    {
      "cell_type": "code",
      "execution_count": null,
      "metadata": {
        "colab": {
          "base_uri": "https://localhost:8080/"
        },
        "id": "YbDW-mAH139y",
        "outputId": "26d1fd8d-65c4-47aa-c863-b43a90f2f554"
      },
      "outputs": [
        {
          "name": "stdout",
          "output_type": "stream",
          "text": [
            "42496\n",
            "125\n",
            "179906\n",
            "587\n",
            "2158\n",
            "205600\n"
          ]
        }
      ],
      "source": [
        "print(sampled_data['product_id'].nunique())\n",
        "print(sampled_data['category_code'].nunique())\n",
        "print(sampled_data['user_id'].nunique())\n",
        "print(sampled_data['category_id'].nunique())\n",
        "print(sampled_data['brand'].nunique())\n",
        "print(sampled_data['user_session'].nunique())"
      ]
    },
    {
      "cell_type": "code",
      "execution_count": null,
      "metadata": {
        "colab": {
          "base_uri": "https://localhost:8080/"
        },
        "id": "8IT2Jyy1lxI_",
        "outputId": "0a72abc3-e8bf-4d7c-eec7-9772bc9975ce"
      },
      "outputs": [
        {
          "name": "stdout",
          "output_type": "stream",
          "text": [
            "product_id\n",
            "1     254875\n",
            "2      45063\n",
            "3      12434\n",
            "4       4280\n",
            "5       1910\n",
            "6        888\n",
            "7        459\n",
            "8        257\n",
            "9        124\n",
            "10        76\n",
            "11        72\n",
            "12        44\n",
            "14        24\n",
            "13        21\n",
            "17        12\n",
            "15        11\n",
            "16         7\n",
            "19         4\n",
            "18         4\n",
            "20         4\n",
            "21         3\n",
            "28         2\n",
            "22         2\n",
            "32         1\n",
            "66         1\n",
            "30         1\n",
            "29         1\n",
            "23         1\n",
            "35         1\n",
            "26         1\n",
            "Name: count, dtype: int64\n",
            "320583\n"
          ]
        }
      ],
      "source": [
        "product_id_list = sampled_data.groupby(\"user_id\")['product_id'].apply(list).reset_index()\n",
        "print(product_id_list['product_id'].apply(len).value_counts())\n",
        "print(product_id_list['product_id'].apply(len).value_counts().sum())"
      ]
    },
    {
      "cell_type": "code",
      "execution_count": null,
      "metadata": {
        "colab": {
          "base_uri": "https://localhost:8080/"
        },
        "id": "zTPj0rc3w3XE",
        "outputId": "a10eee73-fe06-43e7-8a84-96affe909c24"
      },
      "outputs": [
        {
          "name": "stdout",
          "output_type": "stream",
          "text": [
            "product_id_len\n",
            "1    3727\n",
            "2      52\n",
            "4       1\n",
            "Name: count, dtype: int64\n",
            "3780\n"
          ]
        }
      ],
      "source": [
        "sampled_purchase_data = sampled_data.loc[sampled_data['event_type']=='purchase']\n",
        "product_id_list2 = sampled_purchase_data.groupby(\"user_id\")['product_id'].agg(product_id_len=list).reset_index()\n",
        "print(product_id_list2['product_id_len'].apply(len).value_counts())\n",
        "print(product_id_list2['product_id_len'].apply(len).value_counts().sum())"
      ]
    },
    {
      "cell_type": "code",
      "execution_count": null,
      "metadata": {
        "colab": {
          "base_uri": "https://localhost:8080/"
        },
        "id": "AVMvSBUvs9PH",
        "outputId": "792875d7-b349-4000-978b-ace12a913405"
      },
      "outputs": [
        {
          "name": "stdout",
          "output_type": "stream",
          "text": [
            "     product_id         category_code\n",
            "0      20000003            [nan, nan]\n",
            "1      20000090                 [nan]\n",
            "2      20000098       [nan, nan, nan]\n",
            "3      20000099  [nan, nan, nan, nan]\n",
            "4      20000157                 [nan]\n",
            "..          ...                   ...\n",
            "193    20900784                 [nan]\n",
            "194    20900791                 [nan]\n",
            "195    20900808            [nan, nan]\n",
            "196    20900849                 [nan]\n",
            "197    20900850                 [nan]\n",
            "\n",
            "[198 rows x 2 columns]\n"
          ]
        }
      ],
      "source": [
        "filtered_data = sampled_data[sampled_data['product_id'].astype(str).str.startswith('20')]\n",
        "\n",
        "# Step 2: product_id가 20으로 시작하는 데이터의 user_id별 category_code 확인\n",
        "result = filtered_data.groupby('product_id')['category_code'].apply(list).reset_index()\n",
        "result['category_code'].is\n",
        "# 결과 확인\n",
        "print(result)"
      ]
    },
    {
      "cell_type": "code",
      "execution_count": null,
      "metadata": {
        "colab": {
          "base_uri": "https://localhost:8080/"
        },
        "id": "MvfE0QwInk7-",
        "outputId": "b9cbfab9-f516-4d6d-cd76-b3e6d3beeb48"
      },
      "outputs": [
        {
          "name": "stdout",
          "output_type": "stream",
          "text": [
            "     product_id                       category_code\n",
            "85     20200021                   [sport.snowboard]\n",
            "86     20200029                   [sport.snowboard]\n",
            "87     20200065                   [sport.snowboard]\n",
            "88     20200081                   [sport.snowboard]\n",
            "89     20200083                   [sport.snowboard]\n",
            "90     20200124  [sport.snowboard, sport.snowboard]\n",
            "91     20200129  [sport.snowboard, sport.snowboard]\n",
            "92     20200240                   [sport.snowboard]\n",
            "93     20200328  [sport.snowboard, sport.snowboard]\n",
            "94     20200329                   [sport.snowboard]\n",
            "95     20200347                   [sport.snowboard]\n",
            "96     20200348                   [sport.snowboard]\n",
            "97     20200367                   [sport.snowboard]\n",
            "98     20200369                   [sport.snowboard]\n",
            "99     20200371                   [sport.snowboard]\n",
            "100    20200400                   [sport.snowboard]\n",
            "101    20400018                     [apparel.shoes]\n",
            "102    20400108                     [apparel.shoes]\n",
            "103    20400213                     [apparel.shoes]\n",
            "104    20400462                     [apparel.shoes]\n",
            "105    20400504                     [apparel.shoes]\n",
            "106    20500132                         [sport.ski]\n",
            "107    20500142                         [sport.ski]\n",
            "108    20500211                         [sport.ski]\n",
            "109    20500321                         [sport.ski]\n",
            "110    20500363                         [sport.ski]\n",
            "111    20500420                         [sport.ski]\n",
            "112    20500479                         [sport.ski]\n",
            "114    20700031                     [apparel.shoes]\n",
            "115    20700035                     [apparel.shoes]\n",
            "116    20700146      [apparel.shoes, apparel.shoes]\n",
            "117    20700222                     [apparel.shoes]\n",
            "118    20700289                     [apparel.shoes]\n",
            "119    20700453                     [apparel.shoes]\n",
            "120    20700553                     [apparel.shoes]\n"
          ]
        }
      ],
      "source": [
        "filtered_result = result[result['category_code'].apply(lambda x: not any(pd.isna(i) for i in x))]\n",
        "\n",
        "# 결과 확인\n",
        "print(filtered_result)\n",
        "filtered_result['category_code'].str.split('.')"
      ]
    },
    {
      "cell_type": "code",
      "execution_count": null,
      "metadata": {
        "colab": {
          "base_uri": "https://localhost:8080/"
        },
        "id": "iZ4vCGbLz1f8",
        "outputId": "5c6d24c3-fb68-4ef4-acd7-b63a90fb9ed6"
      },
      "outputs": [
        {
          "data": {
            "text/plain": [
              "array(['sport', 'apparel'], dtype=object)"
            ]
          },
          "execution_count": 21,
          "metadata": {},
          "output_type": "execute_result"
        }
      ],
      "source": [
        "category_main=filtered_result['category_code'].apply(lambda x: x[0].split('.')[0])\n",
        "category_main.unique()"
      ]
    },
    {
      "cell_type": "code",
      "execution_count": null,
      "metadata": {
        "id": "Uo1pAExaFS2r"
      },
      "outputs": [],
      "source": [
        "print(sampled_data.head())\n",
        "print(sampled_data.shape)\n",
        "print(sampled_data.info())\n",
        "print(sampled_data.columns)\n",
        "visitor = sampled_data['user_id'].nunique()\n",
        "print(\"visitors: {}\".format(visitor))"
      ]
    },
    {
      "cell_type": "code",
      "execution_count": null,
      "metadata": {
        "colab": {
          "base_uri": "https://localhost:8080/"
        },
        "id": "8aDfqReTFS0S",
        "outputId": "31223e39-af9f-43ea-84ef-bb2d3c25c35f"
      },
      "outputs": [
        {
          "name": "stderr",
          "output_type": "stream",
          "text": [
            "<ipython-input-15-48d71d9e0706>:4: SettingWithCopyWarning: \n",
            "A value is trying to be set on a copy of a slice from a DataFrame.\n",
            "Try using .loc[row_indexer,col_indexer] = value instead\n",
            "\n",
            "See the caveats in the documentation: https://pandas.pydata.org/pandas-docs/stable/user_guide/indexing.html#returning-a-view-versus-a-copy\n",
            "  sampled_data['event_time'] = pd.to_datetime(sampled_data['event_time']).dt.tz_convert(None)\n"
          ]
        }
      ],
      "source": [
        "import pandas as pd\n",
        "#sampled_data = ddf.sample(frac=0.01, random_state=42)\n",
        "sampled_data=sampled_data.loc[sampled_data.event_type == 'purchase']\n",
        "sampled_data['event_time'] = pd.to_datetime(sampled_data['event_time']).dt.tz_convert(None)"
      ]
    },
    {
      "cell_type": "code",
      "execution_count": null,
      "metadata": {
        "id": "_IIqtvm-GzV-"
      },
      "outputs": [],
      "source": [
        "sampled_data.reset_index(drop=True, inplace=True)\n"
      ]
    },
    {
      "cell_type": "code",
      "execution_count": null,
      "metadata": {
        "id": "dCMXEik9FsFZ"
      },
      "outputs": [],
      "source": [
        "sampled_data.dtypes"
      ]
    },
    {
      "cell_type": "code",
      "execution_count": null,
      "metadata": {
        "id": "lDk2zla5F5OZ"
      },
      "outputs": [],
      "source": [
        "usecols=['event_time','event_type','price','user_id','user_session']\n",
        "product_data = sampled_data.copy()\n",
        "sampled_data = sampled_data[usecols]"
      ]
    },
    {
      "cell_type": "code",
      "execution_count": null,
      "metadata": {
        "id": "nCFJqve3FSxc"
      },
      "outputs": [],
      "source": [
        "sampled_data.head()"
      ]
    },
    {
      "cell_type": "code",
      "execution_count": null,
      "metadata": {
        "id": "bT9ueaGuXv7L"
      },
      "outputs": [],
      "source": [
        "print([(column,sampled_data[column].nunique()) for column in sampled_data.columns])"
      ]
    },
    {
      "cell_type": "markdown",
      "metadata": {
        "id": "Yl2MFVaqi5Ff"
      },
      "source": [
        "###날짜별 고객수 추이"
      ]
    },
    {
      "cell_type": "code",
      "execution_count": null,
      "metadata": {
        "id": "HxminKvEFSuy"
      },
      "outputs": [],
      "source": [
        "visitor_by_date = sampled_data[['user_id', 'date']].drop_duplicates().groupby('date').count().sort_values(by='date', ascending=True)"
      ]
    },
    {
      "cell_type": "code",
      "execution_count": null,
      "metadata": {
        "id": "3Lc2A1i2bv0m"
      },
      "outputs": [],
      "source": [
        "visitor_by_date"
      ]
    },
    {
      "cell_type": "code",
      "execution_count": null,
      "metadata": {
        "id": "R4P9E9cuFSrb"
      },
      "outputs": [],
      "source": [
        "import matplotlib.pyplot as plt\n",
        "x= pd.Series(visitor_by_date.index.values)\n",
        "y= visitor_by_date[\"user_id\"]\n",
        "plt.rcParams[\"figure.figsize\"]=(20,8)\n",
        "plt.plot(x,y)\n",
        "plt.xticks(rotation = 45)"
      ]
    },
    {
      "cell_type": "code",
      "execution_count": null,
      "metadata": {
        "id": "8vQEUWBLdVE7"
      },
      "outputs": [],
      "source": [
        "product_by_date = sampled_data[['product_id', 'date']].groupby('date').count().sort_values(by='date', ascending=True) # 날짜별 product 갯수\n",
        "price_by_date = sampled_data[['price', 'date']].groupby('date').mean().sort_values(by='date', ascending=True) # 날짜별 price 평균"
      ]
    },
    {
      "cell_type": "markdown",
      "metadata": {
        "id": "RUauiCdli_CZ"
      },
      "source": [
        "### 날짜별 총판매 추이\n"
      ]
    },
    {
      "cell_type": "code",
      "execution_count": null,
      "metadata": {
        "id": "cwSqqfGghwPo"
      },
      "outputs": [],
      "source": [
        "total_profit=pd.DataFrame(product_by_date['product_id']*price_by_date['price'])\n",
        "total_profit.columns=['total_profit']\n",
        "plt.rcParams[\"figure.figsize\"]=(20,8)\n",
        "plt.plot(total_profit.index.values, total_profit['total_profit'])"
      ]
    },
    {
      "cell_type": "code",
      "execution_count": null,
      "metadata": {
        "id": "hEHDxHYTraIc"
      },
      "outputs": [],
      "source": [
        "purchase_data = sampled_data.loc[sampled_data['event_type'] == 'purchase',:]"
      ]
    },
    {
      "cell_type": "code",
      "execution_count": null,
      "metadata": {
        "id": "12HFZKiqr8Uf"
      },
      "outputs": [],
      "source": [
        "purchase_data.reset_index(drop=True).head(5)"
      ]
    },
    {
      "cell_type": "code",
      "execution_count": null,
      "metadata": {
        "id": "IJLvo0cAnb-Z"
      },
      "outputs": [],
      "source": [
        "product_price_map = purchase_data.groupby('product_id')['price'].mean().reset_index()\n"
      ]
    },
    {
      "cell_type": "code",
      "execution_count": null,
      "metadata": {
        "id": "8OuSV-VHtWV4"
      },
      "outputs": [],
      "source": [
        "product_price_map"
      ]
    },
    {
      "cell_type": "code",
      "execution_count": null,
      "metadata": {
        "id": "z1eLXm0Tqlg-"
      },
      "outputs": [],
      "source": [
        "top_10_df = purchase_data.groupby('product_id').count().reset_index()[['product_id', 'date']]"
      ]
    },
    {
      "cell_type": "code",
      "execution_count": null,
      "metadata": {
        "id": "cmmnOObmsmog"
      },
      "outputs": [],
      "source": [
        "top_10_df.columns = ['product_id', 'count']\n",
        "top_10_df"
      ]
    },
    {
      "cell_type": "code",
      "execution_count": null,
      "metadata": {
        "id": "1rSDqdHki3bf"
      },
      "outputs": [],
      "source": [
        "top_10_df = pd.merge(top_10_df, product_price_map, on='product_id', how='outer')\n",
        "top_10_df['total_profit'] = top_10_df['count'] * top_10_df['price']\n",
        "top_10_df.sort_values(by='total_profit', ascending=False, inplace=True)\n",
        "top_10_df.head(10)"
      ]
    },
    {
      "cell_type": "code",
      "execution_count": null,
      "metadata": {
        "id": "_m8UDajSmEpD"
      },
      "outputs": [],
      "source": [
        "top_10_df.isnull().sum()\n",
        "top_10_df.reset_index(drop=True, inplace=True)"
      ]
    },
    {
      "cell_type": "code",
      "execution_count": null,
      "metadata": {
        "id": "7QKwtY7myqgl"
      },
      "outputs": [],
      "source": [
        "purchase_data"
      ]
    },
    {
      "cell_type": "code",
      "execution_count": null,
      "metadata": {
        "id": "6mGLDBMVwKdA"
      },
      "outputs": [],
      "source": [
        "fig, axes = plt.subplots(2, 5, figsize=(20, 10))\n",
        "axes = axes.flatten()\n",
        "for idx, product_id in enumerate(top_10_df.loc[:9,\"product_id\"]):\n",
        "    product_daily_price = purchase_data.loc[purchase_data['product_id'] == product_id, ['date', 'price']].groupby(['date']).mean()\n",
        "\n",
        "        # x, y 값 생성\n",
        "    x = pd.Series(product_daily_price.index.values)\n",
        "    y = product_daily_price['price']\n",
        "\n",
        "    axes[idx].plot(x, y, marker='o')\n",
        "    axes[idx].set_title(f\"Product ID: {product_id}\")\n",
        "    axes[idx].set_xlabel(\"Date\")\n",
        "    axes[idx].set_ylabel(\"Price\")\n",
        "    axes[idx].tick_params(axis='x', rotation=45)\n",
        "\n",
        "# 레이아웃 조정 및 출력\n",
        "plt.tight_layout()\n",
        "plt.show()"
      ]
    },
    {
      "cell_type": "code",
      "execution_count": null,
      "metadata": {
        "id": "dzrsWP3yvWZT"
      },
      "outputs": [],
      "source": [
        "purchase_data['event_time'] = pd.to_datetime(purchase_data['event_time']).dt.tz_convert(None)\n",
        "purchase_data['event_time'].min(), purchase_data['event_time'].max()"
      ]
    },
    {
      "cell_type": "code",
      "execution_count": null,
      "metadata": {
        "id": "m5y0GvwvwB4y"
      },
      "outputs": [],
      "source": [
        "purchase_data['event_type']=purchase_data['event_type'].astype('category')\n",
        "purchase_data['category_code']=purchase_data['category_code'].astype('category')"
      ]
    },
    {
      "cell_type": "code",
      "execution_count": null,
      "metadata": {
        "id": "1LRXIjyEBd4V"
      },
      "outputs": [],
      "source": [
        "usecols=['event_time','event_type','price','user_id','user_session']"
      ]
    },
    {
      "cell_type": "code",
      "execution_count": null,
      "metadata": {
        "id": "hf2hEvFwAk3k"
      },
      "outputs": [],
      "source": [
        "purchase_data = purchase_data[usecols]"
      ]
    },
    {
      "cell_type": "code",
      "execution_count": null,
      "metadata": {
        "id": "LX7B_GU_B68P"
      },
      "outputs": [],
      "source": [
        "purchase_data.dtypes"
      ]
    },
    {
      "cell_type": "code",
      "execution_count": null,
      "metadata": {
        "id": "4lj3qDBovwut"
      },
      "outputs": [],
      "source": [
        "purchase_data=purchase_data[usecols].groupby('user_session').agg(Date_order=('event_time',lambda x: x.max()),\n",
        "                                                  user_id=('user_id',lambda x: x.unique()),\n",
        "                                          Quantity=('user_session','count'),\n",
        "                                         money_spent=('price','sum')).reset_index(drop=True)"
      ]
    },
    {
      "cell_type": "code",
      "execution_count": null,
      "metadata": {
        "id": "a5OdIYrLyaVC"
      },
      "outputs": [],
      "source": [
        "import datetime as dt\n",
        "import numpy as np\n",
        "study_date = dt.datetime(2019,11,1)\n",
        "purchase_data=pd.DataFrame(purchase_data)\n",
        "purchase_data['last_purchase']=study_date - purchase_data['Date_order']\n",
        "purchase_data['last_purchase'].astype('timedelta64[D]')\n",
        "purchase_data['last_purchase']=purchase_data['last_purchase'] / np.timedelta64(1, 'D')\n",
        "purchase_data.head()"
      ]
    },
    {
      "cell_type": "code",
      "execution_count": null,
      "metadata": {
        "id": "gIuWOO1gzKIP"
      },
      "outputs": [],
      "source": [
        "recency_df.sort_values(by='Recency', ascending=False)"
      ]
    },
    {
      "cell_type": "code",
      "execution_count": null,
      "metadata": {
        "id": "sJs7tb0W1VZY"
      },
      "outputs": [],
      "source": [
        "import seaborn as sns\n",
        "%matplotlib inline\n",
        "plt.style.use(['dark_background'])\n",
        "sns.histplot(data = recency_df, x ='Recency')\n",
        "plt.gcf().set_size_inches(16.5, 3)"
      ]
    },
    {
      "cell_type": "code",
      "execution_count": null,
      "metadata": {
        "id": "z9EHI6_TGvWZ"
      },
      "outputs": [],
      "source": [
        "frequency_df"
      ]
    },
    {
      "cell_type": "code",
      "execution_count": null,
      "metadata": {
        "id": "AYe7lNG-29AB"
      },
      "outputs": [],
      "source": [
        "frequency_df = purchase_data.copy()\n",
        "frequency_df.drop_duplicates(subset=['user_id', 'user_session'],keep = \"first\", inplace=True)\n",
        "frequency_df = frequency_df.groupby(\"user_id\", as_index = False)[\"user_session\"].count() # 중복되는 값중 제일 첫번째로 나온 값이 출력\n",
        "frequency_df.columns = ['user_id', 'Frequency']\n",
        "frequency_df.sort_values(by= 'Frequency',ascending=False).head()\n"
      ]
    },
    {
      "cell_type": "code",
      "execution_count": null,
      "metadata": {
        "id": "7oG026wGaoRB"
      },
      "outputs": [],
      "source": [
        "def extract_categorycode(input_text,level=0):\n",
        "    '''\n",
        "     this function splits category code and returns the first part.\n",
        "    '''\n",
        "    output_text=input_text.split('.')[level]\n",
        "    return output_text\n",
        "\n",
        "def create_clusters(input_data_frame,input_columns,n_cluster):\n",
        "    '''\n",
        "     This function creates clusters and cluster labels.\n",
        "    '''\n",
        "    from sklearn.cluster import KMeans\n",
        "    X=input_data_frame[input_columns].values\n",
        "    k_means=KMeans(n_clusters=n_cluster,random_state=15).fit(X)\n",
        "    return k_means.labels_"
      ]
    },
    {
      "cell_type": "code",
      "execution_count": null,
      "metadata": {
        "id": "A5djNJmOapbm"
      },
      "outputs": [],
      "source": [
        "#creating a summary table for general overview\n",
        "daily_summary_table=sampled_data.groupby(by=[sampled_data['event_time'].dt.normalize()]).agg(Number_of_daily_visits=('user_session',lambda x: x.nunique()),\n",
        "                                                                                  Number_of_daily_visitors=('user_id',lambda x: x.nunique())\n",
        "                                                                                  )\n",
        "sales_filter=sampled_data['event_type']=='purchase'\n",
        "sales=sampled_data.loc[sales_filter].groupby(by=[sampled_data['event_time'].dt.normalize()]).agg(number_of_daily_sales=('event_type','count'),\n",
        "                                                                                      Total_daily_sales=('price','sum')\n",
        "                                                                                      ).reset_index()\n",
        "daily_summary_table=pd.merge(left=daily_summary_table,\n",
        "                          right=sales,\n",
        "                          left_on=['event_time'],\n",
        "                          right_on=['event_time'],\n",
        "                          how='left')\n",
        "daily_summary_table['conversion_rate']=daily_summary_table['number_of_daily_sales']/daily_summary_table['Number_of_daily_visits']"
      ]
    },
    {
      "cell_type": "code",
      "execution_count": null,
      "metadata": {
        "id": "NZ9JEVbwH5zi"
      },
      "outputs": [],
      "source": [
        "sampled_data.head()"
      ]
    },
    {
      "cell_type": "code",
      "execution_count": null,
      "metadata": {
        "id": "a6dl5FE9LjgR"
      },
      "outputs": [],
      "source": [
        "id_count =sampled_data.groupby(by='user_session')['user_id'].count()\n",
        "id_count = id_count[id_count>1]\n",
        "id_count"
      ]
    },
    {
      "cell_type": "code",
      "execution_count": null,
      "metadata": {
        "id": "C53sQoAwKUCB"
      },
      "outputs": [],
      "source": [
        "user_id=sampled_data.groupby(by='user_session').agg(user_id=('user_id',lambda x: [x.unique()]))\n"
      ]
    },
    {
      "cell_type": "code",
      "execution_count": null,
      "metadata": {
        "id": "xJidobl4NHNE"
      },
      "outputs": [],
      "source": [
        "greater_than_one = user_id[user_id['user_session'].apply(lambda x: len(x[0])) > 1]\n",
        "\n",
        "# 결과 출력\n",
        "print(greater_than_one)"
      ]
    },
    {
      "cell_type": "markdown",
      "metadata": {
        "id": "SH2MgLmb8oY4"
      },
      "source": [
        "##RFM"
      ]
    },
    {
      "cell_type": "code",
      "execution_count": null,
      "metadata": {
        "id": "i7V0PBRjLQ31"
      },
      "outputs": [],
      "source": [
        "sampled_data.drop_duplicates(subset=['user_id', 'user_session'],keep = \"first\", inplace=True)\n"
      ]
    },
    {
      "cell_type": "code",
      "execution_count": null,
      "metadata": {
        "id": "BwX_T1nrapY6"
      },
      "outputs": [],
      "source": [
        "sampled_data=sampled_data.groupby(by='user_session').agg(Date_order=('event_time',lambda x: x.max()),\n",
        "                                                  user_id=('user_id',lambda x: x),\n",
        "                                          Quantity=('user_session','count'),\n",
        "                                         money_spent=('price','sum')).reset_index(drop=True)\n",
        "sampled_data"
      ]
    },
    {
      "cell_type": "code",
      "execution_count": null,
      "metadata": {
        "id": "1Y1Dy-WLapV7"
      },
      "outputs": [],
      "source": [
        "import datetime as dt\n",
        "import numpy as np\n",
        "study_date = dt.datetime(2019,11,1)\n",
        "sampled_data=pd.DataFrame(sampled_data)\n",
        "sampled_data['last_purchase']=study_date - sampled_data['Date_order']\n",
        "sampled_data['last_purchase']=sampled_data['last_purchase'] / np.timedelta64(1, 'D')\n",
        "sampled_data.head()"
      ]
    },
    {
      "cell_type": "code",
      "execution_count": null,
      "metadata": {
        "id": "C6VYk4Ife8rF"
      },
      "outputs": [],
      "source": [
        "print(sampled_data.dtypes)"
      ]
    },
    {
      "cell_type": "code",
      "execution_count": null,
      "metadata": {
        "id": "oMrJ7hCQapSx"
      },
      "outputs": [],
      "source": [
        "RFM= sampled_data.groupby('user_id').agg(Recency=('last_purchase',lambda x: x.min()),\n",
        "                                 Frequency=('user_id',lambda x: x.count()),\n",
        "                                 Monetary=('money_spent',lambda x: x.sum()))\n",
        "RFM.head()"
      ]
    },
    {
      "cell_type": "code",
      "execution_count": null,
      "metadata": {
        "id": "3SNY4fwZapPx"
      },
      "outputs": [],
      "source": [
        "len(RFM)"
      ]
    },
    {
      "cell_type": "code",
      "execution_count": null,
      "metadata": {
        "id": "GWQn4GvaapMl"
      },
      "outputs": [],
      "source": [
        "total_df = pd.merge(product_data, RFM, on='user_id', how='inner')\n",
        "total_df.head()"
      ]
    },
    {
      "cell_type": "code",
      "execution_count": null,
      "metadata": {
        "id": "krAKFXMukM9f"
      },
      "outputs": [],
      "source": [
        "total_df['category_code'].str.split('.',n=1).str[1]"
      ]
    },
    {
      "cell_type": "code",
      "execution_count": null,
      "metadata": {
        "id": "ttvar2PPh-Bh"
      },
      "outputs": [],
      "source": [
        "total_df['main_category']=total_df['category_code'].str.split('.').str[0]\n",
        "total_df['main_category'] = total_df['main_category'].astype('category')\n",
        "total_df['sub_category']=total_df['category_code'].str.split('.',n=1).str[1]\n",
        "total_df['sub_category'] = total_df['sub_category'].astype('category')\n",
        "total_df.drop(columns=['category_code'], inplace=True)\n",
        "total_df"
      ]
    },
    {
      "cell_type": "code",
      "execution_count": null,
      "metadata": {
        "id": "e_5XbXkSlzkO"
      },
      "outputs": [],
      "source": [
        "# 'main_category', 'sub_category', 'brand' 열에 'none' 카테고리 추가\n",
        "for col in ['main_category', 'sub_category', 'brand']:\n",
        "    if total_df[col].dtype.name == 'category':\n",
        "        total_df[col] = total_df[col].cat.add_categories(\"none\")\n",
        "\n",
        "# NaN 값을 'none'으로 채우기\n",
        "total_df[['main_category', 'sub_category', 'brand']] = total_df[['main_category', 'sub_category', 'brand']].fillna(\"none\")"
      ]
    },
    {
      "cell_type": "code",
      "execution_count": null,
      "metadata": {
        "id": "RJG5gq36oydT"
      },
      "outputs": [],
      "source": [
        "import matplotlib.pyplot as plt\n",
        "import squarify\n",
        "top_category_n = 15\n",
        "top_main_category = total_df['main_category'].value_counts()[:top_category_n].sort_values(ascending=False)\n",
        "df = pd.DataFrame({'count':top_main_category, 'top_main_category':top_main_category })\n",
        "plt.figure(figsize=(20, 8))\n",
        "squarify.plot(sizes=top_main_category, label=top_main_category.index.array, color=[\"red\",\"cyan\",\"green\",\"orange\",\"blue\",\"grey\"], alpha=.7  )\n",
        "plt.axis('off')\n",
        "plt.show()"
      ]
    },
    {
      "cell_type": "code",
      "execution_count": null,
      "metadata": {
        "id": "9fYuE_zZ_CIm"
      },
      "outputs": [],
      "source": [
        "top_category_n = 20\n",
        "top_sub_category = total_df['sub_category'].value_counts()[:top_category_n].sort_values(ascending=False)\n",
        "df = pd.DataFrame({'count':top_sub_category, 'top_sub_category':top_sub_category })\n",
        "plt.figure(figsize=(20, 8))\n",
        "squarify.plot(sizes=top_sub_category, label=top_sub_category.index.array, color=[\"red\",\"cyan\",\"green\",\"orange\",\"blue\",\"grey\"], alpha=.7  )\n",
        "plt.axis('off')\n",
        "plt.show()"
      ]
    },
    {
      "cell_type": "code",
      "execution_count": null,
      "metadata": {
        "id": "xM7sYwW-QktD"
      },
      "outputs": [],
      "source": [
        "#from sklearn.preprocessing import LabelEncoder\n",
        "#from sklearn.preprocessing import MinMaxScaler\n",
        "#from sklearn.model_selection import train_test_split\n",
        "#def extract_categorycode(input_text,level=0):\n",
        "#    '''\n",
        "#     this function splits category code and returns the first part.\n",
        "#    '''\n",
        "#    output_text=input_text.split('.')[level]\n",
        "#    return output_text\n",
        "#\n",
        "#def create_clusters(input_data_frame,input_columns,n_cluster):\n",
        "#    '''\n",
        "#     This function creates clusters and cluster labels.\n",
        "#    '''\n",
        "#    from sklearn.cluster import KMeans\n",
        "#    X=input_data_frame[input_columns].values\n",
        "#    k_means=KMeans(n_clusters=n_cluster,random_state=42).fit(X)\n",
        "#    return k_means.labels_"
      ]
    },
    {
      "cell_type": "code",
      "execution_count": null,
      "metadata": {
        "id": "SyYtRERBf1Hd"
      },
      "outputs": [],
      "source": [
        "from sklearn.preprocessing import LabelEncoder\n",
        "from sklearn.preprocessing import MinMaxScaler\n",
        "from sklearn.model_selection import train_test_split\n",
        "# 날짜 관련 변수 생성\n",
        "total_df['event_date'] = pd.to_datetime(total_df['event_time'])\n",
        "total_df['hour'] = total_df['event_date'].dt.hour\n",
        "total_df['day'] = total_df['event_date'].dt.day\n",
        "total_df['weekday'] = total_df['event_date'].dt.weekday\n",
        "\n",
        "# 범주형 데이터 인코딩\n",
        "total_df['event_type'] = LabelEncoder().fit_transform(total_df['event_type'])\n",
        "total_df['brand'] = LabelEncoder().fit_transform(total_df['brand'])\n",
        "total_df['main_category'] = LabelEncoder().fit_transform(total_df['main_category'])\n",
        "total_df['sub_category'] = LabelEncoder().fit_transform(total_df['sub_category'])\n",
        "\n",
        "# 연속형 변수 스케일링\n",
        "scaler = MinMaxScaler()\n",
        "cluster_df = pd.DataFrame(columns = ['price','recency', 'frequency', 'monetary'])\n",
        "cluster_df['price'] = pd.Series(scaler.fit_transform(total_df[['price']]).flatten(), index=total_df.index)\n",
        "cluster_df['recency'] = scaler.fit_transform(total_df[['Recency']])\n",
        "cluster_df['frequency'] = scaler.fit_transform(total_df[['Frequency']])\n",
        "cluster_df['monetary'] = scaler.fit_transform(total_df[['Monetary']])\n",
        "cluster_df['main_category'] = total_df['main_category']\n",
        "cluster_df['sub_category'] = total_df['sub_category']\n",
        "\n",
        "total_df.head()"
      ]
    },
    {
      "cell_type": "code",
      "execution_count": null,
      "metadata": {
        "id": "FXmjODOxoDvY"
      },
      "outputs": [],
      "source": [
        "cluster_df = pd.get_dummies(cluster_df, columns = [\"main_category\",'sub_category'])\n",
        "\n",
        "cluster_df\n"
      ]
    },
    {
      "cell_type": "code",
      "execution_count": null,
      "metadata": {
        "id": "0eK_FYpzI5hI"
      },
      "outputs": [],
      "source": [
        "cluster_df['frequency'].value_counts()"
      ]
    },
    {
      "cell_type": "code",
      "execution_count": null,
      "metadata": {
        "id": "e6cdsrdJ_pXa"
      },
      "outputs": [],
      "source": [
        "from sklearn.cluster import KMeans\n",
        "k_range = range(1, 11)  # 클러스터 개수 1~10\n",
        "inertia = []  # 관성을 저장할 리스트\n",
        "\n",
        "# 각 클러스터 수에 대해 K-means 실행\n",
        "for k in k_range:\n",
        "    kmeans = KMeans(n_clusters=k, random_state=42)\n",
        "    kmeans.fit(cluster_df)\n",
        "    inertia.append(kmeans.inertia_)  # 관성 저장\n",
        "\n",
        "# Elbow Method 그래프 그리기\n",
        "plt.figure(figsize=(8, 6))\n",
        "plt.plot(k_range, inertia, marker='o')\n",
        "plt.title('Elbow Method for Optimal k', fontsize=16)\n",
        "plt.xlabel('Number of Clusters (k)', fontsize=14)\n",
        "plt.ylabel('Inertia', fontsize=14)\n",
        "plt.xticks(k_range)\n",
        "plt.grid(True)\n",
        "plt.show()"
      ]
    },
    {
      "cell_type": "code",
      "execution_count": null,
      "metadata": {
        "id": "h_7DrGMFMv36"
      },
      "outputs": [],
      "source": [
        "k_range = range(2, 11)\n",
        "silhouette_scores = []\n",
        "from sklearn.metrics import silhouette_score\n",
        "# K-means 실행 및 실루엣 점수 계산\n",
        "for k in k_range:\n",
        "    kmeans = KMeans(n_clusters=k, random_state=42)\n",
        "    labels = kmeans.fit_predict(cluster_df)\n",
        "    score = silhouette_score(cluster_df, labels)\n",
        "    silhouette_scores.append(score)\n",
        "\n",
        "# 실루엣 점수 그래프\n",
        "plt.figure(figsize=(8, 6))\n",
        "plt.plot(k_range, silhouette_scores, marker='o')\n",
        "plt.title('Silhouette Scores for Different k (with Encoded Categorical Variables)', fontsize=16)\n",
        "plt.xlabel('Number of Clusters (k)', fontsize=14)\n",
        "plt.ylabel('Silhouette Score', fontsize=14)\n",
        "plt.xticks(k_range)\n",
        "plt.grid(True)\n",
        "plt.show()"
      ]
    },
    {
      "cell_type": "code",
      "execution_count": null,
      "metadata": {
        "id": "GS_tfpKmN4cD"
      },
      "outputs": [],
      "source": [
        "onehotcolumn = [col for col in cluster_df.columns if col.startswith('main_category_') or col.startswith('sub_category_')]\n",
        "label = create_clusters(cluster_df,['price','recency', 'frequency', 'monetary'] + onehotcolumn ,4)"
      ]
    },
    {
      "cell_type": "code",
      "execution_count": null,
      "metadata": {
        "id": "OEMcw1W-RaHI"
      },
      "outputs": [],
      "source": [
        "cluster_df['label'] = label\n"
      ]
    },
    {
      "cell_type": "code",
      "execution_count": null,
      "metadata": {
        "id": "F072JKzfWpAd"
      },
      "outputs": [],
      "source": [
        "cluster_df"
      ]
    },
    {
      "cell_type": "code",
      "execution_count": null,
      "metadata": {
        "id": "0NTN0qg8fkh-"
      },
      "outputs": [],
      "source": [
        "from sklearn.decomposition import PCA\n",
        "pca = PCA(n_components=3)\n",
        "pca_data = pca.fit_transform(cluster_df)\n",
        "\n",
        "# PCA 결과를 데이터프레임으로 변환\n",
        "pca_df = pd.DataFrame(pca_data, columns=['PCA1', 'PCA2', 'PCA3'])\n",
        "pca_df['cluster'] = label\n",
        "fig = plt.figure(figsize=(10, 8))\n",
        "ax = fig.add_subplot(111, projection='3d')\n",
        "for cluster in pca_df['cluster'].unique():\n",
        "    cluster_points = pca_df[pca_df['cluster'] == cluster]\n",
        "    ax.scatter(cluster_points['PCA1'], cluster_points['PCA2'], cluster_points['PCA3'], label=f'Cluster {cluster}')\n",
        "\n",
        "ax.set_title('Clustering Visualization using PCA', fontsize=16)\n",
        "ax.set_xlabel('PCA1', fontsize=14)\n",
        "ax.set_ylabel('PCA2', fontsize=14)\n",
        "ax.set_zlabel('PCA3', fontsize= 14)\n",
        "ax.legend(fontsize=12)\n",
        "ax.grid(True)\n",
        "plt.show()"
      ]
    },
    {
      "cell_type": "code",
      "execution_count": null,
      "metadata": {
        "id": "NRZoZpB_db22"
      },
      "outputs": [],
      "source": [
        "from sklearn.decomposition import PCA\n",
        "pca = PCA(n_components=2)\n",
        "pca_data = pca.fit_transform(cluster_df)\n",
        "\n",
        "# PCA 결과를 데이터프레임으로 변환\n",
        "pca_df = pd.DataFrame(pca_data, columns=['PCA1', 'PCA2'])\n",
        "pca_df['cluster'] = label\n",
        "plt.figure(figsize=(10, 8))\n",
        "\n",
        "for cluster in pca_df['cluster'].unique():\n",
        "    cluster_points = pca_df[pca_df['cluster'] == cluster]\n",
        "    plt.scatter(cluster_points['PCA1'], cluster_points['PCA2'], label=f'Cluster {cluster}')\n",
        "\n",
        "plt.title('Clustering Visualization using PCA', fontsize=16)\n",
        "plt.xlabel('PCA1', fontsize=14)\n",
        "plt.ylabel('PCA2', fontsize=14)\n",
        "plt.legend(fontsize=12)\n",
        "plt.grid(True)\n",
        "plt.show()"
      ]
    },
    {
      "cell_type": "code",
      "execution_count": null,
      "metadata": {
        "id": "MTNyE_IXkKo8"
      },
      "outputs": [],
      "source": [
        "total_df"
      ]
    },
    {
      "cell_type": "code",
      "execution_count": null,
      "metadata": {
        "id": "ZhAzL75sjHyI"
      },
      "outputs": [],
      "source": [
        "total_df['cluster'] = label\n",
        "rfm_col = ['Recency', 'Frequency', 'Monetary']\n",
        "rfm_mean = total_df.groupby('cluster')[rfm_col].mean()\n"
      ]
    },
    {
      "cell_type": "code",
      "execution_count": null,
      "metadata": {
        "id": "aKxiPlNAkvNW"
      },
      "outputs": [],
      "source": [
        "rfm_mean['Recency'].mean() #product_id 가 20으로 시작하는건 전자기기였다!"
      ]
    }
  ],
  "metadata": {
    "accelerator": "GPU",
    "colab": {
      "gpuType": "T4",
      "provenance": []
    },
    "kernelspec": {
      "display_name": "Python 3",
      "name": "python3"
    },
    "language_info": {
      "name": "python"
    }
  },
  "nbformat": 4,
  "nbformat_minor": 0
}
