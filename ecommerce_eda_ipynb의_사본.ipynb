{
  "cells": [
    {
      "cell_type": "code",
      "execution_count": null,
      "metadata": {
        "id": "_l-nyjglE81v"
      },
      "outputs": [],
      "source": [
        "!pip install kagglehub"
      ]
    },
    {
      "cell_type": "code",
      "execution_count": null,
      "metadata": {
        "colab": {
          "base_uri": "https://localhost:8080/"
        },
        "id": "ToP9LSVBFS--",
        "outputId": "332597ba-b1d7-4a3c-88e9-9d68e33c1eb5"
      },
      "outputs": [
        {
          "name": "stdout",
          "output_type": "stream",
          "text": [
            "Warning: Looks like you're using an outdated `kagglehub` version (installed: 0.3.5), please consider upgrading to the latest version (0.3.6).\n",
            "Downloading from https://www.kaggle.com/api/v1/datasets/download/mkechinov/ecommerce-behavior-data-from-multi-category-store?dataset_version_number=8...\n"
          ]
        },
        {
          "name": "stderr",
          "output_type": "stream",
          "text": [
            "100%|██████████| 4.29G/4.29G [02:21<00:00, 32.5MB/s]"
          ]
        },
        {
          "name": "stdout",
          "output_type": "stream",
          "text": [
            "Extracting files...\n"
          ]
        },
        {
          "name": "stderr",
          "output_type": "stream",
          "text": [
            "\n"
          ]
        },
        {
          "name": "stdout",
          "output_type": "stream",
          "text": [
            "Path to dataset files: /root/.cache/kagglehub/datasets/mkechinov/ecommerce-behavior-data-from-multi-category-store/versions/8\n"
          ]
        }
      ],
      "source": [
        "#import kagglehub\n",
        "\n",
        "# Download latest version\n",
        "#path = kagglehub.dataset_download(\"mkechinov/ecommerce-behavior-data-from-multi-category-store\")\n",
        "\n",
        "#print(\"Path to dataset files:\", path)"
      ]
    },
    {
      "cell_type": "code",
      "execution_count": 1,
      "metadata": {
        "colab": {
          "base_uri": "https://localhost:8080/"
        },
        "id": "rbiZH9XtFS8t",
        "outputId": "4478d92e-fcfa-427c-b133-fb78d97bfc2d"
      },
      "outputs": [
        {
          "data": {
            "text/plain": [
              "['2019-Nov.csv', '2019-Oct.csv']"
            ]
          },
          "execution_count": 1,
          "metadata": {},
          "output_type": "execute_result"
        }
      ],
      "source": [
        "import os\n",
        "path = \"C:/Users/User/.cache/kagglehub/datasets/mkechinov/ecommerce-behavior-data-from-multi-category-store/versions/8\"\n",
        "os.listdir(path)"
      ]
    },
    {
      "cell_type": "code",
      "execution_count": 2,
      "metadata": {
        "id": "2YeXcunnFeZ6"
      },
      "outputs": [],
      "source": [
        "path2 = os.path.join(path, '2019-Oct.csv')"
      ]
    },
    {
      "cell_type": "code",
      "execution_count": null,
      "metadata": {
        "id": "31rKtcN81GBb"
      },
      "outputs": [],
      "source": [
        "#import pandas as pd\n",
        "#\n",
        "## Dask 데이터프레임 생성\n",
        "#ddf = pd.read_csv(path2)\n",
        "#\n",
        "## 랜덤으로 1% 샘플링\n",
        "#sampled_data = ddf.sample(frac=0.005, random_state=42)\n",
        "#\n",
        "#print(sampled_data)"
      ]
    },
    {
      "cell_type": "code",
      "execution_count": 42,
      "metadata": {
        "colab": {
          "base_uri": "https://localhost:8080/"
        },
        "id": "wPAWtuP5FS5h",
        "outputId": "0d36043a-7651-4d15-9597-999b6e56d797"
      },
      "outputs": [
        {
          "name": "stdout",
          "output_type": "stream",
          "text": [
            "           event_time event_type  product_id          category_id  \\\n",
            "0 2019-10-01 00:00:00       view    44600062  2103807459595387724   \n",
            "1 2019-10-01 00:00:00       view     3900821  2053013552326770905   \n",
            "2 2019-10-01 00:00:01       view    17200506  2053013559792632471   \n",
            "3 2019-10-01 00:00:01       view     1307067  2053013558920217191   \n",
            "4 2019-10-01 00:00:04       view     1004237  2053013555631882655   \n",
            "\n",
            "                         category_code     brand    price    user_id  \\\n",
            "0                                  NaN  shiseido    35.79  541312140   \n",
            "1  appliances.environment.water_heater      aqua    33.20  554748717   \n",
            "2           furniture.living_room.sofa       NaN   543.10  519107250   \n",
            "3                   computers.notebook    lenovo   251.74  550050854   \n",
            "4               electronics.smartphone     apple  1081.98  535871217   \n",
            "\n",
            "                           user_session  \n",
            "0  72d76fde-8bb3-4e00-8c23-a032dfed738c  \n",
            "1  9333dfbd-b87a-4708-9857-6336556b0fcc  \n",
            "2  566511c2-e2e3-422b-b695-cf8e6e792ca8  \n",
            "3  7c90fc70-0e80-4590-96f3-13c02c18c713  \n",
            "4  c6bd7419-2748-4c56-95b4-8cec9ff8b80d  \n"
          ]
        }
      ],
      "source": [
        "import pandas as pd\n",
        "\n",
        "# Dask 데이터프레임 생성\n",
        "data = pd.read_csv(path2)\n",
        "data['event_time'] = pd.to_datetime(data['event_time']).dt.tz_convert(None)\n",
        "start_date = data['event_time'].min()  # 데이터의 시작일\n",
        "end_date = start_date + pd.Timedelta(days=3)  # 시작일부터 3일간\n",
        "sampled_data = data[(data['event_time'] >= start_date) & (data['event_time'] < end_date)]\n",
        "\n",
        "\n",
        "print(sampled_data.head())"
      ]
    },
    {
      "cell_type": "code",
      "execution_count": 57,
      "metadata": {},
      "outputs": [],
      "source": [
        "electronics = sampled_data[(sampled_data['product_id'].astype(str).str.startswith('18')) & (sampled_data['product_id'].astype(str).str.len() == 7)]"
      ]
    },
    {
      "cell_type": "code",
      "execution_count": 61,
      "metadata": {},
      "outputs": [
        {
          "data": {
            "text/plain": [
              "electronics.video.tv    78014\n",
              "Name: category_code, dtype: int64"
            ]
          },
          "execution_count": 61,
          "metadata": {},
          "output_type": "execute_result"
        }
      ],
      "source": [
        "electronics['category_code'].value_counts()"
      ]
    },
    {
      "cell_type": "code",
      "execution_count": 41,
      "metadata": {},
      "outputs": [
        {
          "data": {
            "text/plain": [
              "(3562876,)"
            ]
          },
          "execution_count": 41,
          "metadata": {},
          "output_type": "execute_result"
        }
      ],
      "source": [
        "sampled_data.shape"
      ]
    },
    {
      "cell_type": "code",
      "execution_count": 43,
      "metadata": {
        "colab": {
          "base_uri": "https://localhost:8080/"
        },
        "id": "YbDW-mAH139y",
        "outputId": "26d1fd8d-65c4-47aa-c863-b43a90f2f554"
      },
      "outputs": [
        {
          "name": "stdout",
          "output_type": "stream",
          "text": [
            "96654\n",
            "123\n",
            "466553\n",
            "556\n",
            "2494\n",
            "768871\n"
          ]
        }
      ],
      "source": [
        "print(sampled_data['product_id'].nunique())\n",
        "print(sampled_data['category_code'].nunique())\n",
        "print(sampled_data['user_id'].nunique())\n",
        "print(sampled_data['category_id'].nunique())\n",
        "print(sampled_data['brand'].nunique())\n",
        "print(sampled_data['user_session'].nunique())"
      ]
    },
    {
      "cell_type": "code",
      "execution_count": 38,
      "metadata": {},
      "outputs": [
        {
          "data": {
            "text/plain": [
              "event_time             0\n",
              "event_type             0\n",
              "product_id             0\n",
              "category_id            0\n",
              "category_code    1117310\n",
              "brand             520290\n",
              "price                  0\n",
              "user_id                0\n",
              "user_session           0\n",
              "dtype: int64"
            ]
          },
          "execution_count": 38,
          "metadata": {},
          "output_type": "execute_result"
        }
      ],
      "source": [
        "sampled_data.isnull().sum()"
      ]
    },
    {
      "cell_type": "code",
      "execution_count": 40,
      "metadata": {},
      "outputs": [
        {
          "ename": "KeyError",
          "evalue": "'category_code'",
          "output_type": "error",
          "traceback": [
            "\u001b[1;31m---------------------------------------------------------------------------\u001b[0m",
            "\u001b[1;31mKeyError\u001b[0m                                  Traceback (most recent call last)",
            "\u001b[1;32m~\\anaconda3\\lib\\site-packages\\pandas\\core\\indexes\\base.py\u001b[0m in \u001b[0;36mget_loc\u001b[1;34m(self, key, method, tolerance)\u001b[0m\n\u001b[0;32m   2894\u001b[0m             \u001b[1;32mtry\u001b[0m\u001b[1;33m:\u001b[0m\u001b[1;33m\u001b[0m\u001b[1;33m\u001b[0m\u001b[0m\n\u001b[1;32m-> 2895\u001b[1;33m                 \u001b[1;32mreturn\u001b[0m \u001b[0mself\u001b[0m\u001b[1;33m.\u001b[0m\u001b[0m_engine\u001b[0m\u001b[1;33m.\u001b[0m\u001b[0mget_loc\u001b[0m\u001b[1;33m(\u001b[0m\u001b[0mcasted_key\u001b[0m\u001b[1;33m)\u001b[0m\u001b[1;33m\u001b[0m\u001b[1;33m\u001b[0m\u001b[0m\n\u001b[0m\u001b[0;32m   2896\u001b[0m             \u001b[1;32mexcept\u001b[0m \u001b[0mKeyError\u001b[0m \u001b[1;32mas\u001b[0m \u001b[0merr\u001b[0m\u001b[1;33m:\u001b[0m\u001b[1;33m\u001b[0m\u001b[1;33m\u001b[0m\u001b[0m\n",
            "\u001b[1;32mpandas\\_libs\\index.pyx\u001b[0m in \u001b[0;36mpandas._libs.index.IndexEngine.get_loc\u001b[1;34m()\u001b[0m\n",
            "\u001b[1;32mpandas\\_libs\\index.pyx\u001b[0m in \u001b[0;36mpandas._libs.index.IndexEngine.get_loc\u001b[1;34m()\u001b[0m\n",
            "\u001b[1;32mpandas\\_libs\\index_class_helper.pxi\u001b[0m in \u001b[0;36mpandas._libs.index.Int64Engine._check_type\u001b[1;34m()\u001b[0m\n",
            "\u001b[1;31mKeyError\u001b[0m: 'category_code'",
            "\nThe above exception was the direct cause of the following exception:\n",
            "\u001b[1;31mKeyError\u001b[0m                                  Traceback (most recent call last)",
            "\u001b[1;32m<ipython-input-40-eb21ae4771a8>\u001b[0m in \u001b[0;36m<module>\u001b[1;34m\u001b[0m\n\u001b[1;32m----> 1\u001b[1;33m \u001b[0msampled_data\u001b[0m\u001b[1;33m[\u001b[0m\u001b[1;34m'category_code'\u001b[0m\u001b[1;33m]\u001b[0m\u001b[1;33m=\u001b[0m\u001b[0msampled_data\u001b[0m\u001b[1;33m[\u001b[0m\u001b[1;34m'category_code'\u001b[0m\u001b[1;33m]\u001b[0m\u001b[1;33m.\u001b[0m\u001b[0mfillna\u001b[0m\u001b[1;33m(\u001b[0m\u001b[1;34m'Unknown'\u001b[0m\u001b[1;33m)\u001b[0m\u001b[1;33m\u001b[0m\u001b[1;33m\u001b[0m\u001b[0m\n\u001b[0m\u001b[0;32m      2\u001b[0m \u001b[0mcategory\u001b[0m \u001b[1;33m=\u001b[0m \u001b[0msampled_data\u001b[0m\u001b[1;33m.\u001b[0m\u001b[0mgroupby\u001b[0m\u001b[1;33m(\u001b[0m\u001b[1;34m'category_code'\u001b[0m\u001b[1;33m)\u001b[0m\u001b[1;33m[\u001b[0m\u001b[1;34m'category_id'\u001b[0m\u001b[1;33m]\u001b[0m\u001b[1;33m.\u001b[0m\u001b[0magg\u001b[0m\u001b[1;33m(\u001b[0m\u001b[0mcategory_list\u001b[0m \u001b[1;33m=\u001b[0m \u001b[0mlist\u001b[0m\u001b[1;33m)\u001b[0m\u001b[1;33m\u001b[0m\u001b[1;33m\u001b[0m\u001b[0m\n",
            "\u001b[1;32m~\\anaconda3\\lib\\site-packages\\pandas\\core\\series.py\u001b[0m in \u001b[0;36m__getitem__\u001b[1;34m(self, key)\u001b[0m\n\u001b[0;32m    880\u001b[0m \u001b[1;33m\u001b[0m\u001b[0m\n\u001b[0;32m    881\u001b[0m         \u001b[1;32melif\u001b[0m \u001b[0mkey_is_scalar\u001b[0m\u001b[1;33m:\u001b[0m\u001b[1;33m\u001b[0m\u001b[1;33m\u001b[0m\u001b[0m\n\u001b[1;32m--> 882\u001b[1;33m             \u001b[1;32mreturn\u001b[0m \u001b[0mself\u001b[0m\u001b[1;33m.\u001b[0m\u001b[0m_get_value\u001b[0m\u001b[1;33m(\u001b[0m\u001b[0mkey\u001b[0m\u001b[1;33m)\u001b[0m\u001b[1;33m\u001b[0m\u001b[1;33m\u001b[0m\u001b[0m\n\u001b[0m\u001b[0;32m    883\u001b[0m \u001b[1;33m\u001b[0m\u001b[0m\n\u001b[0;32m    884\u001b[0m         \u001b[1;32mif\u001b[0m \u001b[0mis_hashable\u001b[0m\u001b[1;33m(\u001b[0m\u001b[0mkey\u001b[0m\u001b[1;33m)\u001b[0m\u001b[1;33m:\u001b[0m\u001b[1;33m\u001b[0m\u001b[1;33m\u001b[0m\u001b[0m\n",
            "\u001b[1;32m~\\anaconda3\\lib\\site-packages\\pandas\\core\\series.py\u001b[0m in \u001b[0;36m_get_value\u001b[1;34m(self, label, takeable)\u001b[0m\n\u001b[0;32m    987\u001b[0m \u001b[1;33m\u001b[0m\u001b[0m\n\u001b[0;32m    988\u001b[0m         \u001b[1;31m# Similar to Index.get_value, but we do not fall back to positional\u001b[0m\u001b[1;33m\u001b[0m\u001b[1;33m\u001b[0m\u001b[1;33m\u001b[0m\u001b[0m\n\u001b[1;32m--> 989\u001b[1;33m         \u001b[0mloc\u001b[0m \u001b[1;33m=\u001b[0m \u001b[0mself\u001b[0m\u001b[1;33m.\u001b[0m\u001b[0mindex\u001b[0m\u001b[1;33m.\u001b[0m\u001b[0mget_loc\u001b[0m\u001b[1;33m(\u001b[0m\u001b[0mlabel\u001b[0m\u001b[1;33m)\u001b[0m\u001b[1;33m\u001b[0m\u001b[1;33m\u001b[0m\u001b[0m\n\u001b[0m\u001b[0;32m    990\u001b[0m         \u001b[1;32mreturn\u001b[0m \u001b[0mself\u001b[0m\u001b[1;33m.\u001b[0m\u001b[0mindex\u001b[0m\u001b[1;33m.\u001b[0m\u001b[0m_get_values_for_loc\u001b[0m\u001b[1;33m(\u001b[0m\u001b[0mself\u001b[0m\u001b[1;33m,\u001b[0m \u001b[0mloc\u001b[0m\u001b[1;33m,\u001b[0m \u001b[0mlabel\u001b[0m\u001b[1;33m)\u001b[0m\u001b[1;33m\u001b[0m\u001b[1;33m\u001b[0m\u001b[0m\n\u001b[0;32m    991\u001b[0m \u001b[1;33m\u001b[0m\u001b[0m\n",
            "\u001b[1;32m~\\anaconda3\\lib\\site-packages\\pandas\\core\\indexes\\base.py\u001b[0m in \u001b[0;36mget_loc\u001b[1;34m(self, key, method, tolerance)\u001b[0m\n\u001b[0;32m   2895\u001b[0m                 \u001b[1;32mreturn\u001b[0m \u001b[0mself\u001b[0m\u001b[1;33m.\u001b[0m\u001b[0m_engine\u001b[0m\u001b[1;33m.\u001b[0m\u001b[0mget_loc\u001b[0m\u001b[1;33m(\u001b[0m\u001b[0mcasted_key\u001b[0m\u001b[1;33m)\u001b[0m\u001b[1;33m\u001b[0m\u001b[1;33m\u001b[0m\u001b[0m\n\u001b[0;32m   2896\u001b[0m             \u001b[1;32mexcept\u001b[0m \u001b[0mKeyError\u001b[0m \u001b[1;32mas\u001b[0m \u001b[0merr\u001b[0m\u001b[1;33m:\u001b[0m\u001b[1;33m\u001b[0m\u001b[1;33m\u001b[0m\u001b[0m\n\u001b[1;32m-> 2897\u001b[1;33m                 \u001b[1;32mraise\u001b[0m \u001b[0mKeyError\u001b[0m\u001b[1;33m(\u001b[0m\u001b[0mkey\u001b[0m\u001b[1;33m)\u001b[0m \u001b[1;32mfrom\u001b[0m \u001b[0merr\u001b[0m\u001b[1;33m\u001b[0m\u001b[1;33m\u001b[0m\u001b[0m\n\u001b[0m\u001b[0;32m   2898\u001b[0m \u001b[1;33m\u001b[0m\u001b[0m\n\u001b[0;32m   2899\u001b[0m         \u001b[1;32mif\u001b[0m \u001b[0mtolerance\u001b[0m \u001b[1;32mis\u001b[0m \u001b[1;32mnot\u001b[0m \u001b[1;32mNone\u001b[0m\u001b[1;33m:\u001b[0m\u001b[1;33m\u001b[0m\u001b[1;33m\u001b[0m\u001b[0m\n",
            "\u001b[1;31mKeyError\u001b[0m: 'category_code'"
          ]
        }
      ],
      "source": [
        "sampled_data['category_code']=sampled_data['category_code'].fillna('Unknown')\n",
        "category = sampled_data.groupby('category_code')['category_id'].agg(category_list = list)\n"
      ]
    },
    {
      "cell_type": "code",
      "execution_count": 37,
      "metadata": {},
      "outputs": [
        {
          "data": {
            "text/html": [
              "<div>\n",
              "<style scoped>\n",
              "    .dataframe tbody tr th:only-of-type {\n",
              "        vertical-align: middle;\n",
              "    }\n",
              "\n",
              "    .dataframe tbody tr th {\n",
              "        vertical-align: top;\n",
              "    }\n",
              "\n",
              "    .dataframe thead th {\n",
              "        text-align: right;\n",
              "    }\n",
              "</style>\n",
              "<table border=\"1\" class=\"dataframe\">\n",
              "  <thead>\n",
              "    <tr style=\"text-align: right;\">\n",
              "      <th></th>\n",
              "      <th>category_list</th>\n",
              "    </tr>\n",
              "    <tr>\n",
              "      <th>category_code</th>\n",
              "      <th></th>\n",
              "    </tr>\n",
              "  </thead>\n",
              "  <tbody>\n",
              "    <tr>\n",
              "      <th>accessories.bag</th>\n",
              "      <td>[2053013566209917945, 2053013566209917945, 205...</td>\n",
              "    </tr>\n",
              "    <tr>\n",
              "      <th>accessories.umbrella</th>\n",
              "      <td>[2094006249627582860, 2094006249627582860, 209...</td>\n",
              "    </tr>\n",
              "    <tr>\n",
              "      <th>accessories.wallet</th>\n",
              "      <td>[2053013566243472379, 2053013566243472379, 205...</td>\n",
              "    </tr>\n",
              "    <tr>\n",
              "      <th>apparel.belt</th>\n",
              "      <td>[2053013566277026813, 2053013566277026813, 205...</td>\n",
              "    </tr>\n",
              "    <tr>\n",
              "      <th>apparel.costume</th>\n",
              "      <td>[2084962304016777941, 2084962304016777941, 208...</td>\n",
              "    </tr>\n",
              "    <tr>\n",
              "      <th>apparel.dress</th>\n",
              "      <td>[2146660887002349890, 2110937218225800069, 214...</td>\n",
              "    </tr>\n",
              "    <tr>\n",
              "      <th>apparel.jacket</th>\n",
              "      <td>[2110937217663763331, 2110937217663763331, 211...</td>\n",
              "    </tr>\n",
              "    <tr>\n",
              "      <th>apparel.jeans</th>\n",
              "      <td>[2146660887094624580, 2146660887094624580, 214...</td>\n",
              "    </tr>\n",
              "    <tr>\n",
              "      <th>apparel.scarf</th>\n",
              "      <td>[2069241407767315312, 2069241407767315312, 206...</td>\n",
              "    </tr>\n",
              "    <tr>\n",
              "      <th>apparel.shirt</th>\n",
              "      <td>[2086471240842740173, 2086471240842740173, 208...</td>\n",
              "    </tr>\n",
              "    <tr>\n",
              "      <th>apparel.shoes</th>\n",
              "      <td>[2053013565127787455, 2116907519078040377, 205...</td>\n",
              "    </tr>\n",
              "    <tr>\n",
              "      <th>apparel.shoes.ballet_shoes</th>\n",
              "      <td>[2053013565857596389, 2053013565857596389, 205...</td>\n",
              "    </tr>\n",
              "    <tr>\n",
              "      <th>apparel.shoes.espadrilles</th>\n",
              "      <td>[2053013565505274835, 2053013565505274835, 205...</td>\n",
              "    </tr>\n",
              "    <tr>\n",
              "      <th>apparel.shoes.keds</th>\n",
              "      <td>[2053013565069067197, 2053013565480109009, 205...</td>\n",
              "    </tr>\n",
              "    <tr>\n",
              "      <th>apparel.shoes.moccasins</th>\n",
              "      <td>[2053013565253616583, 2053013565253616583, 205...</td>\n",
              "    </tr>\n",
              "    <tr>\n",
              "      <th>apparel.shoes.sandals</th>\n",
              "      <td>[2053013565681435611, 2053013565681435611, 205...</td>\n",
              "    </tr>\n",
              "    <tr>\n",
              "      <th>apparel.shoes.slipons</th>\n",
              "      <td>[2053013565329114057, 2053013565413000141, 205...</td>\n",
              "    </tr>\n",
              "    <tr>\n",
              "      <th>apparel.shoes.step_ins</th>\n",
              "      <td>[2053013565152953281, 2053013565152953281, 205...</td>\n",
              "    </tr>\n",
              "    <tr>\n",
              "      <th>apparel.shorts</th>\n",
              "      <td>[2076715364237967901, 2076715364237967901, 207...</td>\n",
              "    </tr>\n",
              "    <tr>\n",
              "      <th>apparel.skirt</th>\n",
              "      <td>[2110187395688169553, 2110187395688169553, 211...</td>\n",
              "    </tr>\n",
              "    <tr>\n",
              "      <th>apparel.sock</th>\n",
              "      <td>[2127424820051182462, 2127424820051182462, 212...</td>\n",
              "    </tr>\n",
              "    <tr>\n",
              "      <th>apparel.trousers</th>\n",
              "      <td>[2086471240800797129, 2086471240800797129, 208...</td>\n",
              "    </tr>\n",
              "    <tr>\n",
              "      <th>apparel.tshirt</th>\n",
              "      <td>[2097815753423061045, 2097815753423061045, 209...</td>\n",
              "    </tr>\n",
              "    <tr>\n",
              "      <th>apparel.underwear</th>\n",
              "      <td>[2070005009382114061, 2070005009382114061, 207...</td>\n",
              "    </tr>\n",
              "    <tr>\n",
              "      <th>appliances.environment.air_conditioner</th>\n",
              "      <td>[2053013552351936731, 2053013552351936731, 205...</td>\n",
              "    </tr>\n",
              "    <tr>\n",
              "      <th>appliances.environment.air_heater</th>\n",
              "      <td>[2053013552293216471, 2053013552293216471, 205...</td>\n",
              "    </tr>\n",
              "    <tr>\n",
              "      <th>appliances.environment.fan</th>\n",
              "      <td>[2053013552226107603, 2053013552226107603, 205...</td>\n",
              "    </tr>\n",
              "    <tr>\n",
              "      <th>appliances.environment.vacuum</th>\n",
              "      <td>[2053013565983425517, 2053013565983425517, 209...</td>\n",
              "    </tr>\n",
              "    <tr>\n",
              "      <th>appliances.environment.water_heater</th>\n",
              "      <td>[2053013552326770905, 2053013552326770905, 205...</td>\n",
              "    </tr>\n",
              "    <tr>\n",
              "      <th>appliances.iron</th>\n",
              "      <td>[2053013566176363511, 2053013566176363511, 205...</td>\n",
              "    </tr>\n",
              "    <tr>\n",
              "      <th>appliances.ironing_board</th>\n",
              "      <td>[2053013566033757167, 2053013566033757167, 205...</td>\n",
              "    </tr>\n",
              "    <tr>\n",
              "      <th>appliances.kitchen.blender</th>\n",
              "      <td>[2053013555262783879, 2053013555262783879, 205...</td>\n",
              "    </tr>\n",
              "    <tr>\n",
              "      <th>appliances.kitchen.coffee_grinder</th>\n",
              "      <td>[2053013554725912943, 2053013554725912943, 205...</td>\n",
              "    </tr>\n",
              "    <tr>\n",
              "      <th>appliances.kitchen.coffee_machine</th>\n",
              "      <td>[2053013555095011711, 2053013555095011711, 205...</td>\n",
              "    </tr>\n",
              "    <tr>\n",
              "      <th>appliances.kitchen.dishwasher</th>\n",
              "      <td>[2053013563944993659, 2053013563944993659, 205...</td>\n",
              "    </tr>\n",
              "    <tr>\n",
              "      <th>appliances.kitchen.grill</th>\n",
              "      <td>[2053013554751078769, 2053013554751078769, 205...</td>\n",
              "    </tr>\n",
              "    <tr>\n",
              "      <th>appliances.kitchen.hob</th>\n",
              "      <td>[2053013563877884791, 2053013563877884791, 205...</td>\n",
              "    </tr>\n",
              "    <tr>\n",
              "      <th>appliances.kitchen.hood</th>\n",
              "      <td>[2053013563743667055, 2053013563743667055, 205...</td>\n",
              "    </tr>\n",
              "    <tr>\n",
              "      <th>appliances.kitchen.juicer</th>\n",
              "      <td>[2053013555220840837, 2053013555220840837, 205...</td>\n",
              "    </tr>\n",
              "    <tr>\n",
              "      <th>appliances.kitchen.kettle</th>\n",
              "      <td>[2053013554834964853, 2053013554834964853, 205...</td>\n",
              "    </tr>\n",
              "    <tr>\n",
              "      <th>appliances.kitchen.meat_grinder</th>\n",
              "      <td>[2053013555321504139, 2053013555321504139, 205...</td>\n",
              "    </tr>\n",
              "    <tr>\n",
              "      <th>appliances.kitchen.microwave</th>\n",
              "      <td>[2053013554776244595, 2053013554776244595, 205...</td>\n",
              "    </tr>\n",
              "    <tr>\n",
              "      <th>appliances.kitchen.mixer</th>\n",
              "      <td>[2053013555069845885, 2053013555069845885, 205...</td>\n",
              "    </tr>\n",
              "    <tr>\n",
              "      <th>appliances.kitchen.oven</th>\n",
              "      <td>[2053013564003713919, 2053013564003713919, 205...</td>\n",
              "    </tr>\n",
              "    <tr>\n",
              "      <th>appliances.kitchen.refrigerators</th>\n",
              "      <td>[2110187395394568257, 2053013563911439225, 205...</td>\n",
              "    </tr>\n",
              "    <tr>\n",
              "      <th>appliances.kitchen.steam_cooker</th>\n",
              "      <td>[2053013555120177537, 2053013555120177537, 205...</td>\n",
              "    </tr>\n",
              "    <tr>\n",
              "      <th>appliances.kitchen.toster</th>\n",
              "      <td>[2053013554960793975, 2053013554960793975, 205...</td>\n",
              "    </tr>\n",
              "    <tr>\n",
              "      <th>appliances.kitchen.washer</th>\n",
              "      <td>[2053013563810775923, 2053013563810775923, 205...</td>\n",
              "    </tr>\n",
              "    <tr>\n",
              "      <th>appliances.personal.hair_cutter</th>\n",
              "      <td>[2053013563097744201, 2053013563097744201, 205...</td>\n",
              "    </tr>\n",
              "    <tr>\n",
              "      <th>appliances.personal.massager</th>\n",
              "      <td>[2053013565941482475, 2053013565941482475, 205...</td>\n",
              "    </tr>\n",
              "    <tr>\n",
              "      <th>appliances.personal.scales</th>\n",
              "      <td>[2053013555036291451, 2053013555036291451, 205...</td>\n",
              "    </tr>\n",
              "    <tr>\n",
              "      <th>appliances.sewing_machine</th>\n",
              "      <td>[2053013566100866035, 2053013566100866035, 205...</td>\n",
              "    </tr>\n",
              "    <tr>\n",
              "      <th>auto.accessories.alarm</th>\n",
              "      <td>[2053013560807654091, 2053013560807654091, 205...</td>\n",
              "    </tr>\n",
              "    <tr>\n",
              "      <th>auto.accessories.compressor</th>\n",
              "      <td>[2053013560581161671, 2165087460176953468, 213...</td>\n",
              "    </tr>\n",
              "    <tr>\n",
              "      <th>auto.accessories.parktronic</th>\n",
              "      <td>[2053013560623104713, 2053013560623104713, 205...</td>\n",
              "    </tr>\n",
              "    <tr>\n",
              "      <th>auto.accessories.player</th>\n",
              "      <td>[2053013553970938175, 2053013553970938175, 205...</td>\n",
              "    </tr>\n",
              "    <tr>\n",
              "      <th>auto.accessories.radar</th>\n",
              "      <td>[2053013560866374351, 2053013560866374351, 205...</td>\n",
              "    </tr>\n",
              "    <tr>\n",
              "      <th>auto.accessories.videoregister</th>\n",
              "      <td>[2053013560899928785, 2053013560899928785, 205...</td>\n",
              "    </tr>\n",
              "    <tr>\n",
              "      <th>auto.accessories.winch</th>\n",
              "      <td>[2100065080828756704, 2100065080828756704, 210...</td>\n",
              "    </tr>\n",
              "    <tr>\n",
              "      <th>computers.components.cooler</th>\n",
              "      <td>[2053013554004492609, 2053013554004492609, 205...</td>\n",
              "    </tr>\n",
              "    <tr>\n",
              "      <th>computers.components.cpu</th>\n",
              "      <td>[2053013554121933129, 2053013554121933129, 205...</td>\n",
              "    </tr>\n",
              "    <tr>\n",
              "      <th>computers.components.hdd</th>\n",
              "      <td>[2053013554222596431, 2053013554222596431, 205...</td>\n",
              "    </tr>\n",
              "    <tr>\n",
              "      <th>computers.components.memory</th>\n",
              "      <td>[2053013554189041997, 2053013554189041997, 205...</td>\n",
              "    </tr>\n",
              "    <tr>\n",
              "      <th>computers.components.motherboard</th>\n",
              "      <td>[2053013554155487563, 2053013554155487563, 205...</td>\n",
              "    </tr>\n",
              "    <tr>\n",
              "      <th>computers.components.power_supply</th>\n",
              "      <td>[2053013554096767303, 2053013554096767303, 205...</td>\n",
              "    </tr>\n",
              "    <tr>\n",
              "      <th>computers.components.videocards</th>\n",
              "      <td>[2053013554247762257, 2053013554247762257, 205...</td>\n",
              "    </tr>\n",
              "    <tr>\n",
              "      <th>computers.desktop</th>\n",
              "      <td>[2053013558391734853, 2053013559868129947, 205...</td>\n",
              "    </tr>\n",
              "    <tr>\n",
              "      <th>computers.ebooks</th>\n",
              "      <td>[2053013553316626707, 2053013553316626707, 205...</td>\n",
              "    </tr>\n",
              "    <tr>\n",
              "      <th>computers.notebook</th>\n",
              "      <td>[2053013558920217191, 2053013558920217191, 205...</td>\n",
              "    </tr>\n",
              "    <tr>\n",
              "      <th>computers.peripherals.camera</th>\n",
              "      <td>[2053013552502931683, 2053013552502931683, 205...</td>\n",
              "    </tr>\n",
              "    <tr>\n",
              "      <th>computers.peripherals.keyboard</th>\n",
              "      <td>[2053013552913973497, 2053013552913973497, 205...</td>\n",
              "    </tr>\n",
              "    <tr>\n",
              "      <th>computers.peripherals.monitor</th>\n",
              "      <td>[2053013553031414015, 2053013553031414015, 205...</td>\n",
              "    </tr>\n",
              "    <tr>\n",
              "      <th>computers.peripherals.mouse</th>\n",
              "      <td>[2053013552888807671, 2053013552888807671, 205...</td>\n",
              "    </tr>\n",
              "    <tr>\n",
              "      <th>computers.peripherals.printer</th>\n",
              "      <td>[2053013552955916539, 2053013552955916539, 205...</td>\n",
              "    </tr>\n",
              "    <tr>\n",
              "      <th>construction.components.faucet</th>\n",
              "      <td>[2053013557343158789, 2053013557343158789, 205...</td>\n",
              "    </tr>\n",
              "    <tr>\n",
              "      <th>construction.tools.drill</th>\n",
              "      <td>[2053013556311359947, 2053013556311359947, 205...</td>\n",
              "    </tr>\n",
              "    <tr>\n",
              "      <th>construction.tools.generator</th>\n",
              "      <td>[2053013566142809077, 2053013566142809077, 205...</td>\n",
              "    </tr>\n",
              "    <tr>\n",
              "      <th>construction.tools.light</th>\n",
              "      <td>[2098563450757186313, 2098563450757186313, 209...</td>\n",
              "    </tr>\n",
              "    <tr>\n",
              "      <th>construction.tools.painting</th>\n",
              "      <td>[2127425434894205468, 2127425434894205468, 212...</td>\n",
              "    </tr>\n",
              "    <tr>\n",
              "      <th>construction.tools.pump</th>\n",
              "      <td>[2053013560086233771, 2053013560086233771, 205...</td>\n",
              "    </tr>\n",
              "    <tr>\n",
              "      <th>construction.tools.saw</th>\n",
              "      <td>[2053013556202308035, 2053013556227473861, 205...</td>\n",
              "    </tr>\n",
              "    <tr>\n",
              "      <th>construction.tools.welding</th>\n",
              "      <td>[2127425436764865054, 2127425436764865054, 212...</td>\n",
              "    </tr>\n",
              "    <tr>\n",
              "      <th>country_yard.cultivator</th>\n",
              "      <td>[2053013559985570467, 2053013559985570467, 205...</td>\n",
              "    </tr>\n",
              "    <tr>\n",
              "      <th>country_yard.furniture.bench</th>\n",
              "      <td>[2059484602015154495, 2059484602015154495, 205...</td>\n",
              "    </tr>\n",
              "    <tr>\n",
              "      <th>country_yard.furniture.hammok</th>\n",
              "      <td>[2059484601981600061, 2059484601981600061, 205...</td>\n",
              "    </tr>\n",
              "    <tr>\n",
              "      <th>country_yard.lawn_mower</th>\n",
              "      <td>[2053013560061067945, 2053013560061067945, 205...</td>\n",
              "    </tr>\n",
              "    <tr>\n",
              "      <th>electronics.audio.acoustic</th>\n",
              "      <td>[2053013554591695207, 2053013557670314521, 205...</td>\n",
              "    </tr>\n",
              "    <tr>\n",
              "      <th>electronics.audio.headphone</th>\n",
              "      <td>[2053013554658804075, 2053013554658804075, 205...</td>\n",
              "    </tr>\n",
              "    <tr>\n",
              "      <th>electronics.audio.microphone</th>\n",
              "      <td>[2053013554474254687, 2053013554474254687, 205...</td>\n",
              "    </tr>\n",
              "    <tr>\n",
              "      <th>electronics.audio.music_tools.piano</th>\n",
              "      <td>[2053013557603205653, 2053013557603205653, 205...</td>\n",
              "    </tr>\n",
              "    <tr>\n",
              "      <th>electronics.audio.subwoofer</th>\n",
              "      <td>[2053013553945772349, 2053013553945772349, 205...</td>\n",
              "    </tr>\n",
              "    <tr>\n",
              "      <th>electronics.camera.photo</th>\n",
              "      <td>[2053013560497275585, 2053013560497275585, 205...</td>\n",
              "    </tr>\n",
              "    <tr>\n",
              "      <th>electronics.camera.video</th>\n",
              "      <td>[2053013560530830019, 2053013560530830019, 205...</td>\n",
              "    </tr>\n",
              "    <tr>\n",
              "      <th>electronics.clocks</th>\n",
              "      <td>[2053013561579406073, 2053013553341792533, 205...</td>\n",
              "    </tr>\n",
              "    <tr>\n",
              "      <th>electronics.smartphone</th>\n",
              "      <td>[2053013555631882655, 2053013555631882655, 205...</td>\n",
              "    </tr>\n",
              "    <tr>\n",
              "      <th>electronics.tablet</th>\n",
              "      <td>[2172371436436455782, 2172371436436455782, 205...</td>\n",
              "    </tr>\n",
              "    <tr>\n",
              "      <th>electronics.telephone</th>\n",
              "      <td>[2053013555573162395, 2053013555573162395, 205...</td>\n",
              "    </tr>\n",
              "    <tr>\n",
              "      <th>electronics.video.projector</th>\n",
              "      <td>[2053013552570040549, 2053013552570040549, 205...</td>\n",
              "    </tr>\n",
              "    <tr>\n",
              "      <th>electronics.video.tv</th>\n",
              "      <td>[2053013554415534427, 2053013554415534427, 205...</td>\n",
              "    </tr>\n",
              "    <tr>\n",
              "      <th>furniture.bathroom.bath</th>\n",
              "      <td>[2053013557477376525, 2053013557477376525, 205...</td>\n",
              "    </tr>\n",
              "    <tr>\n",
              "      <th>furniture.bathroom.toilet</th>\n",
              "      <td>[2053013557418656265, 2053013557418656265, 205...</td>\n",
              "    </tr>\n",
              "    <tr>\n",
              "      <th>furniture.bedroom.bed</th>\n",
              "      <td>[2053013555464110485, 2053013555464110485, 205...</td>\n",
              "    </tr>\n",
              "    <tr>\n",
              "      <th>furniture.bedroom.blanket</th>\n",
              "      <td>[2053013561847841545, 2053013561847841545, 205...</td>\n",
              "    </tr>\n",
              "    <tr>\n",
              "      <th>furniture.bedroom.pillow</th>\n",
              "      <td>[2053013561780732677, 2053013561780732677, 205...</td>\n",
              "    </tr>\n",
              "    <tr>\n",
              "      <th>furniture.kitchen.chair</th>\n",
              "      <td>[2053013556487520725, 2053013556487520725, 205...</td>\n",
              "    </tr>\n",
              "    <tr>\n",
              "      <th>furniture.kitchen.table</th>\n",
              "      <td>[2053013558433677895, 2053013558316237377, 205...</td>\n",
              "    </tr>\n",
              "    <tr>\n",
              "      <th>furniture.living_room.cabinet</th>\n",
              "      <td>[2095518921321874323, 2053013557133443581, 205...</td>\n",
              "    </tr>\n",
              "    <tr>\n",
              "      <th>furniture.living_room.chair</th>\n",
              "      <td>[2053013560312726199, 2053013559842964121, 205...</td>\n",
              "    </tr>\n",
              "    <tr>\n",
              "      <th>furniture.living_room.sofa</th>\n",
              "      <td>[2053013559792632471, 2053013559792632471, 205...</td>\n",
              "    </tr>\n",
              "    <tr>\n",
              "      <th>furniture.universal.light</th>\n",
              "      <td>[2053013562149831447, 2053013562149831447, 205...</td>\n",
              "    </tr>\n",
              "    <tr>\n",
              "      <th>kids.carriage</th>\n",
              "      <td>[2053013560346280633, 2053013560346280633, 205...</td>\n",
              "    </tr>\n",
              "    <tr>\n",
              "      <th>kids.dolls</th>\n",
              "      <td>[2053013553224352013, 2053013553224352013, 205...</td>\n",
              "    </tr>\n",
              "    <tr>\n",
              "      <th>kids.fmcg.diapers</th>\n",
              "      <td>[2053013556344914381, 2053013556344914381, 205...</td>\n",
              "    </tr>\n",
              "    <tr>\n",
              "      <th>kids.skates</th>\n",
              "      <td>[2053013555816432043, 2053013555816432043, 205...</td>\n",
              "    </tr>\n",
              "    <tr>\n",
              "      <th>kids.swing</th>\n",
              "      <td>[2106075662325383725, 2106075662325383725, 210...</td>\n",
              "    </tr>\n",
              "    <tr>\n",
              "      <th>kids.toys</th>\n",
              "      <td>[2053013553090134275, 2053013553090134275, 205...</td>\n",
              "    </tr>\n",
              "    <tr>\n",
              "      <th>medicine.tools.tonometer</th>\n",
              "      <td>[2053013562292437791, 2053013562292437791, 205...</td>\n",
              "    </tr>\n",
              "    <tr>\n",
              "      <th>sport.bicycle</th>\n",
              "      <td>[2116907525176557699, 2116907525176557699, 211...</td>\n",
              "    </tr>\n",
              "    <tr>\n",
              "      <th>sport.ski</th>\n",
              "      <td>[2053013559348036219, 2053013559348036219, 205...</td>\n",
              "    </tr>\n",
              "    <tr>\n",
              "      <th>sport.snowboard</th>\n",
              "      <td>[2135658542101693154, 2135658542101693154, 205...</td>\n",
              "    </tr>\n",
              "    <tr>\n",
              "      <th>sport.tennis</th>\n",
              "      <td>[2134905045253095435, 2134905045177597961, 213...</td>\n",
              "    </tr>\n",
              "    <tr>\n",
              "      <th>sport.trainer</th>\n",
              "      <td>[2053013564599305123, 2053013564674802599, 205...</td>\n",
              "    </tr>\n",
              "    <tr>\n",
              "      <th>stationery.cartrige</th>\n",
              "      <td>[2053013552737812719, 2053013552737812719, 205...</td>\n",
              "    </tr>\n",
              "  </tbody>\n",
              "</table>\n",
              "</div>"
            ],
            "text/plain": [
              "                                                                            category_list\n",
              "category_code                                                                            \n",
              "accessories.bag                         [2053013566209917945, 2053013566209917945, 205...\n",
              "accessories.umbrella                    [2094006249627582860, 2094006249627582860, 209...\n",
              "accessories.wallet                      [2053013566243472379, 2053013566243472379, 205...\n",
              "apparel.belt                            [2053013566277026813, 2053013566277026813, 205...\n",
              "apparel.costume                         [2084962304016777941, 2084962304016777941, 208...\n",
              "apparel.dress                           [2146660887002349890, 2110937218225800069, 214...\n",
              "apparel.jacket                          [2110937217663763331, 2110937217663763331, 211...\n",
              "apparel.jeans                           [2146660887094624580, 2146660887094624580, 214...\n",
              "apparel.scarf                           [2069241407767315312, 2069241407767315312, 206...\n",
              "apparel.shirt                           [2086471240842740173, 2086471240842740173, 208...\n",
              "apparel.shoes                           [2053013565127787455, 2116907519078040377, 205...\n",
              "apparel.shoes.ballet_shoes              [2053013565857596389, 2053013565857596389, 205...\n",
              "apparel.shoes.espadrilles               [2053013565505274835, 2053013565505274835, 205...\n",
              "apparel.shoes.keds                      [2053013565069067197, 2053013565480109009, 205...\n",
              "apparel.shoes.moccasins                 [2053013565253616583, 2053013565253616583, 205...\n",
              "apparel.shoes.sandals                   [2053013565681435611, 2053013565681435611, 205...\n",
              "apparel.shoes.slipons                   [2053013565329114057, 2053013565413000141, 205...\n",
              "apparel.shoes.step_ins                  [2053013565152953281, 2053013565152953281, 205...\n",
              "apparel.shorts                          [2076715364237967901, 2076715364237967901, 207...\n",
              "apparel.skirt                           [2110187395688169553, 2110187395688169553, 211...\n",
              "apparel.sock                            [2127424820051182462, 2127424820051182462, 212...\n",
              "apparel.trousers                        [2086471240800797129, 2086471240800797129, 208...\n",
              "apparel.tshirt                          [2097815753423061045, 2097815753423061045, 209...\n",
              "apparel.underwear                       [2070005009382114061, 2070005009382114061, 207...\n",
              "appliances.environment.air_conditioner  [2053013552351936731, 2053013552351936731, 205...\n",
              "appliances.environment.air_heater       [2053013552293216471, 2053013552293216471, 205...\n",
              "appliances.environment.fan              [2053013552226107603, 2053013552226107603, 205...\n",
              "appliances.environment.vacuum           [2053013565983425517, 2053013565983425517, 209...\n",
              "appliances.environment.water_heater     [2053013552326770905, 2053013552326770905, 205...\n",
              "appliances.iron                         [2053013566176363511, 2053013566176363511, 205...\n",
              "appliances.ironing_board                [2053013566033757167, 2053013566033757167, 205...\n",
              "appliances.kitchen.blender              [2053013555262783879, 2053013555262783879, 205...\n",
              "appliances.kitchen.coffee_grinder       [2053013554725912943, 2053013554725912943, 205...\n",
              "appliances.kitchen.coffee_machine       [2053013555095011711, 2053013555095011711, 205...\n",
              "appliances.kitchen.dishwasher           [2053013563944993659, 2053013563944993659, 205...\n",
              "appliances.kitchen.grill                [2053013554751078769, 2053013554751078769, 205...\n",
              "appliances.kitchen.hob                  [2053013563877884791, 2053013563877884791, 205...\n",
              "appliances.kitchen.hood                 [2053013563743667055, 2053013563743667055, 205...\n",
              "appliances.kitchen.juicer               [2053013555220840837, 2053013555220840837, 205...\n",
              "appliances.kitchen.kettle               [2053013554834964853, 2053013554834964853, 205...\n",
              "appliances.kitchen.meat_grinder         [2053013555321504139, 2053013555321504139, 205...\n",
              "appliances.kitchen.microwave            [2053013554776244595, 2053013554776244595, 205...\n",
              "appliances.kitchen.mixer                [2053013555069845885, 2053013555069845885, 205...\n",
              "appliances.kitchen.oven                 [2053013564003713919, 2053013564003713919, 205...\n",
              "appliances.kitchen.refrigerators        [2110187395394568257, 2053013563911439225, 205...\n",
              "appliances.kitchen.steam_cooker         [2053013555120177537, 2053013555120177537, 205...\n",
              "appliances.kitchen.toster               [2053013554960793975, 2053013554960793975, 205...\n",
              "appliances.kitchen.washer               [2053013563810775923, 2053013563810775923, 205...\n",
              "appliances.personal.hair_cutter         [2053013563097744201, 2053013563097744201, 205...\n",
              "appliances.personal.massager            [2053013565941482475, 2053013565941482475, 205...\n",
              "appliances.personal.scales              [2053013555036291451, 2053013555036291451, 205...\n",
              "appliances.sewing_machine               [2053013566100866035, 2053013566100866035, 205...\n",
              "auto.accessories.alarm                  [2053013560807654091, 2053013560807654091, 205...\n",
              "auto.accessories.compressor             [2053013560581161671, 2165087460176953468, 213...\n",
              "auto.accessories.parktronic             [2053013560623104713, 2053013560623104713, 205...\n",
              "auto.accessories.player                 [2053013553970938175, 2053013553970938175, 205...\n",
              "auto.accessories.radar                  [2053013560866374351, 2053013560866374351, 205...\n",
              "auto.accessories.videoregister          [2053013560899928785, 2053013560899928785, 205...\n",
              "auto.accessories.winch                  [2100065080828756704, 2100065080828756704, 210...\n",
              "computers.components.cooler             [2053013554004492609, 2053013554004492609, 205...\n",
              "computers.components.cpu                [2053013554121933129, 2053013554121933129, 205...\n",
              "computers.components.hdd                [2053013554222596431, 2053013554222596431, 205...\n",
              "computers.components.memory             [2053013554189041997, 2053013554189041997, 205...\n",
              "computers.components.motherboard        [2053013554155487563, 2053013554155487563, 205...\n",
              "computers.components.power_supply       [2053013554096767303, 2053013554096767303, 205...\n",
              "computers.components.videocards         [2053013554247762257, 2053013554247762257, 205...\n",
              "computers.desktop                       [2053013558391734853, 2053013559868129947, 205...\n",
              "computers.ebooks                        [2053013553316626707, 2053013553316626707, 205...\n",
              "computers.notebook                      [2053013558920217191, 2053013558920217191, 205...\n",
              "computers.peripherals.camera            [2053013552502931683, 2053013552502931683, 205...\n",
              "computers.peripherals.keyboard          [2053013552913973497, 2053013552913973497, 205...\n",
              "computers.peripherals.monitor           [2053013553031414015, 2053013553031414015, 205...\n",
              "computers.peripherals.mouse             [2053013552888807671, 2053013552888807671, 205...\n",
              "computers.peripherals.printer           [2053013552955916539, 2053013552955916539, 205...\n",
              "construction.components.faucet          [2053013557343158789, 2053013557343158789, 205...\n",
              "construction.tools.drill                [2053013556311359947, 2053013556311359947, 205...\n",
              "construction.tools.generator            [2053013566142809077, 2053013566142809077, 205...\n",
              "construction.tools.light                [2098563450757186313, 2098563450757186313, 209...\n",
              "construction.tools.painting             [2127425434894205468, 2127425434894205468, 212...\n",
              "construction.tools.pump                 [2053013560086233771, 2053013560086233771, 205...\n",
              "construction.tools.saw                  [2053013556202308035, 2053013556227473861, 205...\n",
              "construction.tools.welding              [2127425436764865054, 2127425436764865054, 212...\n",
              "country_yard.cultivator                 [2053013559985570467, 2053013559985570467, 205...\n",
              "country_yard.furniture.bench            [2059484602015154495, 2059484602015154495, 205...\n",
              "country_yard.furniture.hammok           [2059484601981600061, 2059484601981600061, 205...\n",
              "country_yard.lawn_mower                 [2053013560061067945, 2053013560061067945, 205...\n",
              "electronics.audio.acoustic              [2053013554591695207, 2053013557670314521, 205...\n",
              "electronics.audio.headphone             [2053013554658804075, 2053013554658804075, 205...\n",
              "electronics.audio.microphone            [2053013554474254687, 2053013554474254687, 205...\n",
              "electronics.audio.music_tools.piano     [2053013557603205653, 2053013557603205653, 205...\n",
              "electronics.audio.subwoofer             [2053013553945772349, 2053013553945772349, 205...\n",
              "electronics.camera.photo                [2053013560497275585, 2053013560497275585, 205...\n",
              "electronics.camera.video                [2053013560530830019, 2053013560530830019, 205...\n",
              "electronics.clocks                      [2053013561579406073, 2053013553341792533, 205...\n",
              "electronics.smartphone                  [2053013555631882655, 2053013555631882655, 205...\n",
              "electronics.tablet                      [2172371436436455782, 2172371436436455782, 205...\n",
              "electronics.telephone                   [2053013555573162395, 2053013555573162395, 205...\n",
              "electronics.video.projector             [2053013552570040549, 2053013552570040549, 205...\n",
              "electronics.video.tv                    [2053013554415534427, 2053013554415534427, 205...\n",
              "furniture.bathroom.bath                 [2053013557477376525, 2053013557477376525, 205...\n",
              "furniture.bathroom.toilet               [2053013557418656265, 2053013557418656265, 205...\n",
              "furniture.bedroom.bed                   [2053013555464110485, 2053013555464110485, 205...\n",
              "furniture.bedroom.blanket               [2053013561847841545, 2053013561847841545, 205...\n",
              "furniture.bedroom.pillow                [2053013561780732677, 2053013561780732677, 205...\n",
              "furniture.kitchen.chair                 [2053013556487520725, 2053013556487520725, 205...\n",
              "furniture.kitchen.table                 [2053013558433677895, 2053013558316237377, 205...\n",
              "furniture.living_room.cabinet           [2095518921321874323, 2053013557133443581, 205...\n",
              "furniture.living_room.chair             [2053013560312726199, 2053013559842964121, 205...\n",
              "furniture.living_room.sofa              [2053013559792632471, 2053013559792632471, 205...\n",
              "furniture.universal.light               [2053013562149831447, 2053013562149831447, 205...\n",
              "kids.carriage                           [2053013560346280633, 2053013560346280633, 205...\n",
              "kids.dolls                              [2053013553224352013, 2053013553224352013, 205...\n",
              "kids.fmcg.diapers                       [2053013556344914381, 2053013556344914381, 205...\n",
              "kids.skates                             [2053013555816432043, 2053013555816432043, 205...\n",
              "kids.swing                              [2106075662325383725, 2106075662325383725, 210...\n",
              "kids.toys                               [2053013553090134275, 2053013553090134275, 205...\n",
              "medicine.tools.tonometer                [2053013562292437791, 2053013562292437791, 205...\n",
              "sport.bicycle                           [2116907525176557699, 2116907525176557699, 211...\n",
              "sport.ski                               [2053013559348036219, 2053013559348036219, 205...\n",
              "sport.snowboard                         [2135658542101693154, 2135658542101693154, 205...\n",
              "sport.tennis                            [2134905045253095435, 2134905045177597961, 213...\n",
              "sport.trainer                           [2053013564599305123, 2053013564674802599, 205...\n",
              "stationery.cartrige                     [2053013552737812719, 2053013552737812719, 205..."
            ]
          },
          "execution_count": 37,
          "metadata": {},
          "output_type": "execute_result"
        }
      ],
      "source": [
        "\n",
        "pd.set_option('display.max_rows', None)\n",
        "category\n"
      ]
    },
    {
      "cell_type": "code",
      "execution_count": 67,
      "metadata": {
        "colab": {
          "base_uri": "https://localhost:8080/"
        },
        "id": "8IT2Jyy1lxI_",
        "outputId": "0a72abc3-e8bf-4d7c-eec7-9772bc9975ce"
      },
      "outputs": [
        {
          "name": "stdout",
          "output_type": "stream",
          "text": [
            "1      119849\n",
            "2       68181\n",
            "3       48238\n",
            "4       35772\n",
            "5       27053\n",
            "6       21392\n",
            "7       17545\n",
            "8       14521\n",
            "9       12208\n",
            "10      10344\n",
            "11       8920\n",
            "12       7748\n",
            "13       6646\n",
            "14       5884\n",
            "15       5312\n",
            "16       4615\n",
            "17       4163\n",
            "18       3715\n",
            "19       3284\n",
            "20       2973\n",
            "21       2638\n",
            "22       2486\n",
            "23       2263\n",
            "24       2029\n",
            "25       1836\n",
            "26       1690\n",
            "27       1592\n",
            "28       1416\n",
            "29       1361\n",
            "30       1197\n",
            "31       1092\n",
            "32       1063\n",
            "33        900\n",
            "34        872\n",
            "35        828\n",
            "36        799\n",
            "37        725\n",
            "38        675\n",
            "39        620\n",
            "41        581\n",
            "40        560\n",
            "42        526\n",
            "43        459\n",
            "44        435\n",
            "45        422\n",
            "47        413\n",
            "46        396\n",
            "48        379\n",
            "49        350\n",
            "50        331\n",
            "51        325\n",
            "52        261\n",
            "55        253\n",
            "54        253\n",
            "53        247\n",
            "57        242\n",
            "56        236\n",
            "59        220\n",
            "58        207\n",
            "60        204\n",
            "61        190\n",
            "63        177\n",
            "62        165\n",
            "64        164\n",
            "66        154\n",
            "65        150\n",
            "70        132\n",
            "68        132\n",
            "67        131\n",
            "71        122\n",
            "72        107\n",
            "74        104\n",
            "69        103\n",
            "76         90\n",
            "73         89\n",
            "78         84\n",
            "75         84\n",
            "81         83\n",
            "82         82\n",
            "79         75\n",
            "87         74\n",
            "77         72\n",
            "84         68\n",
            "80         68\n",
            "89         66\n",
            "83         62\n",
            "88         61\n",
            "90         60\n",
            "93         57\n",
            "91         54\n",
            "85         52\n",
            "86         52\n",
            "95         47\n",
            "94         46\n",
            "99         45\n",
            "97         40\n",
            "100        39\n",
            "92         39\n",
            "105        38\n",
            "115        37\n",
            "106        37\n",
            "98         36\n",
            "96         35\n",
            "101        34\n",
            "102        33\n",
            "109        32\n",
            "114        30\n",
            "108        29\n",
            "103        28\n",
            "107        26\n",
            "118        25\n",
            "120        25\n",
            "113        24\n",
            "104        24\n",
            "122        24\n",
            "111        23\n",
            "117        22\n",
            "119        21\n",
            "110        21\n",
            "124        21\n",
            "127        21\n",
            "125        19\n",
            "123        18\n",
            "131        17\n",
            "121        17\n",
            "112        17\n",
            "133        16\n",
            "142        15\n",
            "130        14\n",
            "129        14\n",
            "135        14\n",
            "116        13\n",
            "132        13\n",
            "150        12\n",
            "144        12\n",
            "145        12\n",
            "136        12\n",
            "139        12\n",
            "137        11\n",
            "143        11\n",
            "128        11\n",
            "126        10\n",
            "134        10\n",
            "158        10\n",
            "147        10\n",
            "138        10\n",
            "141         9\n",
            "140         9\n",
            "157         8\n",
            "184         8\n",
            "156         8\n",
            "148         7\n",
            "152         7\n",
            "162         7\n",
            "160         7\n",
            "149         7\n",
            "182         6\n",
            "166         6\n",
            "207         6\n",
            "178         6\n",
            "164         6\n",
            "195         6\n",
            "186         6\n",
            "204         5\n",
            "179         5\n",
            "183         5\n",
            "165         5\n",
            "172         5\n",
            "170         5\n",
            "193         5\n",
            "189         5\n",
            "177         5\n",
            "163         5\n",
            "155         5\n",
            "151         5\n",
            "153         5\n",
            "154         5\n",
            "161         5\n",
            "211         4\n",
            "176         4\n",
            "146         4\n",
            "185         4\n",
            "168         4\n",
            "181         4\n",
            "212         3\n",
            "270         3\n",
            "209         3\n",
            "201         3\n",
            "194         3\n",
            "198         3\n",
            "217         3\n",
            "216         3\n",
            "196         3\n",
            "213         3\n",
            "229         3\n",
            "188         3\n",
            "175         3\n",
            "241         3\n",
            "242         3\n",
            "173         3\n",
            "174         3\n",
            "206         3\n",
            "219         2\n",
            "234         2\n",
            "235         2\n",
            "263         2\n",
            "221         2\n",
            "227         2\n",
            "222         2\n",
            "223         2\n",
            "225         2\n",
            "293         2\n",
            "259         2\n",
            "258         2\n",
            "210         2\n",
            "311         2\n",
            "257         2\n",
            "233         2\n",
            "200         2\n",
            "283         2\n",
            "374         2\n",
            "169         2\n",
            "171         2\n",
            "159         2\n",
            "359         2\n",
            "180         2\n",
            "187         2\n",
            "330         2\n",
            "191         2\n",
            "327         2\n",
            "190         2\n",
            "278         2\n",
            "459         2\n",
            "202         2\n",
            "199         2\n",
            "197         2\n",
            "284         1\n",
            "533         1\n",
            "279         1\n",
            "280         1\n",
            "275         1\n",
            "276         1\n",
            "268         1\n",
            "264         1\n",
            "534         1\n",
            "266         1\n",
            "265         1\n",
            "269         1\n",
            "282         1\n",
            "526         1\n",
            "271         1\n",
            "255         1\n",
            "545         1\n",
            "294         1\n",
            "192         1\n",
            "449         1\n",
            "203         1\n",
            "205         1\n",
            "208         1\n",
            "469         1\n",
            "214         1\n",
            "215         1\n",
            "471         1\n",
            "224         1\n",
            "226         1\n",
            "228         1\n",
            "231         1\n",
            "236         1\n",
            "237         1\n",
            "493         1\n",
            "238         1\n",
            "239         1\n",
            "240         1\n",
            "244         1\n",
            "245         1\n",
            "250         1\n",
            "251         1\n",
            "507         1\n",
            "252         1\n",
            "446         1\n",
            "442         1\n",
            "436         1\n",
            "353         1\n",
            "295         1\n",
            "297         1\n",
            "299         1\n",
            "304         1\n",
            "307         1\n",
            "313         1\n",
            "321         1\n",
            "323         1\n",
            "334         1\n",
            "598         1\n",
            "348         1\n",
            "354         1\n",
            "427         1\n",
            "254         1\n",
            "372         1\n",
            "379         1\n",
            "380         1\n",
            "390         1\n",
            "406         1\n",
            "926         1\n",
            "416         1\n",
            "418         1\n",
            "167         1\n",
            "424         1\n",
            "256         1\n",
            "Name: product_id, dtype: int64\n",
            "466553\n"
          ]
        }
      ],
      "source": [
        "product_id_list = sampled_data.groupby(\"user_id\")['product_id'].apply(list).reset_index()\n",
        "print(product_id_list['product_id'].apply(len).value_counts())\n",
        "print(product_id_list['product_id'].apply(len).value_counts().sum())"
      ]
    },
    {
      "cell_type": "code",
      "execution_count": 69,
      "metadata": {
        "colab": {
          "base_uri": "https://localhost:8080/"
        },
        "id": "zTPj0rc3w3XE",
        "outputId": "a10eee73-fe06-43e7-8a84-96affe909c24"
      },
      "outputs": [
        {
          "name": "stdout",
          "output_type": "stream",
          "text": [
            "1     27855\n",
            "2      5994\n",
            "3      1911\n",
            "4       819\n",
            "5       420\n",
            "6       227\n",
            "7       153\n",
            "8        95\n",
            "9        80\n",
            "10       42\n",
            "11       35\n",
            "12       25\n",
            "14       22\n",
            "13       19\n",
            "15       12\n",
            "17        7\n",
            "18        7\n",
            "16        4\n",
            "19        4\n",
            "20        4\n",
            "21        4\n",
            "22        4\n",
            "24        4\n",
            "25        3\n",
            "45        2\n",
            "23        2\n",
            "26        2\n",
            "27        2\n",
            "35        2\n",
            "30        1\n",
            "37        1\n",
            "38        1\n",
            "40        1\n",
            "29        1\n",
            "32        1\n",
            "Name: product_id_len, dtype: int64\n",
            "37766\n"
          ]
        }
      ],
      "source": [
        "sampled_purchase_data = sampled_data.loc[sampled_data['event_type']=='purchase']\n",
        "product_id_list2 = sampled_purchase_data.groupby(\"user_id\")['product_id'].agg(product_id_len=list).reset_index()\n",
        "print(product_id_list2['product_id_len'].apply(len).value_counts())\n",
        "print(product_id_list2['product_id_len'].apply(len).value_counts().sum())"
      ]
    },
    {
      "cell_type": "code",
      "execution_count": null,
      "metadata": {
        "colab": {
          "base_uri": "https://localhost:8080/"
        },
        "id": "AVMvSBUvs9PH",
        "outputId": "792875d7-b349-4000-978b-ace12a913405"
      },
      "outputs": [
        {
          "name": "stdout",
          "output_type": "stream",
          "text": [
            "     product_id         category_code\n",
            "0      20000003            [nan, nan]\n",
            "1      20000090                 [nan]\n",
            "2      20000098       [nan, nan, nan]\n",
            "3      20000099  [nan, nan, nan, nan]\n",
            "4      20000157                 [nan]\n",
            "..          ...                   ...\n",
            "193    20900784                 [nan]\n",
            "194    20900791                 [nan]\n",
            "195    20900808            [nan, nan]\n",
            "196    20900849                 [nan]\n",
            "197    20900850                 [nan]\n",
            "\n",
            "[198 rows x 2 columns]\n"
          ]
        }
      ],
      "source": [
        "filtered_data = sampled_data[sampled_data['product_id'].astype(str).str.startswith('20')]\n",
        "\n",
        "# Step 2: product_id가 20으로 시작하는 데이터의 user_id별 category_code 확인\n",
        "result = filtered_data.groupby('product_id')['category_code'].apply(list).reset_index()\n",
        "result['category_code'].is\n",
        "# 결과 확인\n",
        "print(result)"
      ]
    },
    {
      "cell_type": "code",
      "execution_count": null,
      "metadata": {
        "colab": {
          "base_uri": "https://localhost:8080/"
        },
        "id": "MvfE0QwInk7-",
        "outputId": "b9cbfab9-f516-4d6d-cd76-b3e6d3beeb48"
      },
      "outputs": [
        {
          "name": "stdout",
          "output_type": "stream",
          "text": [
            "     product_id                       category_code\n",
            "85     20200021                   [sport.snowboard]\n",
            "86     20200029                   [sport.snowboard]\n",
            "87     20200065                   [sport.snowboard]\n",
            "88     20200081                   [sport.snowboard]\n",
            "89     20200083                   [sport.snowboard]\n",
            "90     20200124  [sport.snowboard, sport.snowboard]\n",
            "91     20200129  [sport.snowboard, sport.snowboard]\n",
            "92     20200240                   [sport.snowboard]\n",
            "93     20200328  [sport.snowboard, sport.snowboard]\n",
            "94     20200329                   [sport.snowboard]\n",
            "95     20200347                   [sport.snowboard]\n",
            "96     20200348                   [sport.snowboard]\n",
            "97     20200367                   [sport.snowboard]\n",
            "98     20200369                   [sport.snowboard]\n",
            "99     20200371                   [sport.snowboard]\n",
            "100    20200400                   [sport.snowboard]\n",
            "101    20400018                     [apparel.shoes]\n",
            "102    20400108                     [apparel.shoes]\n",
            "103    20400213                     [apparel.shoes]\n",
            "104    20400462                     [apparel.shoes]\n",
            "105    20400504                     [apparel.shoes]\n",
            "106    20500132                         [sport.ski]\n",
            "107    20500142                         [sport.ski]\n",
            "108    20500211                         [sport.ski]\n",
            "109    20500321                         [sport.ski]\n",
            "110    20500363                         [sport.ski]\n",
            "111    20500420                         [sport.ski]\n",
            "112    20500479                         [sport.ski]\n",
            "114    20700031                     [apparel.shoes]\n",
            "115    20700035                     [apparel.shoes]\n",
            "116    20700146      [apparel.shoes, apparel.shoes]\n",
            "117    20700222                     [apparel.shoes]\n",
            "118    20700289                     [apparel.shoes]\n",
            "119    20700453                     [apparel.shoes]\n",
            "120    20700553                     [apparel.shoes]\n"
          ]
        }
      ],
      "source": [
        "filtered_result = result[result['category_code'].apply(lambda x: not any(pd.isna(i) for i in x))]\n",
        "\n",
        "# 결과 확인\n",
        "print(filtered_result)\n",
        "filtered_result['category_code'].str.split('.')"
      ]
    },
    {
      "cell_type": "code",
      "execution_count": null,
      "metadata": {
        "colab": {
          "base_uri": "https://localhost:8080/"
        },
        "id": "iZ4vCGbLz1f8",
        "outputId": "5c6d24c3-fb68-4ef4-acd7-b63a90fb9ed6"
      },
      "outputs": [
        {
          "data": {
            "text/plain": [
              "array(['sport', 'apparel'], dtype=object)"
            ]
          },
          "execution_count": 21,
          "metadata": {},
          "output_type": "execute_result"
        }
      ],
      "source": [
        "category_main=filtered_result['category_code'].apply(lambda x: x[0].split('.')[0])\n",
        "category_main.unique()"
      ]
    },
    {
      "cell_type": "code",
      "execution_count": 15,
      "metadata": {},
      "outputs": [
        {
          "name": "stdout",
          "output_type": "stream",
          "text": [
            "이탈율: 73.76%\n",
            "재구매율: 26.24%\n"
          ]
        }
      ],
      "source": [
        "purchase_data = sampled_data.loc[sampled_data['event_type'] == 'purchase',:]\n",
        "user_purchase_counts = purchase_data['user_id'].value_counts()\n",
        "single_purchase_users = user_purchase_counts[user_purchase_counts == 1].count()\n",
        "total_purchase_users = user_purchase_counts.count()\n",
        "churn_rate = single_purchase_users / total_purchase_users if total_purchase_users > 0 else 0\n",
        "repeat_purchase_users = user_purchase_counts[user_purchase_counts > 1].count()\n",
        "repurchase_rate = repeat_purchase_users / total_purchase_users if total_purchase_users > 0 else 0\n",
        "print(f\"이탈율: {churn_rate:.2%}\")\n",
        "print(f\"재구매율: {repurchase_rate:.2%}\")"
      ]
    },
    {
      "cell_type": "code",
      "execution_count": 20,
      "metadata": {},
      "outputs": [
        {
          "name": "stdout",
          "output_type": "stream",
          "text": [
            "전환율:\n",
            "view → cart: 4.18%\n",
            "cart → purchase: 2.32%\n",
            "view → purchase: 6.33%\n"
          ]
        },
        {
          "data": {
            "image/png": "[encoded data removed]",
            "text/plain": [
              "<Figure size 432x288 with 1 Axes>"
            ]
          },
          "metadata": {
            "needs_background": "light"
          },
          "output_type": "display_data"
        }
      ],
      "source": [
        "import matplotlib.pyplot as plt\n",
        "import matplotlib.font_manager as fm\n",
        "\n",
        "# 폰트 설정\n",
        "plt.rc('font', family='Malgun Gothic')  # Windows: 맑은 고딕\n",
        "\n",
        "# 음수 기호 깨짐 방지\n",
        "plt.rcParams['axes.unicode_minus'] = False\n",
        "sampled_data=sampled_data.sort_values(by=['user_session', 'event_time'])\n",
        "\n",
        "# 각 세션별 unique 이벤트 추출\n",
        "session_events =sampled_data.groupby('user_session')['event_type'].apply(list)\n",
        "\n",
        "# 전환율 계산\n",
        "view_to_cart = session_events.apply(lambda x: 1 if 'view' in x and 'cart' in x else 0).sum() / len(session_events)\n",
        "cart_to_purchase = session_events.apply(lambda x: 1 if 'cart' in x and 'purchase' in x else 0).sum() / len(session_events)\n",
        "view_to_purchase = session_events.apply(lambda x: 1 if 'view' in x and 'purchase' in x else 0).sum() / len(session_events)\n",
        "\n",
        "# 결과 출력\n",
        "conversion_rates = {\n",
        "    'view → cart': view_to_cart,\n",
        "    'cart → purchase': cart_to_purchase,\n",
        "    'view → purchase': view_to_purchase\n",
        "}\n",
        "\n",
        "print(\"전환율:\")\n",
        "for stage, rate in conversion_rates.items():\n",
        "    print(f\"{stage}: {rate:.2%}\")\n",
        "\n",
        "# 시각화\n",
        "plt.bar(conversion_rates.keys(), conversion_rates.values())\n",
        "plt.title('이벤트당 전환율')\n",
        "plt.ylabel('Conversion Rate')\n",
        "plt.ylim(0, 0.1)\n",
        "plt.show()"
      ]
    },
    {
      "cell_type": "code",
      "execution_count": 65,
      "metadata": {},
      "outputs": [
        {
          "data": {
            "text/html": [
              "<div>\n",
              "<style scoped>\n",
              "    .dataframe tbody tr th:only-of-type {\n",
              "        vertical-align: middle;\n",
              "    }\n",
              "\n",
              "    .dataframe tbody tr th {\n",
              "        vertical-align: top;\n",
              "    }\n",
              "\n",
              "    .dataframe thead th {\n",
              "        text-align: right;\n",
              "    }\n",
              "</style>\n",
              "<table border=\"1\" class=\"dataframe\">\n",
              "  <thead>\n",
              "    <tr style=\"text-align: right;\">\n",
              "      <th></th>\n",
              "      <th>event_type</th>\n",
              "      <th>category_code</th>\n",
              "      <th>brand</th>\n",
              "      <th>user_session</th>\n",
              "    </tr>\n",
              "  </thead>\n",
              "  <tbody>\n",
              "    <tr>\n",
              "      <th>count</th>\n",
              "      <td>3562876</td>\n",
              "      <td>2445566</td>\n",
              "      <td>3042586</td>\n",
              "      <td>3562876</td>\n",
              "    </tr>\n",
              "    <tr>\n",
              "      <th>unique</th>\n",
              "      <td>3</td>\n",
              "      <td>123</td>\n",
              "      <td>2494</td>\n",
              "      <td>768871</td>\n",
              "    </tr>\n",
              "    <tr>\n",
              "      <th>top</th>\n",
              "      <td>view</td>\n",
              "      <td>electronics.smartphone</td>\n",
              "      <td>samsung</td>\n",
              "      <td>fb075266-182d-4c11-b5f7-4e4dcdabd4a7</td>\n",
              "    </tr>\n",
              "    <tr>\n",
              "      <th>freq</th>\n",
              "      <td>3451596</td>\n",
              "      <td>1006312</td>\n",
              "      <td>439696</td>\n",
              "      <td>533</td>\n",
              "    </tr>\n",
              "  </tbody>\n",
              "</table>\n",
              "</div>"
            ],
            "text/plain": [
              "       event_type           category_code    brand  \\\n",
              "count     3562876                 2445566  3042586   \n",
              "unique          3                     123     2494   \n",
              "top          view  electronics.smartphone  samsung   \n",
              "freq      3451596                 1006312   439696   \n",
              "\n",
              "                                user_session  \n",
              "count                                3562876  \n",
              "unique                                768871  \n",
              "top     fb075266-182d-4c11-b5f7-4e4dcdabd4a7  \n",
              "freq                                     533  "
            ]
          },
          "execution_count": 65,
          "metadata": {},
          "output_type": "execute_result"
        }
      ],
      "source": [
        "sampled_data.describe(include='object')\n"
      ]
    },
    {
      "cell_type": "code",
      "execution_count": 66,
      "metadata": {},
      "outputs": [
        {
          "data": {
            "text/html": [
              "<div>\n",
              "<style scoped>\n",
              "    .dataframe tbody tr th:only-of-type {\n",
              "        vertical-align: middle;\n",
              "    }\n",
              "\n",
              "    .dataframe tbody tr th {\n",
              "        vertical-align: top;\n",
              "    }\n",
              "\n",
              "    .dataframe thead th {\n",
              "        text-align: right;\n",
              "    }\n",
              "</style>\n",
              "<table border=\"1\" class=\"dataframe\">\n",
              "  <thead>\n",
              "    <tr style=\"text-align: right;\">\n",
              "      <th></th>\n",
              "      <th>product_id</th>\n",
              "      <th>category_id</th>\n",
              "      <th>price</th>\n",
              "      <th>user_id</th>\n",
              "    </tr>\n",
              "  </thead>\n",
              "  <tbody>\n",
              "    <tr>\n",
              "      <th>count</th>\n",
              "      <td>3.562876e+06</td>\n",
              "      <td>3.562876e+06</td>\n",
              "      <td>3.562876e+06</td>\n",
              "      <td>3.562876e+06</td>\n",
              "    </tr>\n",
              "    <tr>\n",
              "      <th>mean</th>\n",
              "      <td>1.027035e+07</td>\n",
              "      <td>2.056549e+18</td>\n",
              "      <td>2.996709e+02</td>\n",
              "      <td>5.314668e+08</td>\n",
              "    </tr>\n",
              "    <tr>\n",
              "      <th>std</th>\n",
              "      <td>1.134612e+07</td>\n",
              "      <td>1.631455e+16</td>\n",
              "      <td>3.703687e+02</td>\n",
              "      <td>1.693668e+07</td>\n",
              "    </tr>\n",
              "    <tr>\n",
              "      <th>min</th>\n",
              "      <td>1.001588e+06</td>\n",
              "      <td>2.053014e+18</td>\n",
              "      <td>0.000000e+00</td>\n",
              "      <td>1.835035e+08</td>\n",
              "    </tr>\n",
              "    <tr>\n",
              "      <th>25%</th>\n",
              "      <td>1.005115e+06</td>\n",
              "      <td>2.053014e+18</td>\n",
              "      <td>6.435000e+01</td>\n",
              "      <td>5.156121e+08</td>\n",
              "    </tr>\n",
              "    <tr>\n",
              "      <th>50%</th>\n",
              "      <td>5.000065e+06</td>\n",
              "      <td>2.053014e+18</td>\n",
              "      <td>1.641700e+02</td>\n",
              "      <td>5.274067e+08</td>\n",
              "    </tr>\n",
              "    <tr>\n",
              "      <th>75%</th>\n",
              "      <td>1.640002e+07</td>\n",
              "      <td>2.053014e+18</td>\n",
              "      <td>3.703100e+02</td>\n",
              "      <td>5.483664e+08</td>\n",
              "    </tr>\n",
              "    <tr>\n",
              "      <th>max</th>\n",
              "      <td>5.460000e+07</td>\n",
              "      <td>2.175420e+18</td>\n",
              "      <td>2.574070e+03</td>\n",
              "      <td>5.565467e+08</td>\n",
              "    </tr>\n",
              "  </tbody>\n",
              "</table>\n",
              "</div>"
            ],
            "text/plain": [
              "         product_id   category_id         price       user_id\n",
              "count  3.562876e+06  3.562876e+06  3.562876e+06  3.562876e+06\n",
              "mean   1.027035e+07  2.056549e+18  2.996709e+02  5.314668e+08\n",
              "std    1.134612e+07  1.631455e+16  3.703687e+02  1.693668e+07\n",
              "min    1.001588e+06  2.053014e+18  0.000000e+00  1.835035e+08\n",
              "25%    1.005115e+06  2.053014e+18  6.435000e+01  5.156121e+08\n",
              "50%    5.000065e+06  2.053014e+18  1.641700e+02  5.274067e+08\n",
              "75%    1.640002e+07  2.053014e+18  3.703100e+02  5.483664e+08\n",
              "max    5.460000e+07  2.175420e+18  2.574070e+03  5.565467e+08"
            ]
          },
          "execution_count": 66,
          "metadata": {},
          "output_type": "execute_result"
        }
      ],
      "source": [
        "sampled_data.describe()"
      ]
    },
    {
      "cell_type": "code",
      "execution_count": 62,
      "metadata": {
        "id": "Uo1pAExaFS2r"
      },
      "outputs": [
        {
          "name": "stdout",
          "output_type": "stream",
          "text": [
            "           event_time event_type  product_id          category_id  \\\n",
            "0 2019-10-01 00:00:00       view    44600062  2103807459595387724   \n",
            "1 2019-10-01 00:00:00       view     3900821  2053013552326770905   \n",
            "2 2019-10-01 00:00:01       view    17200506  2053013559792632471   \n",
            "3 2019-10-01 00:00:01       view     1307067  2053013558920217191   \n",
            "4 2019-10-01 00:00:04       view     1004237  2053013555631882655   \n",
            "\n",
            "                         category_code     brand    price    user_id  \\\n",
            "0                                  NaN  shiseido    35.79  541312140   \n",
            "1  appliances.environment.water_heater      aqua    33.20  554748717   \n",
            "2           furniture.living_room.sofa       NaN   543.10  519107250   \n",
            "3                   computers.notebook    lenovo   251.74  550050854   \n",
            "4               electronics.smartphone     apple  1081.98  535871217   \n",
            "\n",
            "                           user_session  \n",
            "0  72d76fde-8bb3-4e00-8c23-a032dfed738c  \n",
            "1  9333dfbd-b87a-4708-9857-6336556b0fcc  \n",
            "2  566511c2-e2e3-422b-b695-cf8e6e792ca8  \n",
            "3  7c90fc70-0e80-4590-96f3-13c02c18c713  \n",
            "4  c6bd7419-2748-4c56-95b4-8cec9ff8b80d  \n",
            "(3562876, 9)\n",
            "<class 'pandas.core.frame.DataFrame'>\n",
            "Int64Index: 3562876 entries, 0 to 3562875\n",
            "Data columns (total 9 columns):\n",
            " #   Column         Dtype         \n",
            "---  ------         -----         \n",
            " 0   event_time     datetime64[ns]\n",
            " 1   event_type     object        \n",
            " 2   product_id     int64         \n",
            " 3   category_id    int64         \n",
            " 4   category_code  object        \n",
            " 5   brand          object        \n",
            " 6   price          float64       \n",
            " 7   user_id        int64         \n",
            " 8   user_session   object        \n",
            "dtypes: datetime64[ns](1), float64(1), int64(3), object(4)\n",
            "memory usage: 271.8+ MB\n",
            "None\n",
            "Index(['event_time', 'event_type', 'product_id', 'category_id',\n",
            "       'category_code', 'brand', 'price', 'user_id', 'user_session'],\n",
            "      dtype='object')\n",
            "visitors: 466553\n"
          ]
        }
      ],
      "source": [
        "print(sampled_data.head())\n",
        "print(sampled_data.shape)\n",
        "print(sampled_data.info())\n",
        "print(sampled_data.columns)\n",
        "visitor = sampled_data['user_id'].nunique()\n",
        "print(\"visitors: {}\".format(visitor))"
      ]
    },
    {
      "cell_type": "code",
      "execution_count": null,
      "metadata": {
        "colab": {
          "base_uri": "https://localhost:8080/"
        },
        "id": "8aDfqReTFS0S",
        "outputId": "31223e39-af9f-43ea-84ef-bb2d3c25c35f"
      },
      "outputs": [
        {
          "name": "stderr",
          "output_type": "stream",
          "text": [
            "<ipython-input-15-48d71d9e0706>:4: SettingWithCopyWarning: \n",
            "A value is trying to be set on a copy of a slice from a DataFrame.\n",
            "Try using .loc[row_indexer,col_indexer] = value instead\n",
            "\n",
            "See the caveats in the documentation: https://pandas.pydata.org/pandas-docs/stable/user_guide/indexing.html#returning-a-view-versus-a-copy\n",
            "  sampled_data['event_time'] = pd.to_datetime(sampled_data['event_time']).dt.tz_convert(None)\n"
          ]
        }
      ],
      "source": [
        "import pandas as pd\n",
        "#sampled_data = ddf.sample(frac=0.01, random_state=42)\n",
        "sampled_data=sampled_data.loc[sampled_data.event_type == 'purchase']\n",
        "sampled_data['event_time'] = pd.to_datetime(sampled_data['event_time']).dt.tz_convert(None)"
      ]
    },
    {
      "cell_type": "code",
      "execution_count": null,
      "metadata": {
        "id": "_IIqtvm-GzV-"
      },
      "outputs": [],
      "source": [
        "sampled_data.reset_index(drop=True, inplace=True)\n"
      ]
    },
    {
      "cell_type": "code",
      "execution_count": null,
      "metadata": {
        "id": "dCMXEik9FsFZ"
      },
      "outputs": [],
      "source": [
        "sampled_data.dtypes"
      ]
    },
    {
      "cell_type": "code",
      "execution_count": null,
      "metadata": {
        "id": "lDk2zla5F5OZ"
      },
      "outputs": [],
      "source": [
        "usecols=['event_time','event_type','price','user_id','user_session']\n",
        "product_data = sampled_data.copy()\n",
        "sampled_data = sampled_data[usecols]"
      ]
    },
    {
      "cell_type": "code",
      "execution_count": null,
      "metadata": {
        "id": "nCFJqve3FSxc"
      },
      "outputs": [],
      "source": [
        "sampled_data.head()"
      ]
    },
    {
      "cell_type": "code",
      "execution_count": null,
      "metadata": {
        "id": "bT9ueaGuXv7L"
      },
      "outputs": [],
      "source": [
        "print([(column,sampled_data[column].nunique()) for column in sampled_data.columns])"
      ]
    },
    {
      "cell_type": "markdown",
      "metadata": {
        "id": "Yl2MFVaqi5Ff"
      },
      "source": [
        "###날짜별 고객수 추이"
      ]
    },
    {
      "cell_type": "code",
      "execution_count": null,
      "metadata": {
        "id": "HxminKvEFSuy"
      },
      "outputs": [],
      "source": [
        "visitor_by_date = sampled_data[['user_id', 'date']].drop_duplicates().groupby('date').count().sort_values(by='date', ascending=True)"
      ]
    },
    {
      "cell_type": "code",
      "execution_count": null,
      "metadata": {
        "id": "3Lc2A1i2bv0m"
      },
      "outputs": [],
      "source": [
        "visitor_by_date"
      ]
    },
    {
      "cell_type": "code",
      "execution_count": null,
      "metadata": {
        "id": "R4P9E9cuFSrb"
      },
      "outputs": [],
      "source": [
        "import matplotlib.pyplot as plt\n",
        "x= pd.Series(visitor_by_date.index.values)\n",
        "y= visitor_by_date[\"user_id\"]\n",
        "plt.rcParams[\"figure.figsize\"]=(20,8)\n",
        "plt.plot(x,y)\n",
        "plt.xticks(rotation = 45)"
      ]
    },
    {
      "cell_type": "code",
      "execution_count": null,
      "metadata": {
        "id": "8vQEUWBLdVE7"
      },
      "outputs": [],
      "source": [
        "product_by_date = sampled_data[['product_id', 'date']].groupby('date').count().sort_values(by='date', ascending=True) # 날짜별 product 갯수\n",
        "price_by_date = sampled_data[['price', 'date']].groupby('date').mean().sort_values(by='date', ascending=True) # 날짜별 price 평균"
      ]
    },
    {
      "cell_type": "markdown",
      "metadata": {
        "id": "RUauiCdli_CZ"
      },
      "source": [
        "### 날짜별 총판매 추이\n"
      ]
    },
    {
      "cell_type": "code",
      "execution_count": null,
      "metadata": {
        "id": "cwSqqfGghwPo"
      },
      "outputs": [],
      "source": [
        "total_profit=pd.DataFrame(product_by_date['product_id']*price_by_date['price'])\n",
        "total_profit.columns=['total_profit']\n",
        "plt.rcParams[\"figure.figsize\"]=(20,8)\n",
        "plt.plot(total_profit.index.values, total_profit['total_profit'])"
      ]
    },
    {
      "cell_type": "code",
      "execution_count": null,
      "metadata": {
        "id": "hEHDxHYTraIc"
      },
      "outputs": [],
      "source": [
        "purchase_data = sampled_data.loc[sampled_data['event_type'] == 'purchase',:]"
      ]
    },
    {
      "cell_type": "code",
      "execution_count": null,
      "metadata": {
        "id": "12HFZKiqr8Uf"
      },
      "outputs": [],
      "source": [
        "purchase_data.reset_index(drop=True).head(5)"
      ]
    },
    {
      "cell_type": "code",
      "execution_count": null,
      "metadata": {
        "id": "IJLvo0cAnb-Z"
      },
      "outputs": [],
      "source": [
        "product_price_map = purchase_data.groupby('product_id')['price'].mean().reset_index()\n"
      ]
    },
    {
      "cell_type": "code",
      "execution_count": null,
      "metadata": {
        "id": "8OuSV-VHtWV4"
      },
      "outputs": [],
      "source": [
        "product_price_map"
      ]
    },
    {
      "cell_type": "code",
      "execution_count": null,
      "metadata": {
        "id": "z1eLXm0Tqlg-"
      },
      "outputs": [],
      "source": [
        "top_10_df = purchase_data.groupby('product_id').count().reset_index()[['product_id', 'date']]"
      ]
    },
    {
      "cell_type": "code",
      "execution_count": null,
      "metadata": {
        "id": "cmmnOObmsmog"
      },
      "outputs": [],
      "source": [
        "top_10_df.columns = ['product_id', 'count']\n",
        "top_10_df"
      ]
    },
    {
      "cell_type": "code",
      "execution_count": null,
      "metadata": {
        "id": "1rSDqdHki3bf"
      },
      "outputs": [],
      "source": [
        "top_10_df = pd.merge(top_10_df, product_price_map, on='product_id', how='outer')\n",
        "top_10_df['total_profit'] = top_10_df['count'] * top_10_df['price']\n",
        "top_10_df.sort_values(by='total_profit', ascending=False, inplace=True)\n",
        "top_10_df.head(10)"
      ]
    },
    {
      "cell_type": "code",
      "execution_count": null,
      "metadata": {
        "id": "_m8UDajSmEpD"
      },
      "outputs": [],
      "source": [
        "top_10_df.isnull().sum()\n",
        "top_10_df.reset_index(drop=True, inplace=True)"
      ]
    },
    {
      "cell_type": "code",
      "execution_count": null,
      "metadata": {
        "id": "7QKwtY7myqgl"
      },
      "outputs": [],
      "source": [
        "purchase_data"
      ]
    },
    {
      "cell_type": "code",
      "execution_count": null,
      "metadata": {
        "id": "6mGLDBMVwKdA"
      },
      "outputs": [],
      "source": [
        "fig, axes = plt.subplots(2, 5, figsize=(20, 10))\n",
        "axes = axes.flatten()\n",
        "for idx, product_id in enumerate(top_10_df.loc[:9,\"product_id\"]):\n",
        "    product_daily_price = purchase_data.loc[purchase_data['product_id'] == product_id, ['date', 'price']].groupby(['date']).mean()\n",
        "\n",
        "        # x, y 값 생성\n",
        "    x = pd.Series(product_daily_price.index.values)\n",
        "    y = product_daily_price['price']\n",
        "\n",
        "    axes[idx].plot(x, y, marker='o')\n",
        "    axes[idx].set_title(f\"Product ID: {product_id}\")\n",
        "    axes[idx].set_xlabel(\"Date\")\n",
        "    axes[idx].set_ylabel(\"Price\")\n",
        "    axes[idx].tick_params(axis='x', rotation=45)\n",
        "\n",
        "# 레이아웃 조정 및 출력\n",
        "plt.tight_layout()\n",
        "plt.show()"
      ]
    },
    {
      "cell_type": "code",
      "execution_count": null,
      "metadata": {
        "id": "dzrsWP3yvWZT"
      },
      "outputs": [],
      "source": [
        "purchase_data['event_time'] = pd.to_datetime(purchase_data['event_time']).dt.tz_convert(None)\n",
        "purchase_data['event_time'].min(), purchase_data['event_time'].max()"
      ]
    },
    {
      "cell_type": "code",
      "execution_count": null,
      "metadata": {
        "id": "m5y0GvwvwB4y"
      },
      "outputs": [],
      "source": [
        "purchase_data['event_type']=purchase_data['event_type'].astype('category')\n",
        "purchase_data['category_code']=purchase_data['category_code'].astype('category')"
      ]
    },
    {
      "cell_type": "code",
      "execution_count": null,
      "metadata": {
        "id": "1LRXIjyEBd4V"
      },
      "outputs": [],
      "source": [
        "usecols=['event_time','event_type','price','user_id','user_session']"
      ]
    },
    {
      "cell_type": "code",
      "execution_count": null,
      "metadata": {
        "id": "hf2hEvFwAk3k"
      },
      "outputs": [],
      "source": [
        "purchase_data = purchase_data[usecols]"
      ]
    },
    {
      "cell_type": "code",
      "execution_count": null,
      "metadata": {
        "id": "LX7B_GU_B68P"
      },
      "outputs": [],
      "source": [
        "purchase_data.dtypes"
      ]
    },
    {
      "cell_type": "code",
      "execution_count": null,
      "metadata": {
        "id": "4lj3qDBovwut"
      },
      "outputs": [],
      "source": [
        "purchase_data=purchase_data[usecols].groupby('user_session').agg(Date_order=('event_time',lambda x: x.max()),\n",
        "                                                  user_id=('user_id',lambda x: x.unique()),\n",
        "                                          Quantity=('user_session','count'),\n",
        "                                         money_spent=('price','sum')).reset_index(drop=True)"
      ]
    },
    {
      "cell_type": "code",
      "execution_count": null,
      "metadata": {
        "id": "a5OdIYrLyaVC"
      },
      "outputs": [],
      "source": [
        "import datetime as dt\n",
        "import numpy as np\n",
        "study_date = dt.datetime(2019,11,1)\n",
        "purchase_data=pd.DataFrame(purchase_data)\n",
        "purchase_data['last_purchase']=study_date - purchase_data['Date_order']\n",
        "purchase_data['last_purchase'].astype('timedelta64[D]')\n",
        "purchase_data['last_purchase']=purchase_data['last_purchase'] / np.timedelta64(1, 'D')\n",
        "purchase_data.head()"
      ]
    },
    {
      "cell_type": "code",
      "execution_count": null,
      "metadata": {
        "id": "gIuWOO1gzKIP"
      },
      "outputs": [],
      "source": [
        "recency_df.sort_values(by='Recency', ascending=False)"
      ]
    },
    {
      "cell_type": "code",
      "execution_count": null,
      "metadata": {
        "id": "sJs7tb0W1VZY"
      },
      "outputs": [],
      "source": [
        "import seaborn as sns\n",
        "%matplotlib inline\n",
        "plt.style.use(['dark_background'])\n",
        "sns.histplot(data = recency_df, x ='Recency')\n",
        "plt.gcf().set_size_inches(16.5, 3)"
      ]
    },
    {
      "cell_type": "code",
      "execution_count": null,
      "metadata": {
        "id": "z9EHI6_TGvWZ"
      },
      "outputs": [],
      "source": [
        "frequency_df"
      ]
    },
    {
      "cell_type": "code",
      "execution_count": null,
      "metadata": {
        "id": "AYe7lNG-29AB"
      },
      "outputs": [],
      "source": [
        "frequency_df = purchase_data.copy()\n",
        "frequency_df.drop_duplicates(subset=['user_id', 'user_session'],keep = \"first\", inplace=True)\n",
        "frequency_df = frequency_df.groupby(\"user_id\", as_index = False)[\"user_session\"].count() # 중복되는 값중 제일 첫번째로 나온 값이 출력\n",
        "frequency_df.columns = ['user_id', 'Frequency']\n",
        "frequency_df.sort_values(by= 'Frequency',ascending=False).head()\n"
      ]
    },
    {
      "cell_type": "code",
      "execution_count": null,
      "metadata": {
        "id": "7oG026wGaoRB"
      },
      "outputs": [],
      "source": [
        "def extract_categorycode(input_text,level=0):\n",
        "    '''\n",
        "     this function splits category code and returns the first part.\n",
        "    '''\n",
        "    output_text=input_text.split('.')[level]\n",
        "    return output_text\n",
        "\n",
        "def create_clusters(input_data_frame,input_columns,n_cluster):\n",
        "    '''\n",
        "     This function creates clusters and cluster labels.\n",
        "    '''\n",
        "    from sklearn.cluster import KMeans\n",
        "    X=input_data_frame[input_columns].values\n",
        "    k_means=KMeans(n_clusters=n_cluster,random_state=15).fit(X)\n",
        "    return k_means.labels_"
      ]
    },
    {
      "cell_type": "code",
      "execution_count": null,
      "metadata": {
        "id": "A5djNJmOapbm"
      },
      "outputs": [],
      "source": [
        "#creating a summary table for general overview\n",
        "daily_summary_table=sampled_data.groupby(by=[sampled_data['event_time'].dt.normalize()]).agg(Number_of_daily_visits=('user_session',lambda x: x.nunique()),\n",
        "                                                                                  Number_of_daily_visitors=('user_id',lambda x: x.nunique())\n",
        "                                                                                  )\n",
        "sales_filter=sampled_data['event_type']=='purchase'\n",
        "sales=sampled_data.loc[sales_filter].groupby(by=[sampled_data['event_time'].dt.normalize()]).agg(number_of_daily_sales=('event_type','count'),\n",
        "                                                                                      Total_daily_sales=('price','sum')\n",
        "                                                                                      ).reset_index()\n",
        "daily_summary_table=pd.merge(left=daily_summary_table,\n",
        "                          right=sales,\n",
        "                          left_on=['event_time'],\n",
        "                          right_on=['event_time'],\n",
        "                          how='left')\n",
        "daily_summary_table['conversion_rate']=daily_summary_table['number_of_daily_sales']/daily_summary_table['Number_of_daily_visits']"
      ]
    },
    {
      "cell_type": "code",
      "execution_count": null,
      "metadata": {
        "id": "NZ9JEVbwH5zi"
      },
      "outputs": [],
      "source": [
        "sampled_data.head()"
      ]
    },
    {
      "cell_type": "code",
      "execution_count": null,
      "metadata": {
        "id": "a6dl5FE9LjgR"
      },
      "outputs": [],
      "source": [
        "id_count =sampled_data.groupby(by='user_session')['user_id'].count()\n",
        "id_count = id_count[id_count>1]\n",
        "id_count"
      ]
    },
    {
      "cell_type": "code",
      "execution_count": null,
      "metadata": {
        "id": "C53sQoAwKUCB"
      },
      "outputs": [],
      "source": [
        "user_id=sampled_data.groupby(by='user_session').agg(user_id=('user_id',lambda x: [x.unique()]))\n"
      ]
    },
    {
      "cell_type": "code",
      "execution_count": null,
      "metadata": {
        "id": "xJidobl4NHNE"
      },
      "outputs": [],
      "source": [
        "greater_than_one = user_id[user_id['user_session'].apply(lambda x: len(x[0])) > 1]\n",
        "\n",
        "# 결과 출력\n",
        "print(greater_than_one)"
      ]
    },
    {
      "cell_type": "markdown",
      "metadata": {
        "id": "SH2MgLmb8oY4"
      },
      "source": [
        "##RFM"
      ]
    },
    {
      "cell_type": "code",
      "execution_count": null,
      "metadata": {
        "id": "i7V0PBRjLQ31"
      },
      "outputs": [],
      "source": [
        "sampled_data.drop_duplicates(subset=['user_id', 'user_session'],keep = \"first\", inplace=True)\n"
      ]
    },
    {
      "cell_type": "code",
      "execution_count": null,
      "metadata": {
        "id": "BwX_T1nrapY6"
      },
      "outputs": [],
      "source": [
        "sampled_data=sampled_data.groupby(by='user_session').agg(Date_order=('event_time',lambda x: x.max()),\n",
        "                                                  user_id=('user_id',lambda x: x),\n",
        "                                          Quantity=('user_session','count'),\n",
        "                                         money_spent=('price','sum')).reset_index(drop=True)\n",
        "sampled_data"
      ]
    },
    {
      "cell_type": "code",
      "execution_count": null,
      "metadata": {
        "id": "1Y1Dy-WLapV7"
      },
      "outputs": [],
      "source": [
        "import datetime as dt\n",
        "import numpy as np\n",
        "study_date = dt.datetime(2019,11,1)\n",
        "sampled_data=pd.DataFrame(sampled_data)\n",
        "sampled_data['last_purchase']=study_date - sampled_data['Date_order']\n",
        "sampled_data['last_purchase']=sampled_data['last_purchase'] / np.timedelta64(1, 'D')\n",
        "sampled_data.head()"
      ]
    },
    {
      "cell_type": "code",
      "execution_count": null,
      "metadata": {
        "id": "C6VYk4Ife8rF"
      },
      "outputs": [],
      "source": [
        "print(sampled_data.dtypes)"
      ]
    },
    {
      "cell_type": "code",
      "execution_count": null,
      "metadata": {
        "id": "oMrJ7hCQapSx"
      },
      "outputs": [],
      "source": [
        "RFM= sampled_data.groupby('user_id').agg(Recency=('last_purchase',lambda x: x.min()),\n",
        "                                 Frequency=('user_id',lambda x: x.count()),\n",
        "                                 Monetary=('money_spent',lambda x: x.sum()))\n",
        "RFM.head()"
      ]
    },
    {
      "cell_type": "code",
      "execution_count": null,
      "metadata": {
        "id": "3SNY4fwZapPx"
      },
      "outputs": [],
      "source": [
        "len(RFM)"
      ]
    },
    {
      "cell_type": "code",
      "execution_count": null,
      "metadata": {
        "id": "GWQn4GvaapMl"
      },
      "outputs": [],
      "source": [
        "total_df = pd.merge(product_data, RFM, on='user_id', how='inner')\n",
        "total_df.head()"
      ]
    },
    {
      "cell_type": "code",
      "execution_count": null,
      "metadata": {
        "id": "krAKFXMukM9f"
      },
      "outputs": [],
      "source": [
        "total_df['category_code'].str.split('.',n=1).str[1]"
      ]
    },
    {
      "cell_type": "code",
      "execution_count": null,
      "metadata": {
        "id": "ttvar2PPh-Bh"
      },
      "outputs": [],
      "source": [
        "total_df['main_category']=total_df['category_code'].str.split('.').str[0]\n",
        "total_df['main_category'] = total_df['main_category'].astype('category')\n",
        "total_df['sub_category']=total_df['category_code'].str.split('.',n=1).str[1]\n",
        "total_df['sub_category'] = total_df['sub_category'].astype('category')\n",
        "total_df.drop(columns=['category_code'], inplace=True)\n",
        "total_df"
      ]
    },
    {
      "cell_type": "code",
      "execution_count": null,
      "metadata": {
        "id": "e_5XbXkSlzkO"
      },
      "outputs": [],
      "source": [
        "# 'main_category', 'sub_category', 'brand' 열에 'none' 카테고리 추가\n",
        "for col in ['main_category', 'sub_category', 'brand']:\n",
        "    if total_df[col].dtype.name == 'category':\n",
        "        total_df[col] = total_df[col].cat.add_categories(\"none\")\n",
        "\n",
        "# NaN 값을 'none'으로 채우기\n",
        "total_df[['main_category', 'sub_category', 'brand']] = total_df[['main_category', 'sub_category', 'brand']].fillna(\"none\")"
      ]
    },
    {
      "cell_type": "code",
      "execution_count": null,
      "metadata": {
        "id": "RJG5gq36oydT"
      },
      "outputs": [],
      "source": [
        "import matplotlib.pyplot as plt\n",
        "import squarify\n",
        "top_category_n = 15\n",
        "top_main_category = total_df['main_category'].value_counts()[:top_category_n].sort_values(ascending=False)\n",
        "df = pd.DataFrame({'count':top_main_category, 'top_main_category':top_main_category })\n",
        "plt.figure(figsize=(20, 8))\n",
        "squarify.plot(sizes=top_main_category, label=top_main_category.index.array, color=[\"red\",\"cyan\",\"green\",\"orange\",\"blue\",\"grey\"], alpha=.7  )\n",
        "plt.axis('off')\n",
        "plt.show()"
      ]
    },
    {
      "cell_type": "code",
      "execution_count": null,
      "metadata": {
        "id": "9fYuE_zZ_CIm"
      },
      "outputs": [],
      "source": [
        "top_category_n = 20\n",
        "top_sub_category = total_df['sub_category'].value_counts()[:top_category_n].sort_values(ascending=False)\n",
        "df = pd.DataFrame({'count':top_sub_category, 'top_sub_category':top_sub_category })\n",
        "plt.figure(figsize=(20, 8))\n",
        "squarify.plot(sizes=top_sub_category, label=top_sub_category.index.array, color=[\"red\",\"cyan\",\"green\",\"orange\",\"blue\",\"grey\"], alpha=.7  )\n",
        "plt.axis('off')\n",
        "plt.show()"
      ]
    },
    {
      "cell_type": "code",
      "execution_count": null,
      "metadata": {
        "id": "xM7sYwW-QktD"
      },
      "outputs": [],
      "source": [
        "#from sklearn.preprocessing import LabelEncoder\n",
        "#from sklearn.preprocessing import MinMaxScaler\n",
        "#from sklearn.model_selection import train_test_split\n",
        "#def extract_categorycode(input_text,level=0):\n",
        "#    '''\n",
        "#     this function splits category code and returns the first part.\n",
        "#    '''\n",
        "#    output_text=input_text.split('.')[level]\n",
        "#    return output_text\n",
        "#\n",
        "#def create_clusters(input_data_frame,input_columns,n_cluster):\n",
        "#    '''\n",
        "#     This function creates clusters and cluster labels.\n",
        "#    '''\n",
        "#    from sklearn.cluster import KMeans\n",
        "#    X=input_data_frame[input_columns].values\n",
        "#    k_means=KMeans(n_clusters=n_cluster,random_state=42).fit(X)\n",
        "#    return k_means.labels_"
      ]
    },
    {
      "cell_type": "code",
      "execution_count": null,
      "metadata": {
        "id": "SyYtRERBf1Hd"
      },
      "outputs": [],
      "source": [
        "from sklearn.preprocessing import LabelEncoder\n",
        "from sklearn.preprocessing import MinMaxScaler\n",
        "from sklearn.model_selection import train_test_split\n",
        "# 날짜 관련 변수 생성\n",
        "total_df['event_date'] = pd.to_datetime(total_df['event_time'])\n",
        "total_df['hour'] = total_df['event_date'].dt.hour\n",
        "total_df['day'] = total_df['event_date'].dt.day\n",
        "total_df['weekday'] = total_df['event_date'].dt.weekday\n",
        "\n",
        "# 범주형 데이터 인코딩\n",
        "total_df['event_type'] = LabelEncoder().fit_transform(total_df['event_type'])\n",
        "total_df['brand'] = LabelEncoder().fit_transform(total_df['brand'])\n",
        "total_df['main_category'] = LabelEncoder().fit_transform(total_df['main_category'])\n",
        "total_df['sub_category'] = LabelEncoder().fit_transform(total_df['sub_category'])\n",
        "\n",
        "# 연속형 변수 스케일링\n",
        "scaler = MinMaxScaler()\n",
        "cluster_df = pd.DataFrame(columns = ['price','recency', 'frequency', 'monetary'])\n",
        "cluster_df['price'] = pd.Series(scaler.fit_transform(total_df[['price']]).flatten(), index=total_df.index)\n",
        "cluster_df['recency'] = scaler.fit_transform(total_df[['Recency']])\n",
        "cluster_df['frequency'] = scaler.fit_transform(total_df[['Frequency']])\n",
        "cluster_df['monetary'] = scaler.fit_transform(total_df[['Monetary']])\n",
        "cluster_df['main_category'] = total_df['main_category']\n",
        "cluster_df['sub_category'] = total_df['sub_category']\n",
        "\n",
        "total_df.head()"
      ]
    },
    {
      "cell_type": "code",
      "execution_count": null,
      "metadata": {
        "id": "FXmjODOxoDvY"
      },
      "outputs": [],
      "source": [
        "cluster_df = pd.get_dummies(cluster_df, columns = [\"main_category\",'sub_category'])\n",
        "\n",
        "cluster_df\n"
      ]
    },
    {
      "cell_type": "code",
      "execution_count": null,
      "metadata": {
        "id": "0eK_FYpzI5hI"
      },
      "outputs": [],
      "source": [
        "cluster_df['frequency'].value_counts()"
      ]
    },
    {
      "cell_type": "code",
      "execution_count": null,
      "metadata": {
        "id": "e6cdsrdJ_pXa"
      },
      "outputs": [],
      "source": [
        "from sklearn.cluster import KMeans\n",
        "k_range = range(1, 11)  # 클러스터 개수 1~10\n",
        "inertia = []  # 관성을 저장할 리스트\n",
        "\n",
        "# 각 클러스터 수에 대해 K-means 실행\n",
        "for k in k_range:\n",
        "    kmeans = KMeans(n_clusters=k, random_state=42)\n",
        "    kmeans.fit(cluster_df)\n",
        "    inertia.append(kmeans.inertia_)  # 관성 저장\n",
        "\n",
        "# Elbow Method 그래프 그리기\n",
        "plt.figure(figsize=(8, 6))\n",
        "plt.plot(k_range, inertia, marker='o')\n",
        "plt.title('Elbow Method for Optimal k', fontsize=16)\n",
        "plt.xlabel('Number of Clusters (k)', fontsize=14)\n",
        "plt.ylabel('Inertia', fontsize=14)\n",
        "plt.xticks(k_range)\n",
        "plt.grid(True)\n",
        "plt.show()"
      ]
    },
    {
      "cell_type": "code",
      "execution_count": null,
      "metadata": {
        "id": "h_7DrGMFMv36"
      },
      "outputs": [],
      "source": [
        "k_range = range(2, 11)\n",
        "silhouette_scores = []\n",
        "from sklearn.metrics import silhouette_score\n",
        "# K-means 실행 및 실루엣 점수 계산\n",
        "for k in k_range:\n",
        "    kmeans = KMeans(n_clusters=k, random_state=42)\n",
        "    labels = kmeans.fit_predict(cluster_df)\n",
        "    score = silhouette_score(cluster_df, labels)\n",
        "    silhouette_scores.append(score)\n",
        "\n",
        "# 실루엣 점수 그래프\n",
        "plt.figure(figsize=(8, 6))\n",
        "plt.plot(k_range, silhouette_scores, marker='o')\n",
        "plt.title('Silhouette Scores for Different k (with Encoded Categorical Variables)', fontsize=16)\n",
        "plt.xlabel('Number of Clusters (k)', fontsize=14)\n",
        "plt.ylabel('Silhouette Score', fontsize=14)\n",
        "plt.xticks(k_range)\n",
        "plt.grid(True)\n",
        "plt.show()"
      ]
    },
    {
      "cell_type": "code",
      "execution_count": null,
      "metadata": {
        "id": "GS_tfpKmN4cD"
      },
      "outputs": [],
      "source": [
        "onehotcolumn = [col for col in cluster_df.columns if col.startswith('main_category_') or col.startswith('sub_category_')]\n",
        "label = create_clusters(cluster_df,['price','recency', 'frequency', 'monetary'] + onehotcolumn ,4)"
      ]
    },
    {
      "cell_type": "code",
      "execution_count": null,
      "metadata": {
        "id": "OEMcw1W-RaHI"
      },
      "outputs": [],
      "source": [
        "cluster_df['label'] = label\n"
      ]
    },
    {
      "cell_type": "code",
      "execution_count": null,
      "metadata": {
        "id": "F072JKzfWpAd"
      },
      "outputs": [],
      "source": [
        "cluster_df"
      ]
    },
    {
      "cell_type": "code",
      "execution_count": null,
      "metadata": {
        "id": "0NTN0qg8fkh-"
      },
      "outputs": [],
      "source": [
        "from sklearn.decomposition import PCA\n",
        "pca = PCA(n_components=3)\n",
        "pca_data = pca.fit_transform(cluster_df)\n",
        "\n",
        "# PCA 결과를 데이터프레임으로 변환\n",
        "pca_df = pd.DataFrame(pca_data, columns=['PCA1', 'PCA2', 'PCA3'])\n",
        "pca_df['cluster'] = label\n",
        "fig = plt.figure(figsize=(10, 8))\n",
        "ax = fig.add_subplot(111, projection='3d')\n",
        "for cluster in pca_df['cluster'].unique():\n",
        "    cluster_points = pca_df[pca_df['cluster'] == cluster]\n",
        "    ax.scatter(cluster_points['PCA1'], cluster_points['PCA2'], cluster_points['PCA3'], label=f'Cluster {cluster}')\n",
        "\n",
        "ax.set_title('Clustering Visualization using PCA', fontsize=16)\n",
        "ax.set_xlabel('PCA1', fontsize=14)\n",
        "ax.set_ylabel('PCA2', fontsize=14)\n",
        "ax.set_zlabel('PCA3', fontsize= 14)\n",
        "ax.legend(fontsize=12)\n",
        "ax.grid(True)\n",
        "plt.show()"
      ]
    },
    {
      "cell_type": "code",
      "execution_count": null,
      "metadata": {
        "id": "NRZoZpB_db22"
      },
      "outputs": [],
      "source": [
        "from sklearn.decomposition import PCA\n",
        "pca = PCA(n_components=2)\n",
        "pca_data = pca.fit_transform(cluster_df)\n",
        "\n",
        "# PCA 결과를 데이터프레임으로 변환\n",
        "pca_df = pd.DataFrame(pca_data, columns=['PCA1', 'PCA2'])\n",
        "pca_df['cluster'] = label\n",
        "plt.figure(figsize=(10, 8))\n",
        "\n",
        "for cluster in pca_df['cluster'].unique():\n",
        "    cluster_points = pca_df[pca_df['cluster'] == cluster]\n",
        "    plt.scatter(cluster_points['PCA1'], cluster_points['PCA2'], label=f'Cluster {cluster}')\n",
        "\n",
        "plt.title('Clustering Visualization using PCA', fontsize=16)\n",
        "plt.xlabel('PCA1', fontsize=14)\n",
        "plt.ylabel('PCA2', fontsize=14)\n",
        "plt.legend(fontsize=12)\n",
        "plt.grid(True)\n",
        "plt.show()"
      ]
    },
    {
      "cell_type": "code",
      "execution_count": null,
      "metadata": {
        "id": "MTNyE_IXkKo8"
      },
      "outputs": [],
      "source": [
        "total_df"
      ]
    },
    {
      "cell_type": "code",
      "execution_count": null,
      "metadata": {
        "id": "ZhAzL75sjHyI"
      },
      "outputs": [],
      "source": [
        "total_df['cluster'] = label\n",
        "rfm_col = ['Recency', 'Frequency', 'Monetary']\n",
        "rfm_mean = total_df.groupby('cluster')[rfm_col].mean()\n"
      ]
    },
    {
      "cell_type": "code",
      "execution_count": null,
      "metadata": {
        "id": "aKxiPlNAkvNW"
      },
      "outputs": [],
      "source": [
        "rfm_mean['Recency'].mean() #product_id 가 20으로 시작하는건 전자기기였다!"
      ]
    }
  ],
  "metadata": {
    "accelerator": "GPU",
    "colab": {
      "gpuType": "T4",
      "provenance": []
    },
    "kernelspec": {
      "display_name": "Python 3",
      "language": "python",
      "name": "python3"
    },
    "language_info": {
      "codemirror_mode": {
        "name": "ipython",
        "version": 3
      },
      "file_extension": ".py",
      "mimetype": "text/x-python",
      "name": "python",
      "nbconvert_exporter": "python",
      "pygments_lexer": "ipython3",
      "version": "3.8.5"
    }
  },
  "nbformat": 4,
  "nbformat_minor": 0
}
