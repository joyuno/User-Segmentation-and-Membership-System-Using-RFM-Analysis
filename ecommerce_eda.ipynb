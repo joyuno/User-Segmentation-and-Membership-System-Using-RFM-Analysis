{
  "cells": [
    {
      "cell_type": "code",
      "execution_count": null,
      "metadata": {
        "id": "_l-nyjglE81v"
      },
      "outputs": [],
      "source": [
        "!pip install kagglehub"
      ]
    },
    {
      "cell_type": "code",
      "execution_count": null,
      "metadata": {
        "id": "ToP9LSVBFS--"
      },
      "outputs": [],
      "source": [
        "import kagglehub\n",
        "\n",
        "# Download latest version\n",
        "path = kagglehub.dataset_download(\"mkechinov/ecommerce-behavior-data-from-multi-category-store\")\n",
        "\n",
        "print(\"Path to dataset files:\", path)"
      ]
    },
    {
      "cell_type": "code",
      "execution_count": null,
      "metadata": {
        "id": "rbiZH9XtFS8t"
      },
      "outputs": [],
      "source": [
        "import os\n",
        "#path = \"C:/Users/User/.cache/kagglehub/datasets/mkechinov/ecommerce-behavior-data-from-multi-category-store/versions/8\"\n",
        "os.listdir(path)"
      ]
    },
    {
      "cell_type": "code",
      "execution_count": null,
      "metadata": {
        "id": "2YeXcunnFeZ6"
      },
      "outputs": [],
      "source": [
        "\n",
        "path2 = os.path.join(path, '2019-Oct.csv')"
      ]
    },
    {
      "cell_type": "code",
      "execution_count": null,
      "metadata": {
        "id": "wPAWtuP5FS5h"
      },
      "outputs": [],
      "source": [
        "import dask.dataframe as dd\n",
        "\n",
        "# Dask 데이터프레임 생성\n",
        "ddf = dd.read_csv(path2)\n",
        "\n",
        "# 랜덤으로 1% 샘플링\n",
        "sampled_data = ddf.sample(frac=0.01, random_state=42).compute()\n",
        "\n",
        "print(sampled_data)"
      ]
    },
    {
      "cell_type": "code",
      "execution_count": null,
      "metadata": {
        "id": "Uo1pAExaFS2r"
      },
      "outputs": [],
      "source": [
        "print(sampled_data.head())\n",
        "print(sampled_data.shape)\n",
        "print(sampled_data.info())\n",
        "print(sampled_data.columns)\n",
        "visitor = sampled_data['user_id'].nunique()\n",
        "print(\"visitors: {}\".format(visitor))"
      ]
    },
    {
      "cell_type": "code",
      "execution_count": null,
      "metadata": {
        "id": "8aDfqReTFS0S"
      },
      "outputs": [],
      "source": [
        "\n",
        "sampled_data['date'] = pd.to_datetime(sampled_data['event_time'].str.split(\" \").str[0])"
      ]
    },
    {
      "cell_type": "code",
      "execution_count": null,
      "metadata": {
        "id": "nCFJqve3FSxc"
      },
      "outputs": [],
      "source": [
        "sampled_data.head()"
      ]
    },
    {
      "cell_type": "code",
      "execution_count": null,
      "metadata": {
        "id": "bT9ueaGuXv7L"
      },
      "outputs": [],
      "source": [
        "print([(column,sampled_data[column].nunique()) for column in sampled_data.columns])"
      ]
    },
    {
      "cell_type": "code",
      "execution_count": null,
      "metadata": {
        "id": "HxminKvEFSuy"
      },
      "outputs": [],
      "source": [
        "visitor_by_date = sampled_data[['user_id', 'date']].drop_duplicates().groupby('date').count().sort_values(by='date', ascending=True)"
      ]
    },
    {
      "cell_type": "code",
      "execution_count": null,
      "metadata": {
        "id": "3Lc2A1i2bv0m"
      },
      "outputs": [],
      "source": [
        "visitor_by_date"
      ]
    },
    {
      "cell_type": "markdown",
      "metadata": {
        "id": "Yl2MFVaqi5Ff"
      },
      "source": [
        "###날짜별 고객수 추이"
      ]
    },
    {
      "cell_type": "code",
      "execution_count": null,
      "metadata": {
        "id": "R4P9E9cuFSrb"
      },
      "outputs": [],
      "source": [
        "import matplotlib.pyplot as plt\n",
        "x= pd.Series(visitor_by_date.index.values)\n",
        "y= visitor_by_date[\"user_id\"]\n",
        "plt.rcParams[\"figure.figsize\"]=(20,8)\n",
        "plt.plot(x,y)\n",
        "plt.xticks(rotation = 45)"
      ]
    },
    {
      "cell_type": "code",
      "execution_count": null,
      "metadata": {
        "id": "8vQEUWBLdVE7"
      },
      "outputs": [],
      "source": [
        "product_by_date = sampled_data[['product_id', 'date']].groupby('date').count().sort_values(by='date', ascending=True) # 날짜별 product 갯수\n",
        "price_by_date = sampled_data[['price', 'date']].groupby('date').mean().sort_values(by='date', ascending=True) # 날짜별 price 평균"
      ]
    },
    {
      "cell_type": "markdown",
      "metadata": {
        "id": "RUauiCdli_CZ"
      },
      "source": [
        "### 날짜별 총판매 추이\n"
      ]
    },
    {
      "cell_type": "code",
      "execution_count": null,
      "metadata": {
        "id": "cwSqqfGghwPo"
      },
      "outputs": [],
      "source": [
        "total_profit=pd.DataFrame(product_by_date['product_id']*price_by_date['price'])\n",
        "total_profit.columns=['total_profit']\n",
        "plt.rcParams[\"figure.figsize\"]=(20,8)\n",
        "plt.plot(total_profit.index.values, total_profit['total_profit'])"
      ]
    },
    {
      "cell_type": "code",
      "execution_count": null,
      "metadata": {
        "id": "hEHDxHYTraIc"
      },
      "outputs": [],
      "source": [
        "purchase_data = sampled_data.loc[sampled_data['event_type'] == 'purchase',:]"
      ]
    },
    {
      "cell_type": "code",
      "execution_count": null,
      "metadata": {
        "id": "12HFZKiqr8Uf"
      },
      "outputs": [],
      "source": [
        "purchase_data.reset_index(drop=True).head(5)"
      ]
    },
    {
      "cell_type": "code",
      "execution_count": null,
      "metadata": {
        "id": "IJLvo0cAnb-Z"
      },
      "outputs": [],
      "source": [
        "product_price_map = purchase_data.groupby('product_id')['price'].mean().reset_index()\n"
      ]
    },
    {
      "cell_type": "code",
      "execution_count": null,
      "metadata": {
        "id": "8OuSV-VHtWV4"
      },
      "outputs": [],
      "source": [
        "product_price_map"
      ]
    },
    {
      "cell_type": "code",
      "execution_count": null,
      "metadata": {
        "id": "z1eLXm0Tqlg-"
      },
      "outputs": [],
      "source": [
        "top_10_df = purchase_data.groupby('product_id').count().reset_index()[['product_id', 'date']]"
      ]
    },
    {
      "cell_type": "code",
      "execution_count": null,
      "metadata": {
        "id": "cmmnOObmsmog"
      },
      "outputs": [],
      "source": [
        "top_10_df.columns = ['product_id', 'count']\n",
        "top_10_df"
      ]
    },
    {
      "cell_type": "code",
      "execution_count": null,
      "metadata": {
        "id": "1rSDqdHki3bf"
      },
      "outputs": [],
      "source": [
        "top_10_df = pd.merge(top_10_df, product_price_map, on='product_id', how='outer')\n",
        "top_10_df['total_profit'] = top_10_df['count'] * top_10_df['price']\n",
        "top_10_df.sort_values(by='total_profit', ascending=False, inplace=True)\n",
        "top_10_df.head(10)"
      ]
    },
    {
      "cell_type": "code",
      "execution_count": null,
      "metadata": {
        "id": "_m8UDajSmEpD"
      },
      "outputs": [],
      "source": [
        "top_10_df.isnull().sum()\n",
        "top_10_df.reset_index(drop=True, inplace=True)"
      ]
    },
    {
      "cell_type": "code",
      "execution_count": null,
      "metadata": {
        "id": "bt6Phyxsl6Ta"
      },
      "outputs": [],
      "source": [
        "for product_id in top_10_df.loc[:10,\"product_id\"]:\n",
        "    product_daily_price = purchase_data.loc[purchase_data['product_id'] == product_id,['event_date','price']].groupby(['event_date']).mean()\n",
        "    product_daily_price = purchase_data[['event_date','price']].groupby(['event_date']).mean()"
      ]
    },
    {
      "cell_type": "code",
      "execution_count": null,
      "metadata": {
        "id": "7QKwtY7myqgl"
      },
      "outputs": [],
      "source": [
        "purchase_data"
      ]
    },
    {
      "cell_type": "code",
      "execution_count": null,
      "metadata": {
        "id": "YuqhS1key5Im"
      },
      "outputs": [],
      "source": [
        "top_10_df.loc[:10,\"product_id\"]"
      ]
    },
    {
      "cell_type": "code",
      "execution_count": null,
      "metadata": {
        "id": "6mGLDBMVwKdA"
      },
      "outputs": [],
      "source": [
        "for product_id in top_10_df.loc[:10,\"product_id\"]:\n",
        "    product_daily_price = purchase_data.loc[purchase_data['product_id'] == product_id, ['date', 'price']].groupby(['date']).mean()\n",
        "\n",
        "        # x, y 값 생성\n",
        "    x = pd.Series(product_daily_price.index.values)\n",
        "    y = product_daily_price['price']\n",
        "\n",
        "        # 각 product_id의 데이터를 그래프에 추가\n",
        "    plt.plot(x, y, label=f\"Product ID: {product_id}\", marker='o')\n",
        "\n",
        "# 그래프 설정\n",
        "plt.title(\"Price Trends for Multiple Product IDs\", fontsize=16)\n",
        "plt.xlabel(\"Event Date\", fontsize=14)\n",
        "plt.ylabel(\"Price\", fontsize=14)\n",
        "plt.xticks(rotation=45)\n",
        "plt.legend(title=\"Product ID\", fontsize=12)\n",
        "plt.grid(True)\n",
        "# 그래프 출력\n",
        "plt.show()"
      ]
    }
  ],
  "metadata": {
    "colab": {
      "private_outputs": true,
      "provenance": []
    },
    "kernelspec": {
      "display_name": "Python 3",
      "language": "python",
      "name": "python3"
    }
  },
  "nbformat": 4,
  "nbformat_minor": 0
}
