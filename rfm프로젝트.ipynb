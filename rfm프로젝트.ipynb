{
 "cells": [
  {
   "cell_type": "code",
   "execution_count": 1,
   "metadata": {},
   "outputs": [
    {
     "name": "stdout",
     "output_type": "stream",
     "text": [
      "Requirement already satisfied: kaggle in c:\\users\\user\\anaconda3\\lib\\site-packages (1.6.17)\n",
      "Requirement already satisfied: urllib3 in c:\\users\\user\\anaconda3\\lib\\site-packages (from kaggle) (1.25.11)\n",
      "Requirement already satisfied: requests in c:\\users\\user\\anaconda3\\lib\\site-packages (from kaggle) (2.24.0)\n",
      "Requirement already satisfied: python-slugify in c:\\users\\user\\anaconda3\\lib\\site-packages (from kaggle) (6.1.2)\n",
      "Requirement already satisfied: certifi>=2023.7.22 in c:\\users\\user\\anaconda3\\lib\\site-packages (from kaggle) (2024.12.14)\n",
      "Requirement already satisfied: tqdm in c:\\users\\user\\anaconda3\\lib\\site-packages (from kaggle) (4.50.2)\n",
      "Requirement already satisfied: six>=1.10 in c:\\users\\user\\anaconda3\\lib\\site-packages (from kaggle) (1.15.0)\n",
      "Requirement already satisfied: python-dateutil in c:\\users\\user\\anaconda3\\lib\\site-packages (from kaggle) (2.8.1)"
     ]
    },
    {
     "name": "stderr",
     "output_type": "stream",
     "text": [
      "\n",
      "[notice] A new release of pip available: 22.3.1 -> 24.3.1\n",
      "[notice] To update, run: C:\\Users\\User\\anaconda3\\python.exe -m pip install --upgrade pip\n"
     ]
    },
    {
     "name": "stdout",
     "output_type": "stream",
     "text": [
      "\n",
      "Requirement already satisfied: bleach in c:\\users\\user\\anaconda3\\lib\\site-packages (from kaggle) (3.2.1)\n",
      "Requirement already satisfied: webencodings in c:\\users\\user\\anaconda3\\lib\\site-packages (from bleach->kaggle) (0.5.1)\n",
      "Requirement already satisfied: packaging in c:\\users\\user\\anaconda3\\lib\\site-packages (from bleach->kaggle) (24.2)\n",
      "Requirement already satisfied: text-unidecode>=1.3 in c:\\users\\user\\anaconda3\\lib\\site-packages (from python-slugify->kaggle) (1.3)\n",
      "Requirement already satisfied: chardet<4,>=3.0.2 in c:\\users\\user\\anaconda3\\lib\\site-packages (from requests->kaggle) (3.0.4)\n",
      "Requirement already satisfied: idna<3,>=2.5 in c:\\users\\user\\anaconda3\\lib\\site-packages (from requests->kaggle) (2.10)\n",
      "Name: kaggle\n",
      "Version: 1.6.17\n",
      "Summary: Kaggle API\n",
      "Home-page: https://github.com/Kaggle/kaggle-api\n",
      "Author: Kaggle\n",
      "Author-email: support@kaggle.com\n",
      "License: Apache 2.0\n",
      "Location: c:\\users\\user\\anaconda3\\lib\\site-packages\n",
      "Requires: bleach, certifi, python-dateutil, python-slugify, requests, six, tqdm, urllib3\n",
      "Required-by: \n"
     ]
    }
   ],
   "source": [
    "!pip install kaggle\n",
    "!pip show kaggle\n"
   ]
  },
  {
   "cell_type": "code",
   "execution_count": 2,
   "metadata": {},
   "outputs": [
    {
     "name": "stdout",
     "output_type": "stream",
     "text": [
      "Requirement already satisfied: jupyter in c:\\users\\user\\anaconda3\\lib\\site-packages (1.0.0)"
     ]
    },
    {
     "name": "stderr",
     "output_type": "stream",
     "text": [
      "\n",
      "[notice] A new release of pip available: 22.3.1 -> 24.3.1\n",
      "[notice] To update, run: C:\\Users\\User\\anaconda3\\python.exe -m pip install --upgrade pip\n"
     ]
    },
    {
     "name": "stdout",
     "output_type": "stream",
     "text": [
      "\n",
      "Requirement already satisfied: notebook in c:\\users\\user\\anaconda3\\lib\\site-packages (6.1.4)\n",
      "Requirement already satisfied: nbconvert in c:\\users\\user\\anaconda3\\lib\\site-packages (from jupyter) (6.0.7)\n",
      "Requirement already satisfied: ipykernel in c:\\users\\user\\anaconda3\\lib\\site-packages (from jupyter) (5.3.4)\n",
      "Requirement already satisfied: jupyter-console in c:\\users\\user\\anaconda3\\lib\\site-packages (from jupyter) (6.2.0)\n",
      "Requirement already satisfied: qtconsole in c:\\users\\user\\anaconda3\\lib\\site-packages (from jupyter) (4.7.7)\n",
      "Requirement already satisfied: ipywidgets in c:\\users\\user\\anaconda3\\lib\\site-packages (from jupyter) (7.5.1)\n",
      "Requirement already satisfied: pyzmq>=17 in c:\\users\\user\\anaconda3\\lib\\site-packages (from notebook) (19.0.2)\n",
      "Requirement already satisfied: nbformat in c:\\users\\user\\anaconda3\\lib\\site-packages (from notebook) (5.0.8)\n",
      "Requirement already satisfied: Send2Trash in c:\\users\\user\\anaconda3\\lib\\site-packages (from notebook) (1.5.0)\n",
      "Requirement already satisfied: jupyter-core>=4.6.1 in c:\\users\\user\\anaconda3\\lib\\site-packages (from notebook) (4.6.3)\n",
      "Requirement already satisfied: traitlets>=4.2.1 in c:\\users\\user\\anaconda3\\lib\\site-packages (from notebook) (5.0.5)\n",
      "Requirement already satisfied: terminado>=0.8.3 in c:\\users\\user\\anaconda3\\lib\\site-packages (from notebook) (0.9.1)\n",
      "Requirement already satisfied: ipython-genutils in c:\\users\\user\\anaconda3\\lib\\site-packages (from notebook) (0.2.0)\n",
      "Requirement already satisfied: prometheus-client in c:\\users\\user\\anaconda3\\lib\\site-packages (from notebook) (0.8.0)\n",
      "Requirement already satisfied: jupyter-client>=5.3.4 in c:\\users\\user\\anaconda3\\lib\\site-packages (from notebook) (6.1.7)\n",
      "Requirement already satisfied: jinja2 in c:\\users\\user\\anaconda3\\lib\\site-packages (from notebook) (2.11.2)\n",
      "Requirement already satisfied: argon2-cffi in c:\\users\\user\\anaconda3\\lib\\site-packages (from notebook) (20.1.0)\n",
      "Requirement already satisfied: tornado>=5.0 in c:\\users\\user\\anaconda3\\lib\\site-packages (from notebook) (6.0.4)\n",
      "Requirement already satisfied: python-dateutil>=2.1 in c:\\users\\user\\anaconda3\\lib\\site-packages (from jupyter-client>=5.3.4->notebook) (2.8.1)\n",
      "Requirement already satisfied: pywin32>=1.0 in c:\\users\\user\\anaconda3\\lib\\site-packages (from jupyter-core>=4.6.1->notebook) (227)\n",
      "Requirement already satisfied: pywinpty>=0.5 in c:\\users\\user\\anaconda3\\lib\\site-packages (from terminado>=0.8.3->notebook) (0.5.7)\n",
      "Requirement already satisfied: six in c:\\users\\user\\anaconda3\\lib\\site-packages (from argon2-cffi->notebook) (1.15.0)\n",
      "Requirement already satisfied: cffi>=1.0.0 in c:\\users\\user\\anaconda3\\lib\\site-packages (from argon2-cffi->notebook) (1.14.3)\n",
      "Requirement already satisfied: ipython>=5.0.0 in c:\\users\\user\\anaconda3\\lib\\site-packages (from ipykernel->jupyter) (7.19.0)\n",
      "Requirement already satisfied: widgetsnbextension~=3.5.0 in c:\\users\\user\\anaconda3\\lib\\site-packages (from ipywidgets->jupyter) (3.5.1)\n",
      "Requirement already satisfied: jsonschema!=2.5.0,>=2.4 in c:\\users\\user\\anaconda3\\lib\\site-packages (from nbformat->notebook) (3.2.0)\n",
      "Requirement already satisfied: MarkupSafe>=0.23 in c:\\users\\user\\anaconda3\\lib\\site-packages (from jinja2->notebook) (1.1.1)\n",
      "Requirement already satisfied: prompt-toolkit!=3.0.0,!=3.0.1,<3.1.0,>=2.0.0 in c:\\users\\user\\anaconda3\\lib\\site-packages (from jupyter-console->jupyter) (3.0.8)\n",
      "Requirement already satisfied: pygments in c:\\users\\user\\anaconda3\\lib\\site-packages (from jupyter-console->jupyter) (2.7.2)\n",
      "Requirement already satisfied: mistune<2,>=0.8.1 in c:\\users\\user\\anaconda3\\lib\\site-packages (from nbconvert->jupyter) (0.8.4)\n",
      "Requirement already satisfied: defusedxml in c:\\users\\user\\anaconda3\\lib\\site-packages (from nbconvert->jupyter) (0.6.0)\n",
      "Requirement already satisfied: entrypoints>=0.2.2 in c:\\users\\user\\anaconda3\\lib\\site-packages (from nbconvert->jupyter) (0.3)\n",
      "Requirement already satisfied: bleach in c:\\users\\user\\anaconda3\\lib\\site-packages (from nbconvert->jupyter) (3.2.1)\n",
      "Requirement already satisfied: pandocfilters>=1.4.1 in c:\\users\\user\\anaconda3\\lib\\site-packages (from nbconvert->jupyter) (1.4.3)\n",
      "Requirement already satisfied: testpath in c:\\users\\user\\anaconda3\\lib\\site-packages (from nbconvert->jupyter) (0.4.4)\n",
      "Requirement already satisfied: nbclient<0.6.0,>=0.5.0 in c:\\users\\user\\anaconda3\\lib\\site-packages (from nbconvert->jupyter) (0.5.1)\n",
      "Requirement already satisfied: jupyterlab-pygments in c:\\users\\user\\anaconda3\\lib\\site-packages (from nbconvert->jupyter) (0.1.2)\n",
      "Requirement already satisfied: qtpy in c:\\users\\user\\anaconda3\\lib\\site-packages (from qtconsole->jupyter) (1.9.0)\n",
      "Requirement already satisfied: pycparser in c:\\users\\user\\anaconda3\\lib\\site-packages (from cffi>=1.0.0->argon2-cffi->notebook) (2.20)\n",
      "Requirement already satisfied: colorama in c:\\users\\user\\anaconda3\\lib\\site-packages (from ipython>=5.0.0->ipykernel->jupyter) (0.4.4)\n",
      "Requirement already satisfied: decorator in c:\\users\\user\\anaconda3\\lib\\site-packages (from ipython>=5.0.0->ipykernel->jupyter) (4.4.2)\n",
      "Requirement already satisfied: setuptools>=18.5 in c:\\users\\user\\anaconda3\\lib\\site-packages (from ipython>=5.0.0->ipykernel->jupyter) (50.3.1.post20201107)\n",
      "Requirement already satisfied: backcall in c:\\users\\user\\anaconda3\\lib\\site-packages (from ipython>=5.0.0->ipykernel->jupyter) (0.2.0)\n",
      "Requirement already satisfied: jedi>=0.10 in c:\\users\\user\\anaconda3\\lib\\site-packages (from ipython>=5.0.0->ipykernel->jupyter) (0.17.1)\n",
      "Requirement already satisfied: pickleshare in c:\\users\\user\\anaconda3\\lib\\site-packages (from ipython>=5.0.0->ipykernel->jupyter) (0.7.5)\n",
      "Requirement already satisfied: attrs>=17.4.0 in c:\\users\\user\\anaconda3\\lib\\site-packages (from jsonschema!=2.5.0,>=2.4->nbformat->notebook) (20.3.0)\n",
      "Requirement already satisfied: pyrsistent>=0.14.0 in c:\\users\\user\\anaconda3\\lib\\site-packages (from jsonschema!=2.5.0,>=2.4->nbformat->notebook) (0.17.3)\n",
      "Requirement already satisfied: nest-asyncio in c:\\users\\user\\anaconda3\\lib\\site-packages (from nbclient<0.6.0,>=0.5.0->nbconvert->jupyter) (1.4.2)\n",
      "Requirement already satisfied: async-generator in c:\\users\\user\\anaconda3\\lib\\site-packages (from nbclient<0.6.0,>=0.5.0->nbconvert->jupyter) (1.10)\n",
      "Requirement already satisfied: wcwidth in c:\\users\\user\\anaconda3\\lib\\site-packages (from prompt-toolkit!=3.0.0,!=3.0.1,<3.1.0,>=2.0.0->jupyter-console->jupyter) (0.2.5)\n",
      "Requirement already satisfied: webencodings in c:\\users\\user\\anaconda3\\lib\\site-packages (from bleach->nbconvert->jupyter) (0.5.1)\n",
      "Requirement already satisfied: packaging in c:\\users\\user\\anaconda3\\lib\\site-packages (from bleach->nbconvert->jupyter) (24.2)\n",
      "Requirement already satisfied: parso<0.8.0,>=0.7.0 in c:\\users\\user\\anaconda3\\lib\\site-packages (from jedi>=0.10->ipython>=5.0.0->ipykernel->jupyter) (0.7.0)\n",
      "Requirement already satisfied: jupyter_http_over_ws in c:\\users\\user\\anaconda3\\lib\\site-packages (0.0.8)"
     ]
    },
    {
     "name": "stderr",
     "output_type": "stream",
     "text": [
      "\n",
      "[notice] A new release of pip available: 22.3.1 -> 24.3.1\n",
      "[notice] To update, run: C:\\Users\\User\\anaconda3\\python.exe -m pip install --upgrade pip\n"
     ]
    },
    {
     "name": "stdout",
     "output_type": "stream",
     "text": [
      "\n",
      "Requirement already satisfied: six>=1.6.0 in c:\\users\\user\\anaconda3\\lib\\site-packages (from jupyter_http_over_ws) (1.15.0)\n",
      "Requirement already satisfied: notebook>=5.0 in c:\\users\\user\\anaconda3\\lib\\site-packages (from jupyter_http_over_ws) (6.1.4)\n",
      "Requirement already satisfied: tornado>=4.5 in c:\\users\\user\\anaconda3\\lib\\site-packages (from jupyter_http_over_ws) (6.0.4)\n",
      "Requirement already satisfied: ipython-genutils in c:\\users\\user\\anaconda3\\lib\\site-packages (from notebook>=5.0->jupyter_http_over_ws) (0.2.0)\n",
      "Requirement already satisfied: jupyter-client>=5.3.4 in c:\\users\\user\\anaconda3\\lib\\site-packages (from notebook>=5.0->jupyter_http_over_ws) (6.1.7)\n",
      "Requirement already satisfied: jinja2 in c:\\users\\user\\anaconda3\\lib\\site-packages (from notebook>=5.0->jupyter_http_over_ws) (2.11.2)\n",
      "Requirement already satisfied: argon2-cffi in c:\\users\\user\\anaconda3\\lib\\site-packages (from notebook>=5.0->jupyter_http_over_ws) (20.1.0)\n",
      "Requirement already satisfied: nbconvert in c:\\users\\user\\anaconda3\\lib\\site-packages (from notebook>=5.0->jupyter_http_over_ws) (6.0.7)\n",
      "Requirement already satisfied: pyzmq>=17 in c:\\users\\user\\anaconda3\\lib\\site-packages (from notebook>=5.0->jupyter_http_over_ws) (19.0.2)\n",
      "Requirement already satisfied: traitlets>=4.2.1 in c:\\users\\user\\anaconda3\\lib\\site-packages (from notebook>=5.0->jupyter_http_over_ws) (5.0.5)\n",
      "Requirement already satisfied: jupyter-core>=4.6.1 in c:\\users\\user\\anaconda3\\lib\\site-packages (from notebook>=5.0->jupyter_http_over_ws) (4.6.3)\n",
      "Requirement already satisfied: nbformat in c:\\users\\user\\anaconda3\\lib\\site-packages (from notebook>=5.0->jupyter_http_over_ws) (5.0.8)\n",
      "Requirement already satisfied: ipykernel in c:\\users\\user\\anaconda3\\lib\\site-packages (from notebook>=5.0->jupyter_http_over_ws) (5.3.4)\n",
      "Requirement already satisfied: prometheus-client in c:\\users\\user\\anaconda3\\lib\\site-packages (from notebook>=5.0->jupyter_http_over_ws) (0.8.0)\n",
      "Requirement already satisfied: terminado>=0.8.3 in c:\\users\\user\\anaconda3\\lib\\site-packages (from notebook>=5.0->jupyter_http_over_ws) (0.9.1)\n",
      "Requirement already satisfied: Send2Trash in c:\\users\\user\\anaconda3\\lib\\site-packages (from notebook>=5.0->jupyter_http_over_ws) (1.5.0)\n",
      "Requirement already satisfied: python-dateutil>=2.1 in c:\\users\\user\\anaconda3\\lib\\site-packages (from jupyter-client>=5.3.4->notebook>=5.0->jupyter_http_over_ws) (2.8.1)\n",
      "Requirement already satisfied: pywin32>=1.0 in c:\\users\\user\\anaconda3\\lib\\site-packages (from jupyter-core>=4.6.1->notebook>=5.0->jupyter_http_over_ws) (227)\n",
      "Requirement already satisfied: pywinpty>=0.5 in c:\\users\\user\\anaconda3\\lib\\site-packages (from terminado>=0.8.3->notebook>=5.0->jupyter_http_over_ws) (0.5.7)\n",
      "Requirement already satisfied: cffi>=1.0.0 in c:\\users\\user\\anaconda3\\lib\\site-packages (from argon2-cffi->notebook>=5.0->jupyter_http_over_ws) (1.14.3)\n",
      "Requirement already satisfied: ipython>=5.0.0 in c:\\users\\user\\anaconda3\\lib\\site-packages (from ipykernel->notebook>=5.0->jupyter_http_over_ws) (7.19.0)\n",
      "Requirement already satisfied: MarkupSafe>=0.23 in c:\\users\\user\\anaconda3\\lib\\site-packages (from jinja2->notebook>=5.0->jupyter_http_over_ws) (1.1.1)\n",
      "Requirement already satisfied: jupyterlab-pygments in c:\\users\\user\\anaconda3\\lib\\site-packages (from nbconvert->notebook>=5.0->jupyter_http_over_ws) (0.1.2)\n",
      "Requirement already satisfied: bleach in c:\\users\\user\\anaconda3\\lib\\site-packages (from nbconvert->notebook>=5.0->jupyter_http_over_ws) (3.2.1)\n",
      "Requirement already satisfied: mistune<2,>=0.8.1 in c:\\users\\user\\anaconda3\\lib\\site-packages (from nbconvert->notebook>=5.0->jupyter_http_over_ws) (0.8.4)\n",
      "Requirement already satisfied: pandocfilters>=1.4.1 in c:\\users\\user\\anaconda3\\lib\\site-packages (from nbconvert->notebook>=5.0->jupyter_http_over_ws) (1.4.3)\n",
      "Requirement already satisfied: nbclient<0.6.0,>=0.5.0 in c:\\users\\user\\anaconda3\\lib\\site-packages (from nbconvert->notebook>=5.0->jupyter_http_over_ws) (0.5.1)\n",
      "Requirement already satisfied: pygments>=2.4.1 in c:\\users\\user\\anaconda3\\lib\\site-packages (from nbconvert->notebook>=5.0->jupyter_http_over_ws) (2.7.2)\n",
      "Requirement already satisfied: entrypoints>=0.2.2 in c:\\users\\user\\anaconda3\\lib\\site-packages (from nbconvert->notebook>=5.0->jupyter_http_over_ws) (0.3)\n",
      "Requirement already satisfied: testpath in c:\\users\\user\\anaconda3\\lib\\site-packages (from nbconvert->notebook>=5.0->jupyter_http_over_ws) (0.4.4)\n",
      "Requirement already satisfied: defusedxml in c:\\users\\user\\anaconda3\\lib\\site-packages (from nbconvert->notebook>=5.0->jupyter_http_over_ws) (0.6.0)\n",
      "Requirement already satisfied: jsonschema!=2.5.0,>=2.4 in c:\\users\\user\\anaconda3\\lib\\site-packages (from nbformat->notebook>=5.0->jupyter_http_over_ws) (3.2.0)\n",
      "Requirement already satisfied: pycparser in c:\\users\\user\\anaconda3\\lib\\site-packages (from cffi>=1.0.0->argon2-cffi->notebook>=5.0->jupyter_http_over_ws) (2.20)\n",
      "Requirement already satisfied: setuptools>=18.5 in c:\\users\\user\\anaconda3\\lib\\site-packages (from ipython>=5.0.0->ipykernel->notebook>=5.0->jupyter_http_over_ws) (50.3.1.post20201107)\n",
      "Requirement already satisfied: prompt-toolkit!=3.0.0,!=3.0.1,<3.1.0,>=2.0.0 in c:\\users\\user\\anaconda3\\lib\\site-packages (from ipython>=5.0.0->ipykernel->notebook>=5.0->jupyter_http_over_ws) (3.0.8)\n",
      "Requirement already satisfied: decorator in c:\\users\\user\\anaconda3\\lib\\site-packages (from ipython>=5.0.0->ipykernel->notebook>=5.0->jupyter_http_over_ws) (4.4.2)\n",
      "Requirement already satisfied: colorama in c:\\users\\user\\anaconda3\\lib\\site-packages (from ipython>=5.0.0->ipykernel->notebook>=5.0->jupyter_http_over_ws) (0.4.4)\n",
      "Requirement already satisfied: backcall in c:\\users\\user\\anaconda3\\lib\\site-packages (from ipython>=5.0.0->ipykernel->notebook>=5.0->jupyter_http_over_ws) (0.2.0)\n",
      "Requirement already satisfied: jedi>=0.10 in c:\\users\\user\\anaconda3\\lib\\site-packages (from ipython>=5.0.0->ipykernel->notebook>=5.0->jupyter_http_over_ws) (0.17.1)\n",
      "Requirement already satisfied: pickleshare in c:\\users\\user\\anaconda3\\lib\\site-packages (from ipython>=5.0.0->ipykernel->notebook>=5.0->jupyter_http_over_ws) (0.7.5)\n",
      "Requirement already satisfied: pyrsistent>=0.14.0 in c:\\users\\user\\anaconda3\\lib\\site-packages (from jsonschema!=2.5.0,>=2.4->nbformat->notebook>=5.0->jupyter_http_over_ws) (0.17.3)\n",
      "Requirement already satisfied: attrs>=17.4.0 in c:\\users\\user\\anaconda3\\lib\\site-packages (from jsonschema!=2.5.0,>=2.4->nbformat->notebook>=5.0->jupyter_http_over_ws) (20.3.0)\n",
      "Requirement already satisfied: nest-asyncio in c:\\users\\user\\anaconda3\\lib\\site-packages (from nbclient<0.6.0,>=0.5.0->nbconvert->notebook>=5.0->jupyter_http_over_ws) (1.4.2)\n",
      "Requirement already satisfied: async-generator in c:\\users\\user\\anaconda3\\lib\\site-packages (from nbclient<0.6.0,>=0.5.0->nbconvert->notebook>=5.0->jupyter_http_over_ws) (1.10)\n",
      "Requirement already satisfied: webencodings in c:\\users\\user\\anaconda3\\lib\\site-packages (from bleach->nbconvert->notebook>=5.0->jupyter_http_over_ws) (0.5.1)\n",
      "Requirement already satisfied: packaging in c:\\users\\user\\anaconda3\\lib\\site-packages (from bleach->nbconvert->notebook>=5.0->jupyter_http_over_ws) (24.2)\n",
      "Requirement already satisfied: parso<0.8.0,>=0.7.0 in c:\\users\\user\\anaconda3\\lib\\site-packages (from jedi>=0.10->ipython>=5.0.0->ipykernel->notebook>=5.0->jupyter_http_over_ws) (0.7.0)\n",
      "Requirement already satisfied: wcwidth in c:\\users\\user\\anaconda3\\lib\\site-packages (from prompt-toolkit!=3.0.0,!=3.0.1,<3.1.0,>=2.0.0->ipython>=5.0.0->ipykernel->notebook>=5.0->jupyter_http_over_ws) (0.2.5)\n",
      "Requirement already satisfied: notebook in c:\\users\\user\\anaconda3\\lib\\site-packages (6.1.4)\n",
      "Requirement already satisfied: argon2-cffi in c:\\users\\user\\anaconda3\\lib\\site-packages (from notebook) (20.1.0)\n",
      "Requirement already satisfied: Send2Trash in c:\\users\\user\\anaconda3\\lib\\site-packages (from notebook) (1.5.0)\n",
      "Requirement already satisfied: prometheus-client in c:\\users\\user\\anaconda3\\lib\\site-packages (from notebook) (0.8.0)\n",
      "Requirement already satisfied: jupyter-client>=5.3.4 in c:\\users\\user\\anaconda3\\lib\\site-packages (from notebook) (6.1.7)\n",
      "Requirement already satisfied: nbconvert in c:\\users\\user\\anaconda3\\lib\\site-packages (from notebook) (6.0.7)\n",
      "Requirement already satisfied: jinja2 in c:\\users\\user\\anaconda3\\lib\\site-packages (from notebook) (2.11.2)\n",
      "Requirement already satisfied: pyzmq>=17 in c:\\users\\user\\anaconda3\\lib\\site-packages (from notebook) (19.0.2)\n",
      "Requirement already satisfied: nbformat in c:\\users\\user\\anaconda3\\lib\\site-packages (from notebook) (5.0.8)\n",
      "Requirement already satisfied: jupyter-core>=4.6.1 in c:\\users\\user\\anaconda3\\lib\\site-packages (from notebook) (4.6.3)\n",
      "Requirement already satisfied: terminado>=0.8.3 in c:\\users\\user\\anaconda3\\lib\\site-packages (from notebook) (0.9.1)\n",
      "Requirement already satisfied: ipykernel in c:\\users\\user\\anaconda3\\lib\\site-packages (from notebook) (5.3.4)\n",
      "Requirement already satisfied: tornado>=5.0 in c:\\users\\user\\anaconda3\\lib\\site-packages (from notebook) (6.0.4)\n",
      "Requirement already satisfied: ipython-genutils in c:\\users\\user\\anaconda3\\lib\\site-packages (from notebook) (0.2.0)\n",
      "Requirement already satisfied: traitlets>=4.2.1 in c:\\users\\user\\anaconda3\\lib\\site-packages (from notebook) (5.0.5)\n",
      "Requirement already satisfied: python-dateutil>=2.1 in c:\\users\\user\\anaconda3\\lib\\site-packages (from jupyter-client>=5.3.4->notebook) (2.8.1)\n",
      "Requirement already satisfied: pywin32>=1.0 in c:\\users\\user\\anaconda3\\lib\\site-packages (from jupyter-core>=4.6.1->notebook) (227)\n",
      "Requirement already satisfied: pywinpty>=0.5 in c:\\users\\user\\anaconda3\\lib\\site-packages (from terminado>=0.8.3->notebook) (0.5.7)\n",
      "Requirement already satisfied: six in c:\\users\\user\\anaconda3\\lib\\site-packages (from argon2-cffi->notebook) (1.15.0)\n",
      "Requirement already satisfied: cffi>=1.0.0 in c:\\users\\user\\anaconda3\\lib\\site-packages (from argon2-cffi->notebook) (1.14.3)\n",
      "Requirement already satisfied: ipython>=5.0.0 in c:\\users\\user\\anaconda3\\lib\\site-packages (from ipykernel->notebook) (7.19.0)\n",
      "Requirement already satisfied: MarkupSafe>=0.23 in c:\\users\\user\\anaconda3\\lib\\site-packages (from jinja2->notebook) (1.1.1)\n",
      "Requirement already satisfied: bleach in c:\\users\\user\\anaconda3\\lib\\site-packages (from nbconvert->notebook) (3.2.1)\n",
      "Requirement already satisfied: pandocfilters>=1.4.1 in c:\\users\\user\\anaconda3\\lib\\site-packages (from nbconvert->notebook) (1.4.3)\n",
      "Requirement already satisfied: pygments>=2.4.1 in c:\\users\\user\\anaconda3\\lib\\site-packages (from nbconvert->notebook) (2.7.2)\n",
      "Requirement already satisfied: mistune<2,>=0.8.1 in c:\\users\\user\\anaconda3\\lib\\site-packages (from nbconvert->notebook) (0.8.4)\n",
      "Requirement already satisfied: defusedxml in c:\\users\\user\\anaconda3\\lib\\site-packages (from nbconvert->notebook) (0.6.0)\n",
      "Requirement already satisfied: jupyterlab-pygments in c:\\users\\user\\anaconda3\\lib\\site-packages (from nbconvert->notebook) (0.1.2)\n",
      "Requirement already satisfied: testpath in c:\\users\\user\\anaconda3\\lib\\site-packages (from nbconvert->notebook) (0.4.4)\n",
      "Requirement already satisfied: entrypoints>=0.2.2 in c:\\users\\user\\anaconda3\\lib\\site-packages (from nbconvert->notebook) (0.3)\n",
      "Requirement already satisfied: nbclient<0.6.0,>=0.5.0 in c:\\users\\user\\anaconda3\\lib\\site-packages (from nbconvert->notebook) (0.5.1)\n",
      "Requirement already satisfied: jsonschema!=2.5.0,>=2.4 in c:\\users\\user\\anaconda3\\lib\\site-packages (from nbformat->notebook) (3.2.0)\n",
      "Requirement already satisfied: pycparser in c:\\users\\user\\anaconda3\\lib\\site-packages (from cffi>=1.0.0->argon2-cffi->notebook) (2.20)\n",
      "Requirement already satisfied: decorator in c:\\users\\user\\anaconda3\\lib\\site-packages (from ipython>=5.0.0->ipykernel->notebook) (4.4.2)\n",
      "Requirement already satisfied: colorama in c:\\users\\user\\anaconda3\\lib\\site-packages (from ipython>=5.0.0->ipykernel->notebook) (0.4.4)\n",
      "Requirement already satisfied: pickleshare in c:\\users\\user\\anaconda3\\lib\\site-packages (from ipython>=5.0.0->ipykernel->notebook) (0.7.5)\n",
      "Requirement already satisfied: setuptools>=18.5 in c:\\users\\user\\anaconda3\\lib\\site-packages (from ipython>=5.0.0->ipykernel->notebook) (50.3.1.post20201107)\n",
      "Requirement already satisfied: backcall in c:\\users\\user\\anaconda3\\lib\\site-packages (from ipython>=5.0.0->ipykernel->notebook) (0.2.0)\n",
      "Requirement already satisfied: jedi>=0.10 in c:\\users\\user\\anaconda3\\lib\\site-packages (from ipython>=5.0.0->ipykernel->notebook) (0.17.1)\n",
      "Requirement already satisfied: prompt-toolkit!=3.0.0,!=3.0.1,<3.1.0,>=2.0.0 in c:\\users\\user\\anaconda3\\lib\\site-packages (from ipython>=5.0.0->ipykernel->notebook) (3.0.8)\n",
      "Requirement already satisfied: attrs>=17.4.0 in c:\\users\\user\\anaconda3\\lib\\site-packages (from jsonschema!=2.5.0,>=2.4->nbformat->notebook) (20.3.0)\n",
      "Requirement already satisfied: pyrsistent>=0.14.0 in c:\\users\\user\\anaconda3\\lib\\site-packages (from jsonschema!=2.5.0,>=2.4->nbformat->notebook) (0.17.3)\n",
      "Requirement already satisfied: nest-asyncio in c:\\users\\user\\anaconda3\\lib\\site-packages (from nbclient<0.6.0,>=0.5.0->nbconvert->notebook) (1.4.2)\n",
      "Requirement already satisfied: async-generator in c:\\users\\user\\anaconda3\\lib\\site-packages (from nbclient<0.6.0,>=0.5.0->nbconvert->notebook) (1.10)\n",
      "Requirement already satisfied: packaging in c:\\users\\user\\anaconda3\\lib\\site-packages (from bleach->nbconvert->notebook) (24.2)\n",
      "Requirement already satisfied: webencodings in c:\\users\\user\\anaconda3\\lib\\site-packages (from bleach->nbconvert->notebook) (0.5.1)\n",
      "Requirement already satisfied: parso<0.8.0,>=0.7.0 in c:\\users\\user\\anaconda3\\lib\\site-packages (from jedi>=0.10->ipython>=5.0.0->ipykernel->notebook) (0.7.0)\n",
      "Requirement already satisfied: wcwidth in c:\\users\\user\\anaconda3\\lib\\site-packages (from prompt-toolkit!=3.0.0,!=3.0.1,<3.1.0,>=2.0.0->ipython>=5.0.0->ipykernel->notebook) (0.2.5)\n"
     ]
    },
    {
     "name": "stderr",
     "output_type": "stream",
     "text": [
      "\n",
      "[notice] A new release of pip available: 22.3.1 -> 24.3.1\n",
      "[notice] To update, run: C:\\Users\\User\\anaconda3\\python.exe -m pip install --upgrade pip\n"
     ]
    }
   ],
   "source": [
    "!pip install jupyter notebook\n",
    "!pip install jupyter_http_over_ws\n",
    "!pip install notebook"
   ]
  },
  {
   "cell_type": "code",
   "execution_count": 3,
   "metadata": {},
   "outputs": [
    {
     "name": "stdout",
     "output_type": "stream",
     "text": [
      " C 드라이브의 볼륨에는 이름이 없습니다.\n",
      " 볼륨 일련 번호: 3441-A485\n",
      "\n",
      " C:\\Users\\User 디렉터리\n",
      "\n",
      "\n",
      " C:\\Users\\User 디렉터리\n",
      "\n"
     ]
    },
    {
     "name": "stderr",
     "output_type": "stream",
     "text": [
      "파일을 찾을 수 없습니다.\n"
     ]
    }
   ],
   "source": []
  },
  {
   "cell_type": "code",
   "execution_count": 6,
   "metadata": {},
   "outputs": [
    {
     "name": "stdout",
     "output_type": "stream",
     "text": [
      "Collecting kagglehub\n",
      "  Downloading kagglehub-0.2.9-py3-none-any.whl (39 kB)\n",
      "Requirement already satisfied: tqdm in c:\\users\\user\\anaconda3\\lib\\site-packages (from kagglehub) (4.67.1)\n",
      "Requirement already satisfied: requests in c:\\users\\user\\anaconda3\\lib\\site-packages (from kagglehub) (2.32.3)\n",
      "Requirement already satisfied: packaging in c:\\users\\user\\anaconda3\\lib\\site-packages (from kagglehub) (24.2)\n",
      "Requirement already satisfied: certifi>=2017.4.17 in c:\\users\\user\\anaconda3\\lib\\site-packages (from requests->kagglehub) (2024.12.14)\n",
      "Requirement already satisfied: charset-normalizer<4,>=2 in c:\\users\\user\\anaconda3\\lib\\site-packages (from requests->kagglehub) (3.4.1)\n",
      "Requirement already satisfied: urllib3<3,>=1.21.1 in c:\\users\\user\\anaconda3\\lib\\site-packages (from requests->kagglehub) (1.25.11)\n",
      "Requirement already satisfied: idna<4,>=2.5 in c:\\users\\user\\anaconda3\\lib\\site-packages (from requests->kagglehub) (2.10)\n",
      "Requirement already satisfied: colorama in c:\\users\\user\\anaconda3\\lib\\site-packages (from tqdm->kagglehub) (0.4.4)\n",
      "Installing collected packages: kagglehub\n",
      "Successfully installed kagglehub-0.2.9\n"
     ]
    },
    {
     "name": "stderr",
     "output_type": "stream",
     "text": [
      "\n",
      "[notice] A new release of pip available: 22.3.1 -> 24.3.1\n",
      "[notice] To update, run: C:\\Users\\User\\anaconda3\\python.exe -m pip install --upgrade pip\n"
     ]
    }
   ],
   "source": [
    "!pip install kagglehub"
   ]
  },
  {
   "cell_type": "code",
   "execution_count": 7,
   "metadata": {},
   "outputs": [
    {
     "name": "stdout",
     "output_type": "stream",
     "text": [
      "Warning: Looks like you're using an outdated `kagglehub` version, please consider updating (latest version: 0.3.6)\n",
      "Downloading from https://www.kaggle.com/api/v1/datasets/download/mkechinov/ecommerce-behavior-data-from-multi-category-store?dataset_version_number=8...\n"
     ]
    },
    {
     "name": "stderr",
     "output_type": "stream",
     "text": [
      "100%|█████████████████████████████████████████████████████████████████████████████| 4.29G/4.29G [08:55<00:00, 8.60MB/s]"
     ]
    },
    {
     "name": "stdout",
     "output_type": "stream",
     "text": [
      "Extracting model files...\n"
     ]
    },
    {
     "name": "stderr",
     "output_type": "stream",
     "text": [
      "\n"
     ]
    },
    {
     "name": "stdout",
     "output_type": "stream",
     "text": [
      "Path to dataset files: C:\\Users\\User\\.cache\\kagglehub\\datasets\\mkechinov\\ecommerce-behavior-data-from-multi-category-store\\versions\\8\n"
     ]
    }
   ],
   "source": [
    "import kagglehub\n",
    "\n",
    "# Download latest version\n",
    "path = kagglehub.dataset_download(\"mkechinov/ecommerce-behavior-data-from-multi-category-store\")\n",
    "\n",
    "print(\"Path to dataset files:\", path)"
   ]
  },
  {
   "cell_type": "code",
   "execution_count": 14,
   "metadata": {},
   "outputs": [
    {
     "data": {
      "text/plain": [
       "['2019-Nov.csv', '2019-Oct.csv']"
      ]
     },
     "execution_count": 14,
     "metadata": {},
     "output_type": "execute_result"
    }
   ],
   "source": [
    "import os\n",
    "os.listdir(path)"
   ]
  },
  {
   "cell_type": "code",
   "execution_count": 9,
   "metadata": {},
   "outputs": [],
   "source": [
    "path1 = os.path.join(path, '2019-Oct.csv')\n",
    "path2 = os.path.join(path, '2019-Nov.csv')"
   ]
  },
  {
   "cell_type": "code",
   "execution_count": 10,
   "metadata": {},
   "outputs": [],
   "source": [
    "import pandas as pd\n",
    "oct_df = pd.read_csv(path1)"
   ]
  },
  {
   "cell_type": "code",
   "execution_count": 12,
   "metadata": {},
   "outputs": [
    {
     "name": "stdout",
     "output_type": "stream",
     "text": [
      "                event_time event_type  product_id          category_id  \\\n",
      "0  2019-10-01 00:00:00 UTC       view    44600062  2103807459595387724   \n",
      "1  2019-10-01 00:00:00 UTC       view     3900821  2053013552326770905   \n",
      "2  2019-10-01 00:00:01 UTC       view    17200506  2053013559792632471   \n",
      "\n",
      "                         category_code     brand   price    user_id  \\\n",
      "0                                  NaN  shiseido   35.79  541312140   \n",
      "1  appliances.environment.water_heater      aqua   33.20  554748717   \n",
      "2           furniture.living_room.sofa       NaN  543.10  519107250   \n",
      "\n",
      "                           user_session  \n",
      "0  72d76fde-8bb3-4e00-8c23-a032dfed738c  \n",
      "1  9333dfbd-b87a-4708-9857-6336556b0fcc  \n",
      "2  566511c2-e2e3-422b-b695-cf8e6e792ca8  \n",
      "(42448764, 9)\n",
      "<class 'pandas.core.frame.DataFrame'>\n",
      "RangeIndex: 42448764 entries, 0 to 42448763\n",
      "Data columns (total 9 columns):\n",
      " #   Column         Dtype  \n",
      "---  ------         -----  \n",
      " 0   event_time     object \n",
      " 1   event_type     object \n",
      " 2   product_id     int64  \n",
      " 3   category_id    int64  \n",
      " 4   category_code  object \n",
      " 5   brand          object \n",
      " 6   price          float64\n",
      " 7   user_id        int64  \n",
      " 8   user_session   object \n",
      "dtypes: float64(1), int64(3), object(5)\n",
      "memory usage: 2.8+ GB\n",
      "None\n",
      "         product_id   category_id         price       user_id\n",
      "count  4.244876e+07  4.244876e+07  4.244876e+07  4.244876e+07\n",
      "mean   1.054993e+07  2.057404e+18  2.903237e+02  5.335371e+08\n",
      "std    1.188191e+07  1.843926e+16  3.582692e+02  1.852374e+07\n",
      "min    1.000978e+06  2.053014e+18  0.000000e+00  3.386938e+07\n",
      "25%    1.005157e+06  2.053014e+18  6.598000e+01  5.159043e+08\n",
      "50%    5.000470e+06  2.053014e+18  1.629300e+02  5.296965e+08\n",
      "75%    1.600030e+07  2.053014e+18  3.585700e+02  5.515788e+08\n",
      "max    6.050001e+07  2.175420e+18  2.574070e+03  5.662809e+08\n"
     ]
    }
   ],
   "source": [
    "print(oct_df.head(3))\n",
    "print(oct_df.shape)\n",
    "print(oct_df.info())\n",
    "print(oct_df.describe())"
   ]
  },
  {
   "cell_type": "code",
   "execution_count": 13,
   "metadata": {},
   "outputs": [
    {
     "name": "stdout",
     "output_type": "stream",
     "text": [
      "                event_time event_type  product_id          category_id  \\\n",
      "0  2019-11-01 00:00:00 UTC       view     1003461  2053013555631882655   \n",
      "1  2019-11-01 00:00:00 UTC       view     5000088  2053013566100866035   \n",
      "2  2019-11-01 00:00:01 UTC       view    17302664  2053013553853497655   \n",
      "\n",
      "               category_code   brand   price    user_id  \\\n",
      "0     electronics.smartphone  xiaomi  489.07  520088904   \n",
      "1  appliances.sewing_machine  janome  293.65  530496790   \n",
      "2                        NaN   creed   28.31  561587266   \n",
      "\n",
      "                           user_session  \n",
      "0  4d3b30da-a5e4-49df-b1a8-ba5943f1dd33  \n",
      "1  8e5f4f83-366c-4f70-860e-ca7417414283  \n",
      "2  755422e7-9040-477b-9bd2-6a6e8fd97387  \n",
      "(67501979, 9)\n",
      "<class 'pandas.core.frame.DataFrame'>\n",
      "RangeIndex: 67501979 entries, 0 to 67501978\n",
      "Data columns (total 9 columns):\n",
      " #   Column         Dtype  \n",
      "---  ------         -----  \n",
      " 0   event_time     object \n",
      " 1   event_type     object \n",
      " 2   product_id     int64  \n",
      " 3   category_id    int64  \n",
      " 4   category_code  object \n",
      " 5   brand          object \n",
      " 6   price          float64\n",
      " 7   user_id        int64  \n",
      " 8   user_session   object \n",
      "dtypes: float64(1), int64(3), object(5)\n",
      "memory usage: 4.5+ GB\n",
      "None\n",
      "         product_id   category_id         price       user_id\n",
      "count  6.750198e+07  6.750198e+07  6.750198e+07  6.750198e+07\n",
      "mean   1.251406e+07  2.057898e+18  2.924593e+02  5.386397e+08\n",
      "std    1.725741e+07  2.012549e+16  3.556745e+02  2.288516e+07\n",
      "min    1.000365e+06  2.053014e+18  0.000000e+00  1.030022e+07\n",
      "25%    1.305977e+06  2.053014e+18  6.924000e+01  5.164762e+08\n",
      "50%    5.100568e+06  2.053014e+18  1.657700e+02  5.350573e+08\n",
      "75%    1.730075e+07  2.053014e+18  3.603400e+02  5.610794e+08\n",
      "max    1.000286e+08  2.187708e+18  2.574070e+03  5.799699e+08\n"
     ]
    }
   ],
   "source": [
    "dec_df = pd.read_csv(path2)\n",
    "print(dec_df.head(3))\n",
    "print(dec_df.shape)\n",
    "print(dec_df.info())\n",
    "print(dec_df.describe())"
   ]
  },
  {
   "cell_type": "code",
   "execution_count": null,
   "metadata": {},
   "outputs": [],
   "source": [
    "pd.concat(oct_df, dec_df)   "
   ]
  }
 ],
 "metadata": {
  "kernelspec": {
   "display_name": "Python 3",
   "language": "python",
   "name": "python3"
  },
  "language_info": {
   "codemirror_mode": {
    "name": "ipython",
    "version": 3
   },
   "file_extension": ".py",
   "mimetype": "text/x-python",
   "name": "python",
   "nbconvert_exporter": "python",
   "pygments_lexer": "ipython3",
   "version": "3.8.5"
  }
 },
 "nbformat": 4,
 "nbformat_minor": 2
}
