{
 "cells": [
  {
   "cell_type": "code",
   "execution_count": 1,
   "metadata": {},
   "outputs": [
    {
     "name": "stdout",
     "output_type": "stream",
     "text": [
      "Requirement already satisfied: kaggle in c:\\users\\user\\anaconda3\\lib\\site-packages (1.6.17)\n",
      "Requirement already satisfied: urllib3 in c:\\users\\user\\anaconda3\\lib\\site-packages (from kaggle) (1.25.11)\n",
      "Requirement already satisfied: requests in c:\\users\\user\\anaconda3\\lib\\site-packages (from kaggle) (2.24.0)\n",
      "Requirement already satisfied: python-slugify in c:\\users\\user\\anaconda3\\lib\\site-packages (from kaggle) (6.1.2)\n",
      "Requirement already satisfied: certifi>=2023.7.22 in c:\\users\\user\\anaconda3\\lib\\site-packages (from kaggle) (2024.12.14)\n",
      "Requirement already satisfied: tqdm in c:\\users\\user\\anaconda3\\lib\\site-packages (from kaggle) (4.50.2)\n",
      "Requirement already satisfied: six>=1.10 in c:\\users\\user\\anaconda3\\lib\\site-packages (from kaggle) (1.15.0)\n",
      "Requirement already satisfied: python-dateutil in c:\\users\\user\\anaconda3\\lib\\site-packages (from kaggle) (2.8.1)"
     ]
    },
    {
     "name": "stderr",
     "output_type": "stream",
     "text": [
      "\n",
      "[notice] A new release of pip available: 22.3.1 -> 24.3.1\n",
      "[notice] To update, run: C:\\Users\\User\\anaconda3\\python.exe -m pip install --upgrade pip\n"
     ]
    },
    {
     "name": "stdout",
     "output_type": "stream",
     "text": [
      "\n",
      "Requirement already satisfied: bleach in c:\\users\\user\\anaconda3\\lib\\site-packages (from kaggle) (3.2.1)\n",
      "Requirement already satisfied: webencodings in c:\\users\\user\\anaconda3\\lib\\site-packages (from bleach->kaggle) (0.5.1)\n",
      "Requirement already satisfied: packaging in c:\\users\\user\\anaconda3\\lib\\site-packages (from bleach->kaggle) (24.2)\n",
      "Requirement already satisfied: text-unidecode>=1.3 in c:\\users\\user\\anaconda3\\lib\\site-packages (from python-slugify->kaggle) (1.3)\n",
      "Requirement already satisfied: chardet<4,>=3.0.2 in c:\\users\\user\\anaconda3\\lib\\site-packages (from requests->kaggle) (3.0.4)\n",
      "Requirement already satisfied: idna<3,>=2.5 in c:\\users\\user\\anaconda3\\lib\\site-packages (from requests->kaggle) (2.10)\n",
      "Name: kaggle\n",
      "Version: 1.6.17\n",
      "Summary: Kaggle API\n",
      "Home-page: https://github.com/Kaggle/kaggle-api\n",
      "Author: Kaggle\n",
      "Author-email: support@kaggle.com\n",
      "License: Apache 2.0\n",
      "Location: c:\\users\\user\\anaconda3\\lib\\site-packages\n",
      "Requires: bleach, certifi, python-dateutil, python-slugify, requests, six, tqdm, urllib3\n",
      "Required-by: \n"
     ]
    }
   ],
   "source": [
    "!pip install kaggle\n",
    "!pip show kaggle\n"
   ]
  },
  {
   "cell_type": "code",
   "execution_count": 2,
   "metadata": {},
   "outputs": [],
   "source": [
    "!pip install jupyter notebook\n",
    "!pip install jupyter_http_over_ws\n",
    "!pip install notebook"
   ]
  },
  {
   "cell_type": "code",
   "execution_count": 6,
   "metadata": {},
   "outputs": [
    {
     "name": "stdout",
     "output_type": "stream",
     "text": [
      "Collecting kagglehub\n",
      "  Downloading kagglehub-0.2.9-py3-none-any.whl (39 kB)\n",
      "Requirement already satisfied: tqdm in c:\\users\\user\\anaconda3\\lib\\site-packages (from kagglehub) (4.67.1)\n",
      "Requirement already satisfied: requests in c:\\users\\user\\anaconda3\\lib\\site-packages (from kagglehub) (2.32.3)\n",
      "Requirement already satisfied: packaging in c:\\users\\user\\anaconda3\\lib\\site-packages (from kagglehub) (24.2)\n",
      "Requirement already satisfied: certifi>=2017.4.17 in c:\\users\\user\\anaconda3\\lib\\site-packages (from requests->kagglehub) (2024.12.14)\n",
      "Requirement already satisfied: charset-normalizer<4,>=2 in c:\\users\\user\\anaconda3\\lib\\site-packages (from requests->kagglehub) (3.4.1)\n",
      "Requirement already satisfied: urllib3<3,>=1.21.1 in c:\\users\\user\\anaconda3\\lib\\site-packages (from requests->kagglehub) (1.25.11)\n",
      "Requirement already satisfied: idna<4,>=2.5 in c:\\users\\user\\anaconda3\\lib\\site-packages (from requests->kagglehub) (2.10)\n",
      "Requirement already satisfied: colorama in c:\\users\\user\\anaconda3\\lib\\site-packages (from tqdm->kagglehub) (0.4.4)\n",
      "Installing collected packages: kagglehub\n",
      "Successfully installed kagglehub-0.2.9\n"
     ]
    },
    {
     "name": "stderr",
     "output_type": "stream",
     "text": [
      "\n",
      "[notice] A new release of pip available: 22.3.1 -> 24.3.1\n",
      "[notice] To update, run: C:\\Users\\User\\anaconda3\\python.exe -m pip install --upgrade pip\n"
     ]
    }
   ],
   "source": [
    "!pip install kagglehub"
   ]
  },
  {
   "cell_type": "code",
   "execution_count": 7,
   "metadata": {},
   "outputs": [
    {
     "name": "stdout",
     "output_type": "stream",
     "text": [
      "Warning: Looks like you're using an outdated `kagglehub` version, please consider updating (latest version: 0.3.6)\n",
      "Downloading from https://www.kaggle.com/api/v1/datasets/download/mkechinov/ecommerce-behavior-data-from-multi-category-store?dataset_version_number=8...\n"
     ]
    },
    {
     "name": "stderr",
     "output_type": "stream",
     "text": [
      "100%|█████████████████████████████████████████████████████████████████████████████| 4.29G/4.29G [08:55<00:00, 8.60MB/s]"
     ]
    },
    {
     "name": "stdout",
     "output_type": "stream",
     "text": [
      "Extracting model files...\n"
     ]
    },
    {
     "name": "stderr",
     "output_type": "stream",
     "text": [
      "\n"
     ]
    },
    {
     "name": "stdout",
     "output_type": "stream",
     "text": [
      "Path to dataset files: C:\\Users\\User\\.cache\\kagglehub\\datasets\\mkechinov\\ecommerce-behavior-data-from-multi-category-store\\versions\\8\n"
     ]
    }
   ],
   "source": [
    "import kagglehub\n",
    "\n",
    "# Download latest version\n",
    "path = kagglehub.dataset_download(\"mkechinov/ecommerce-behavior-data-from-multi-category-store\")\n",
    "\n",
    "print(\"Path to dataset files:\", path)"
   ]
  },
  {
   "cell_type": "code",
   "execution_count": 11,
   "metadata": {},
   "outputs": [
    {
     "name": "stdout",
     "output_type": "stream",
     "text": [
      "Collecting cudf-cu11\n",
      "  Downloading cudf-cu11-23.12.1.tar.gz (6.8 kB)\n",
      "  Preparing metadata (setup.py): started\n",
      "  Preparing metadata (setup.py): finished with status 'error'\n"
     ]
    },
    {
     "name": "stderr",
     "output_type": "stream",
     "text": [
      "  error: subprocess-exited-with-error\n",
      "  \n",
      "  python setup.py egg_info did not run successfully.\n",
      "  exit code: 1\n",
      "  \n",
      "  [16 lines of output]\n",
      "  Traceback (most recent call last):\n",
      "    File \"<string>\", line 2, in <module>\n",
      "    File \"<pip-setuptools-caller>\", line 34, in <module>\n",
      "    File \"C:\\Users\\User\\AppData\\Local\\Temp\\pip-install-jqm1nqo0\\cudf-cu11_ec0dec58ebb44b9f9640667bb3028fe7\\setup.py\", line 137, in <module>\n",
      "      raise RuntimeError(open(\"ERROR.txt\", \"r\").read())\n",
      "  RuntimeError:\n",
      "  ###########################################################################################\n",
      "  The package you are trying to install is only a placeholder project on PyPI.org repository.\n",
      "  This package is hosted on NVIDIA Python Package Index.\n",
      "  \n",
      "  This package can be installed as:\n",
      "  ```\n",
      "  $ pip install --no-cache-dir --extra-index-url https://pypi.nvidia.com cudf-cu11\n",
      "  ```\n",
      "  ###########################################################################################\n",
      "  \n",
      "  [end of output]\n",
      "  \n",
      "  note: This error originates from a subprocess, and is likely not a problem with pip.\n",
      "error: metadata-generation-failed\n",
      "\n",
      "Encountered error while generating package metadata.\n",
      "\n",
      "See above for output.\n",
      "\n",
      "note: This is an issue with the package mentioned above, not pip.\n",
      "hint: See above for details.\n"
     ]
    }
   ],
   "source": [
    "!pip install cudf-cu11 dask-cudf-cu11 cuml-cu11 cugraph-cu11"
   ]
  },
  {
   "cell_type": "code",
   "execution_count": 5,
   "metadata": {},
   "outputs": [
    {
     "data": {
      "text/plain": [
       "['2019-Nov.csv', '2019-Oct.csv']"
      ]
     },
     "execution_count": 5,
     "metadata": {},
     "output_type": "execute_result"
    }
   ],
   "source": [
    "import os\n",
    "path = \"C:/Users/User/.cache/kagglehub/datasets/mkechinov/ecommerce-behavior-data-from-multi-category-store/versions/8\"\n",
    "os.listdir(path)"
   ]
  },
  {
   "cell_type": "code",
   "execution_count": 13,
   "metadata": {},
   "outputs": [],
   "source": [
    "path1 = os.path.join(path, '2019-Oct.csv')\n",
    "path2 = os.path.join(path, '2019-Nov.csv')"
   ]
  },
  {
   "cell_type": "code",
   "execution_count": null,
   "metadata": {},
   "outputs": [],
   "source": [
    "import gc\n",
    "\n",
    "# 불필요한 변수 삭제\n",
    "gc.collect()\n",
    "import torch\n",
    "\n",
    "torch.cuda.empty_cache()"
   ]
  },
  {
   "cell_type": "code",
   "execution_count": 14,
   "metadata": {},
   "outputs": [],
   "source": [
    "import pandas as pd\n",
    "oct_df = pd.read_csv(path1)"
   ]
  },
  {
   "cell_type": "code",
   "execution_count": 12,
   "metadata": {},
   "outputs": [
    {
     "name": "stdout",
     "output_type": "stream",
     "text": [
      "                event_time event_type  product_id          category_id  \\\n",
      "0  2019-10-01 00:00:00 UTC       view    44600062  2103807459595387724   \n",
      "1  2019-10-01 00:00:00 UTC       view     3900821  2053013552326770905   \n",
      "2  2019-10-01 00:00:01 UTC       view    17200506  2053013559792632471   \n",
      "\n",
      "                         category_code     brand   price    user_id  \\\n",
      "0                                  NaN  shiseido   35.79  541312140   \n",
      "1  appliances.environment.water_heater      aqua   33.20  554748717   \n",
      "2           furniture.living_room.sofa       NaN  543.10  519107250   \n",
      "\n",
      "                           user_session  \n",
      "0  72d76fde-8bb3-4e00-8c23-a032dfed738c  \n",
      "1  9333dfbd-b87a-4708-9857-6336556b0fcc  \n",
      "2  566511c2-e2e3-422b-b695-cf8e6e792ca8  \n",
      "(42448764, 9)\n",
      "<class 'pandas.core.frame.DataFrame'>\n",
      "RangeIndex: 42448764 entries, 0 to 42448763\n",
      "Data columns (total 9 columns):\n",
      " #   Column         Dtype  \n",
      "---  ------         -----  \n",
      " 0   event_time     object \n",
      " 1   event_type     object \n",
      " 2   product_id     int64  \n",
      " 3   category_id    int64  \n",
      " 4   category_code  object \n",
      " 5   brand          object \n",
      " 6   price          float64\n",
      " 7   user_id        int64  \n",
      " 8   user_session   object \n",
      "dtypes: float64(1), int64(3), object(5)\n",
      "memory usage: 2.8+ GB\n",
      "None\n",
      "         product_id   category_id         price       user_id\n",
      "count  4.244876e+07  4.244876e+07  4.244876e+07  4.244876e+07\n",
      "mean   1.054993e+07  2.057404e+18  2.903237e+02  5.335371e+08\n",
      "std    1.188191e+07  1.843926e+16  3.582692e+02  1.852374e+07\n",
      "min    1.000978e+06  2.053014e+18  0.000000e+00  3.386938e+07\n",
      "25%    1.005157e+06  2.053014e+18  6.598000e+01  5.159043e+08\n",
      "50%    5.000470e+06  2.053014e+18  1.629300e+02  5.296965e+08\n",
      "75%    1.600030e+07  2.053014e+18  3.585700e+02  5.515788e+08\n",
      "max    6.050001e+07  2.175420e+18  2.574070e+03  5.662809e+08\n"
     ]
    }
   ],
   "source": [
    "#print(oct_df.head(3))\n",
    "#print(oct_df.shape)\n",
    "#print(oct_df.info())\n",
    "#print(oct_df.describe())"
   ]
  },
  {
   "cell_type": "code",
   "execution_count": 15,
   "metadata": {},
   "outputs": [
    {
     "name": "stdout",
     "output_type": "stream",
     "text": [
      "                event_time event_type  product_id          category_id  \\\n",
      "0  2019-11-01 00:00:00 UTC       view     1003461  2053013555631882655   \n",
      "1  2019-11-01 00:00:00 UTC       view     5000088  2053013566100866035   \n",
      "2  2019-11-01 00:00:01 UTC       view    17302664  2053013553853497655   \n",
      "\n",
      "               category_code   brand   price    user_id  \\\n",
      "0     electronics.smartphone  xiaomi  489.07  520088904   \n",
      "1  appliances.sewing_machine  janome  293.65  530496790   \n",
      "2                        NaN   creed   28.31  561587266   \n",
      "\n",
      "                           user_session  \n",
      "0  4d3b30da-a5e4-49df-b1a8-ba5943f1dd33  \n",
      "1  8e5f4f83-366c-4f70-860e-ca7417414283  \n",
      "2  755422e7-9040-477b-9bd2-6a6e8fd97387  \n",
      "(67501979, 9)\n",
      "<class 'pandas.core.frame.DataFrame'>\n",
      "RangeIndex: 67501979 entries, 0 to 67501978\n",
      "Data columns (total 9 columns):\n",
      " #   Column         Dtype  \n",
      "---  ------         -----  \n",
      " 0   event_time     object \n",
      " 1   event_type     object \n",
      " 2   product_id     int64  \n",
      " 3   category_id    int64  \n",
      " 4   category_code  object \n",
      " 5   brand          object \n",
      " 6   price          float64\n",
      " 7   user_id        int64  \n",
      " 8   user_session   object \n",
      "dtypes: float64(1), int64(3), object(5)\n",
      "memory usage: 4.5+ GB\n",
      "None\n",
      "         product_id   category_id         price       user_id\n",
      "count  6.750198e+07  6.750198e+07  6.750198e+07  6.750198e+07\n",
      "mean   1.251406e+07  2.057898e+18  2.924593e+02  5.386397e+08\n",
      "std    1.725741e+07  2.012549e+16  3.556745e+02  2.288516e+07\n",
      "min    1.000365e+06  2.053014e+18  0.000000e+00  1.030022e+07\n",
      "25%    1.305977e+06  2.053014e+18  6.924000e+01  5.164762e+08\n",
      "50%    5.100568e+06  2.053014e+18  1.657700e+02  5.350573e+08\n",
      "75%    1.730075e+07  2.053014e+18  3.603400e+02  5.610794e+08\n",
      "max    1.000286e+08  2.187708e+18  2.574070e+03  5.799699e+08\n"
     ]
    }
   ],
   "source": [
    "dec_df = pd.read_csv(path2)\n",
    "#print(dec_df.head(3))\n",
    "#print(dec_df.shape)\n",
    "#print(dec_df.info())\n",
    "#print(dec_df.describe())"
   ]
  },
  {
   "cell_type": "code",
   "execution_count": 89,
   "metadata": {},
   "outputs": [
    {
     "ename": "KeyboardInterrupt",
     "evalue": "",
     "output_type": "error",
     "traceback": [
      "\u001b[1;31m---------------------------------------------------------------------------\u001b[0m",
      "\u001b[1;31mKeyboardInterrupt\u001b[0m                         Traceback (most recent call last)",
      "\u001b[1;32m<ipython-input-89-8e10da3a4036>\u001b[0m in \u001b[0;36m<module>\u001b[1;34m\u001b[0m\n\u001b[1;32m----> 1\u001b[1;33m \u001b[0mcombined_df\u001b[0m \u001b[1;33m=\u001b[0m \u001b[0mpd\u001b[0m\u001b[1;33m.\u001b[0m\u001b[0mconcat\u001b[0m\u001b[1;33m(\u001b[0m\u001b[1;33m[\u001b[0m\u001b[0moct_df\u001b[0m\u001b[1;33m,\u001b[0m \u001b[0mdec_df\u001b[0m\u001b[1;33m]\u001b[0m\u001b[1;33m,\u001b[0m \u001b[0maxis\u001b[0m\u001b[1;33m=\u001b[0m\u001b[1;36m0\u001b[0m\u001b[1;33m,\u001b[0m \u001b[0mignore_index\u001b[0m\u001b[1;33m=\u001b[0m\u001b[1;32mTrue\u001b[0m\u001b[1;33m)\u001b[0m\u001b[1;33m\u001b[0m\u001b[1;33m\u001b[0m\u001b[0m\n\u001b[0m\u001b[0;32m      2\u001b[0m \u001b[0mcombined_df\u001b[0m\u001b[1;33m.\u001b[0m\u001b[0mshape\u001b[0m\u001b[1;33m\u001b[0m\u001b[1;33m\u001b[0m\u001b[0m\n",
      "\u001b[1;32m~\\anaconda3\\lib\\site-packages\\pandas\\core\\reshape\\concat.py\u001b[0m in \u001b[0;36mconcat\u001b[1;34m(objs, axis, join, ignore_index, keys, levels, names, verify_integrity, sort, copy)\u001b[0m\n\u001b[0;32m    285\u001b[0m     )\n\u001b[0;32m    286\u001b[0m \u001b[1;33m\u001b[0m\u001b[0m\n\u001b[1;32m--> 287\u001b[1;33m     \u001b[1;32mreturn\u001b[0m \u001b[0mop\u001b[0m\u001b[1;33m.\u001b[0m\u001b[0mget_result\u001b[0m\u001b[1;33m(\u001b[0m\u001b[1;33m)\u001b[0m\u001b[1;33m\u001b[0m\u001b[1;33m\u001b[0m\u001b[0m\n\u001b[0m\u001b[0;32m    288\u001b[0m \u001b[1;33m\u001b[0m\u001b[0m\n\u001b[0;32m    289\u001b[0m \u001b[1;33m\u001b[0m\u001b[0m\n",
      "\u001b[1;32m~\\anaconda3\\lib\\site-packages\\pandas\\core\\reshape\\concat.py\u001b[0m in \u001b[0;36mget_result\u001b[1;34m(self)\u001b[0m\n\u001b[0;32m    500\u001b[0m                 \u001b[0mmgrs_indexers\u001b[0m\u001b[1;33m.\u001b[0m\u001b[0mappend\u001b[0m\u001b[1;33m(\u001b[0m\u001b[1;33m(\u001b[0m\u001b[0mobj\u001b[0m\u001b[1;33m.\u001b[0m\u001b[0m_mgr\u001b[0m\u001b[1;33m,\u001b[0m \u001b[0mindexers\u001b[0m\u001b[1;33m)\u001b[0m\u001b[1;33m)\u001b[0m\u001b[1;33m\u001b[0m\u001b[1;33m\u001b[0m\u001b[0m\n\u001b[0;32m    501\u001b[0m \u001b[1;33m\u001b[0m\u001b[0m\n\u001b[1;32m--> 502\u001b[1;33m             new_data = concatenate_block_managers(\n\u001b[0m\u001b[0;32m    503\u001b[0m                 \u001b[0mmgrs_indexers\u001b[0m\u001b[1;33m,\u001b[0m \u001b[0mself\u001b[0m\u001b[1;33m.\u001b[0m\u001b[0mnew_axes\u001b[0m\u001b[1;33m,\u001b[0m \u001b[0mconcat_axis\u001b[0m\u001b[1;33m=\u001b[0m\u001b[0mself\u001b[0m\u001b[1;33m.\u001b[0m\u001b[0mbm_axis\u001b[0m\u001b[1;33m,\u001b[0m \u001b[0mcopy\u001b[0m\u001b[1;33m=\u001b[0m\u001b[0mself\u001b[0m\u001b[1;33m.\u001b[0m\u001b[0mcopy\u001b[0m\u001b[1;33m,\u001b[0m\u001b[1;33m\u001b[0m\u001b[1;33m\u001b[0m\u001b[0m\n\u001b[0;32m    504\u001b[0m             )\n",
      "\u001b[1;32m~\\anaconda3\\lib\\site-packages\\pandas\\core\\internals\\concat.py\u001b[0m in \u001b[0;36mconcatenate_block_managers\u001b[1;34m(mgrs_indexers, axes, concat_axis, copy)\u001b[0m\n\u001b[0;32m     77\u001b[0m         \u001b[1;32melse\u001b[0m\u001b[1;33m:\u001b[0m\u001b[1;33m\u001b[0m\u001b[1;33m\u001b[0m\u001b[0m\n\u001b[0;32m     78\u001b[0m             b = make_block(\n\u001b[1;32m---> 79\u001b[1;33m                 \u001b[0m_concatenate_join_units\u001b[0m\u001b[1;33m(\u001b[0m\u001b[0mjoin_units\u001b[0m\u001b[1;33m,\u001b[0m \u001b[0mconcat_axis\u001b[0m\u001b[1;33m,\u001b[0m \u001b[0mcopy\u001b[0m\u001b[1;33m=\u001b[0m\u001b[0mcopy\u001b[0m\u001b[1;33m,\u001b[0m\u001b[1;33m)\u001b[0m\u001b[1;33m,\u001b[0m\u001b[1;33m\u001b[0m\u001b[1;33m\u001b[0m\u001b[0m\n\u001b[0m\u001b[0;32m     80\u001b[0m                 \u001b[0mplacement\u001b[0m\u001b[1;33m=\u001b[0m\u001b[0mplacement\u001b[0m\u001b[1;33m,\u001b[0m\u001b[1;33m\u001b[0m\u001b[1;33m\u001b[0m\u001b[0m\n\u001b[0;32m     81\u001b[0m             )\n",
      "\u001b[1;32m~\\anaconda3\\lib\\site-packages\\pandas\\core\\internals\\concat.py\u001b[0m in \u001b[0;36m_concatenate_join_units\u001b[1;34m(join_units, concat_axis, copy)\u001b[0m\n\u001b[0;32m    314\u001b[0m     \u001b[0mempty_dtype\u001b[0m\u001b[1;33m,\u001b[0m \u001b[0mupcasted_na\u001b[0m \u001b[1;33m=\u001b[0m \u001b[0m_get_empty_dtype_and_na\u001b[0m\u001b[1;33m(\u001b[0m\u001b[0mjoin_units\u001b[0m\u001b[1;33m)\u001b[0m\u001b[1;33m\u001b[0m\u001b[1;33m\u001b[0m\u001b[0m\n\u001b[0;32m    315\u001b[0m \u001b[1;33m\u001b[0m\u001b[0m\n\u001b[1;32m--> 316\u001b[1;33m     to_concat = [\n\u001b[0m\u001b[0;32m    317\u001b[0m         \u001b[0mju\u001b[0m\u001b[1;33m.\u001b[0m\u001b[0mget_reindexed_values\u001b[0m\u001b[1;33m(\u001b[0m\u001b[0mempty_dtype\u001b[0m\u001b[1;33m=\u001b[0m\u001b[0mempty_dtype\u001b[0m\u001b[1;33m,\u001b[0m \u001b[0mupcasted_na\u001b[0m\u001b[1;33m=\u001b[0m\u001b[0mupcasted_na\u001b[0m\u001b[1;33m)\u001b[0m\u001b[1;33m\u001b[0m\u001b[1;33m\u001b[0m\u001b[0m\n\u001b[0;32m    318\u001b[0m         \u001b[1;32mfor\u001b[0m \u001b[0mju\u001b[0m \u001b[1;32min\u001b[0m \u001b[0mjoin_units\u001b[0m\u001b[1;33m\u001b[0m\u001b[1;33m\u001b[0m\u001b[0m\n",
      "\u001b[1;32m~\\anaconda3\\lib\\site-packages\\pandas\\core\\internals\\concat.py\u001b[0m in \u001b[0;36m<listcomp>\u001b[1;34m(.0)\u001b[0m\n\u001b[0;32m    315\u001b[0m \u001b[1;33m\u001b[0m\u001b[0m\n\u001b[0;32m    316\u001b[0m     to_concat = [\n\u001b[1;32m--> 317\u001b[1;33m         \u001b[0mju\u001b[0m\u001b[1;33m.\u001b[0m\u001b[0mget_reindexed_values\u001b[0m\u001b[1;33m(\u001b[0m\u001b[0mempty_dtype\u001b[0m\u001b[1;33m=\u001b[0m\u001b[0mempty_dtype\u001b[0m\u001b[1;33m,\u001b[0m \u001b[0mupcasted_na\u001b[0m\u001b[1;33m=\u001b[0m\u001b[0mupcasted_na\u001b[0m\u001b[1;33m)\u001b[0m\u001b[1;33m\u001b[0m\u001b[1;33m\u001b[0m\u001b[0m\n\u001b[0m\u001b[0;32m    318\u001b[0m         \u001b[1;32mfor\u001b[0m \u001b[0mju\u001b[0m \u001b[1;32min\u001b[0m \u001b[0mjoin_units\u001b[0m\u001b[1;33m\u001b[0m\u001b[1;33m\u001b[0m\u001b[0m\n\u001b[0;32m    319\u001b[0m     ]\n",
      "\u001b[1;32m~\\anaconda3\\lib\\site-packages\\pandas\\core\\internals\\concat.py\u001b[0m in \u001b[0;36mget_reindexed_values\u001b[1;34m(self, empty_dtype, upcasted_na)\u001b[0m\n\u001b[0;32m    299\u001b[0m         \u001b[1;32melse\u001b[0m\u001b[1;33m:\u001b[0m\u001b[1;33m\u001b[0m\u001b[1;33m\u001b[0m\u001b[0m\n\u001b[0;32m    300\u001b[0m             \u001b[1;32mfor\u001b[0m \u001b[0max\u001b[0m\u001b[1;33m,\u001b[0m \u001b[0mindexer\u001b[0m \u001b[1;32min\u001b[0m \u001b[0mself\u001b[0m\u001b[1;33m.\u001b[0m\u001b[0mindexers\u001b[0m\u001b[1;33m.\u001b[0m\u001b[0mitems\u001b[0m\u001b[1;33m(\u001b[0m\u001b[1;33m)\u001b[0m\u001b[1;33m:\u001b[0m\u001b[1;33m\u001b[0m\u001b[1;33m\u001b[0m\u001b[0m\n\u001b[1;32m--> 301\u001b[1;33m                 \u001b[0mvalues\u001b[0m \u001b[1;33m=\u001b[0m \u001b[0malgos\u001b[0m\u001b[1;33m.\u001b[0m\u001b[0mtake_nd\u001b[0m\u001b[1;33m(\u001b[0m\u001b[0mvalues\u001b[0m\u001b[1;33m,\u001b[0m \u001b[0mindexer\u001b[0m\u001b[1;33m,\u001b[0m \u001b[0maxis\u001b[0m\u001b[1;33m=\u001b[0m\u001b[0max\u001b[0m\u001b[1;33m,\u001b[0m \u001b[0mfill_value\u001b[0m\u001b[1;33m=\u001b[0m\u001b[0mfill_value\u001b[0m\u001b[1;33m)\u001b[0m\u001b[1;33m\u001b[0m\u001b[1;33m\u001b[0m\u001b[0m\n\u001b[0m\u001b[0;32m    302\u001b[0m \u001b[1;33m\u001b[0m\u001b[0m\n\u001b[0;32m    303\u001b[0m         \u001b[1;32mreturn\u001b[0m \u001b[0mvalues\u001b[0m\u001b[1;33m\u001b[0m\u001b[1;33m\u001b[0m\u001b[0m\n",
      "\u001b[1;31mKeyboardInterrupt\u001b[0m: "
     ]
    }
   ],
   "source": [
    "combined_df = pd.concat([oct_df, dec_df], axis=0, ignore_index=True) # 한번에 합쳐서 분석 그렇지않으면 다음 데이터셋에서 새로운 범주형 변수가 나올수 있기때문\n",
    "combined_df.shape"
   ]
  },
  {
   "cell_type": "code",
   "execution_count": 90,
   "metadata": {},
   "outputs": [
    {
     "name": "stdout",
     "output_type": "stream",
     "text": [
      "<class 'pandas.core.frame.DataFrame'>\n",
      "Int64Index: 109819992 entries, 0 to 109950742\n",
      "Data columns (total 9 columns):\n",
      " #   Column         Dtype  \n",
      "---  ------         -----  \n",
      " 0   event_time     object \n",
      " 1   event_type     object \n",
      " 2   product_id     int64  \n",
      " 3   category_id    int64  \n",
      " 4   category_code  object \n",
      " 5   brand          object \n",
      " 6   price          float64\n",
      " 7   user_id        int64  \n",
      " 8   user_session   object \n",
      "dtypes: float64(1), int64(3), object(5)\n",
      "memory usage: 8.2+ GB\n"
     ]
    }
   ],
   "source": [
    "combined_df.info()"
   ]
  },
  {
   "cell_type": "code",
   "execution_count": 19,
   "metadata": {},
   "outputs": [
    {
     "data": {
      "text/plain": [
       "event_time              0\n",
       "event_type              0\n",
       "product_id              0\n",
       "category_id             0\n",
       "category_code    35413780\n",
       "brand            15341158\n",
       "price                   0\n",
       "user_id                 0\n",
       "user_session           12\n",
       "dtype: int64"
      ]
     },
     "execution_count": 19,
     "metadata": {},
     "output_type": "execute_result"
    }
   ],
   "source": [
    "combined_df.isnull().sum()# 유저 세션이 NaN인 데이터는 명백히 이상치로 간주 하여 제거"
   ]
  },
  {
   "cell_type": "code",
   "execution_count": 20,
   "metadata": {},
   "outputs": [
    {
     "data": {
      "text/plain": [
       "event_time              0\n",
       "event_type              0\n",
       "product_id              0\n",
       "category_id             0\n",
       "category_code    35413777\n",
       "brand            15341156\n",
       "price                   0\n",
       "user_id                 0\n",
       "user_session            0\n",
       "dtype: int64"
      ]
     },
     "execution_count": 20,
     "metadata": {},
     "output_type": "execute_result"
    }
   ],
   "source": [
    "combined_df.dropna(subset=['user_session'],inplace=True)\n",
    "combined_df.isnull().sum()"
   ]
  },
  {
   "cell_type": "code",
   "execution_count": 21,
   "metadata": {},
   "outputs": [
    {
     "name": "stdout",
     "output_type": "stream",
     "text": [
      "\n",
      "Number of duplicate rows: 130739\n",
      "Duplicate rows removed.\n",
      "New DataFrame shape: (109819992, 9)\n"
     ]
    }
   ],
   "source": [
    "duplicate_rows = combined_df.duplicated().sum()\n",
    "print(f\"\\nNumber of duplicate rows: {duplicate_rows}\")\n",
    "if duplicate_rows > 0:\n",
    "    combined_df = combined_df.drop_duplicates() # 중복항 제거 (같은 사람이 같은 세션 같은 시간에 같은 제품을 여러번 살수 없다고 판단)\n",
    "    print(\"Duplicate rows removed.\")\n",
    "    print(\"New DataFrame shape:\", combined_df.shape)"
   ]
  },
  {
   "cell_type": "code",
   "execution_count": 116,
   "metadata": {},
   "outputs": [],
   "source": [
    "import numpy as np \n",
    "sampled_df = combined_df.sample(frac=0.05, random_state=42)"
   ]
  },
  {
   "cell_type": "code",
   "execution_count": 61,
   "metadata": {},
   "outputs": [
    {
     "data": {
      "text/plain": [
       "(5491000, 9)"
      ]
     },
     "execution_count": 61,
     "metadata": {},
     "output_type": "execute_result"
    }
   ],
   "source": [
    "sampled_df.shape"
   ]
  },
  {
   "cell_type": "code",
   "execution_count": 62,
   "metadata": {},
   "outputs": [],
   "source": [
    "def eda_process(df):\n",
    "    df = df[abs(df['price']) > 1e-10] #type이 float이기때문에 0에 가까운 부동소수점 존재 확인하여 1e-10로 제거\n",
    "    print(df.isnull().sum())\n",
    "    print(df['category_id'].nunique(),df['user_session'].nunique(),df['event_type'].nunique(),df['price'].max(), df['price'].min(), df['price'].mean(), df['price'].median(), df['price'].std())\n",
    "    return df"
   ]
  },
  {
   "cell_type": "code",
   "execution_count": null,
   "metadata": {},
   "outputs": [],
   "source": [
    "price0_df=sampled_df[sampled_df['price'] == 0] # price가 0인 데이터는 전부 category_id 혹은 brand가 na였다.\n",
    "len(price0_df)"
   ]
  },
  {
   "cell_type": "code",
   "execution_count": 117,
   "metadata": {},
   "outputs": [
    {
     "name": "stdout",
     "output_type": "stream",
     "text": [
      "event_time             0\n",
      "event_type             0\n",
      "product_id             0\n",
      "category_id            0\n",
      "category_code    1763637\n",
      "brand             755716\n",
      "price                  0\n",
      "user_id                0\n",
      "user_session           0\n",
      "dtype: int64\n",
      "681 4189114 3 2574.07 0.77 292.1568259234092 165.51 356.54389652811074\n"
     ]
    }
   ],
   "source": [
    "sampled_df = eda_process(sampled_df)"
   ]
  },
  {
   "cell_type": "code",
   "execution_count": 79,
   "metadata": {},
   "outputs": [
    {
     "data": {
      "text/plain": [
       "130"
      ]
     },
     "execution_count": 79,
     "metadata": {},
     "output_type": "execute_result"
    }
   ],
   "source": [
    "sampled_df['category_code'].nunique() #카테고리 코드 종류 130개"
   ]
  },
  {
   "cell_type": "code",
   "execution_count": 84,
   "metadata": {},
   "outputs": [
    {
     "data": {
      "text/plain": [
       "category_id\n",
       "2053013552226107603      60\n",
       "2053013552259662037    4498\n",
       "2053013552293216471    4813\n",
       "2053013552326770905     736\n",
       "2053013552351936731     150\n",
       "                       ... \n",
       "2186437842094261028       0\n",
       "2186437842832458550       0\n",
       "2187707789055361298       0\n",
       "2187707857414128194       0\n",
       "2187707861038006932       0\n",
       "Name: brand, Length: 681, dtype: int64"
      ]
     },
     "execution_count": 84,
     "metadata": {},
     "output_type": "execute_result"
    }
   ],
   "source": [
    "sampled_df.groupby('category_id')[\"brand\"].apply(lambda x: x.isnull().sum()) #id별 브랜드 null 갯수"
   ]
  },
  {
   "cell_type": "code",
   "execution_count": 122,
   "metadata": {},
   "outputs": [],
   "source": [
    "sampled_df.isnull().sum() #전체 결측치 코드:675374개 브랜드:303564"
   ]
  },
  {
   "cell_type": "code",
   "execution_count": null,
   "metadata": {},
   "outputs": [],
   "source": [
    "sampled_df.head()"
   ]
  },
  {
   "cell_type": "code",
   "execution_count": null,
   "metadata": {},
   "outputs": [],
   "source": [
    "sampled_df[sampled_df[\"category_id\"]== 2053013563584283495].head(10)"
   ]
  },
  {
   "cell_type": "code",
   "execution_count": null,
   "metadata": {},
   "outputs": [],
   "source": [
    "sampled_df[sampled_df[\"brand\"]== \"lucente\"][\"category_code\"].value_counts() # lucente 인것 중에 category_code는 전부 na"
   ]
  },
  {
   "cell_type": "code",
   "execution_count": null,
   "metadata": {},
   "outputs": [],
   "source": [
    "sampled_df['brand'].value_counts(dropna = False, ascending =False).head(20) # 브랜드 종류는 2998"
   ]
  },
  {
   "cell_type": "code",
   "execution_count": 118,
   "metadata": {},
   "outputs": [
    {
     "data": {
      "text/plain": [
       "category_id\n",
       "2053013553559896355    257495\n",
       "2053013563651392361    111638\n",
       "2053013556168753601     69822\n",
       "2053013563693335403     69749\n",
       "2053013563970159485     62420\n",
       "2053013553853497655     57239\n",
       "2053013557024391671     56731\n",
       "2053013563173241677     45435\n",
       "2053013563584283495     37167\n",
       "2053013553375346967     33818\n",
       "Name: category_code, dtype: int64"
      ]
     },
     "execution_count": 118,
     "metadata": {},
     "output_type": "execute_result"
    }
   ],
   "source": [
    "sampled_df[(sampled_df[\"brand\"].isnull()) & (sampled_df[\"category_code\"].isnull())][\"category_id\"].value_counts(ascending=False).head(10) \n",
    "# 코드 및 브랜드 둘다 na 인 결측치 수 186433개"
   ]
  },
  {
   "cell_type": "code",
   "execution_count": 111,
   "metadata": {},
   "outputs": [
    {
     "data": {
      "text/plain": [
       "array([], dtype=object)"
      ]
     },
     "execution_count": 111,
     "metadata": {},
     "output_type": "execute_result"
    }
   ],
   "source": [
    "len(sampled_df[sampled_df[\"category_id\"]==2053013563651392361][[\"category_code\",\"brand\"]].notnull())\n",
    "filtered_df = sampled_df[\n",
    "    (sampled_df[\"category_id\"] == 2053013563651392361) &\n",
    "    ((sampled_df[\"category_code\"].notnull() | sampled_df[\"brand\"].notnull()) &\n",
    "     ~(sampled_df[\"category_code\"].notnull() & sampled_df[\"brand\"].notnull()))\n",
    "]\n",
    "# category_code와 brand의 값 종류 확인\n",
    "unique_category_code = filtered_df[\"category_code\"].dropna().unique() # category는 전부 null 이었고\n",
    "unique_brand = filtered_df[\"brand\"].dropna().unique()\n",
    "\n",
    "# 출력\n",
    "print(\"category_code 값 종류:\")\n",
    "print(unique_category_code)\n",
    "\n",
    "print(\"\\nbrand 값 종류:\")\n",
    "print(unique_brand)"
   ]
  },
  {
   "cell_type": "code",
   "execution_count": 105,
   "metadata": {},
   "outputs": [
    {
     "name": "stdout",
     "output_type": "stream",
     "text": [
      "Category ID: 2053013553559896355, Non-NaN Values: []\n",
      "Category ID: 2053013563651392361, Non-NaN Values: []\n",
      "Category ID: 2053013563693335403, Non-NaN Values: []\n",
      "Category ID: 2053013556168753601, Non-NaN Values: []\n",
      "Category ID: 2053013563970159485, Non-NaN Values: []\n",
      "Category ID: 2053013553853497655, Non-NaN Values: []\n",
      "Category ID: 2053013557024391671, Non-NaN Values: []\n",
      "Category ID: 2053013563173241677, Non-NaN Values: []\n",
      "Category ID: 2053013563584283495, Non-NaN Values: []\n",
      "Category ID: 2053013553375346967, Non-NaN Values: []\n"
     ]
    }
   ],
   "source": [
    "brand_freqs = sampled_df[sampled_df['category_code'].isnull()].groupby('category_id')['brand'].value_counts(normalize=True) # category_code가 null이면서 category_id별 brand 종류별 갯수 구해서 분포%형태로 출력\n",
    "\n",
    "# Step 2: category_code가 NaN인 경우 brand 빈도에 따라 대체\n",
    "def replace_na_with_brand(row):\n",
    "    if pd.isna(row['category_code']):\n",
    "        # 같은 category_id 내에서 brand의 빈도 기반 대체\n",
    "        possible_brands = brand_freqs[row['category_id']]\n",
    "        return possible_brands.sample(weights=possible_brands.values, random_state=row.name).index[0]\n",
    "    return row['category_code']\n",
    "\n",
    "# Apply 함수로 대체 수행\n",
    "sampled_df['category_code'] = sampled_df.apply(replace_na_with_brand, axis=1)\n",
    "# 이후 나머지 둘다 결측인건 iterativeimputer로 대체 시도 혹은 다른 결측치 대체 모델 찾아 효과 비교 버전 2까지 만들자"
   ]
  },
  {
   "cell_type": "code",
   "execution_count": 114,
   "metadata": {},
   "outputs": [
    {
     "data": {
      "text/plain": [
       "Int64Index([2053013552259662037, 2053013552385491165, 2053013552427434207,\n",
       "            2053013552469377249, 2053013552662315243, 2053013552788144369,\n",
       "            2053013552821698803, 2053013552863641845, 2053013552989470973,\n",
       "            2053013553115300101,\n",
       "            ...\n",
       "            2181922918508790116, 2181922923097358794, 2181922978520891990,\n",
       "            2182779801528435624, 2182780429113753770, 2184831680924091011,\n",
       "            2186437187866722802, 2186437664792641850, 2187707857414128194,\n",
       "            2187707861038006932],\n",
       "           dtype='int64', name='category_id', length=411)"
      ]
     },
     "execution_count": 114,
     "metadata": {},
     "output_type": "execute_result"
    }
   ],
   "source": [
    "pd.set_option('display.max_rows', None)\n",
    "#pd.reset_option('display.max_rows')\n",
    "sampled_df[\"category_code\"].value_counts(dropna=False) # 카테고리코드 NA 값과 다른 거 종류 확인\n",
    "\n"
   ]
  },
  {
   "cell_type": "code",
   "execution_count": null,
   "metadata": {},
   "outputs": [],
   "source": [
    "sampled_df[(sampled_df[\"category_id\"]== 2053013552259662037 )& (sampled_df[\"category_code\"]!= np.nan)]['category_code'].value_counts().head(10)"
   ]
  },
  {
   "cell_type": "code",
   "execution_count": null,
   "metadata": {},
   "outputs": [],
   "source": [
    "def split_category_code(category_code):\n",
    "    if pd.isna(category_code):\n",
    "        return 'none', 'none', 'none'\n",
    "    parts = category_code.split('.')  # '.'으로 분리\n",
    "    if len(parts) == 2:  # 중분류까지 있는 경우\n",
    "        parts.append('none')  # 소분류에 'none' 추가\n",
    "    return parts[0], parts[1], parts[2]  # 대, 중, 소 반환\n",
    "\n",
    "df[['category_major', 'category_middle', 'category_minor']] = df['category_code'].apply(lambda x: pd.Series(split_category_code(x)))ㄴ"
   ]
  },
  {
   "cell_type": "code",
   "execution_count": null,
   "metadata": {},
   "outputs": [],
   "source": []
  },
  {
   "cell_type": "code",
   "execution_count": 110,
   "metadata": {},
   "outputs": [
    {
     "name": "stdout",
     "output_type": "stream",
     "text": [
      "Category ID: 2053013552259662037, Non-NaN Category Codes: []\n",
      "Category ID: 2053013552385491165, Non-NaN Category Codes: []\n",
      "Category ID: 2053013552427434207, Non-NaN Category Codes: []\n",
      "Category ID: 2053013552469377249, Non-NaN Category Codes: []\n",
      "Category ID: 2053013552662315243, Non-NaN Category Codes: []\n",
      "Category ID: 2053013552788144369, Non-NaN Category Codes: []\n",
      "Category ID: 2053013552821698803, Non-NaN Category Codes: []\n",
      "Category ID: 2053013552863641845, Non-NaN Category Codes: []\n",
      "Category ID: 2053013552989470973, Non-NaN Category Codes: []\n",
      "Category ID: 2053013553115300101, Non-NaN Category Codes: []\n",
      "Category ID: 2053013553165631753, Non-NaN Category Codes: []\n",
      "Category ID: 2053013553199186187, Non-NaN Category Codes: []\n",
      "Category ID: 2053013553283072273, Non-NaN Category Codes: []\n",
      "Category ID: 2053013553375346967, Non-NaN Category Codes: []\n",
      "Category ID: 2053013553459233053, Non-NaN Category Codes: []\n",
      "Category ID: 2053013553484398879, Non-NaN Category Codes: []\n",
      "Category ID: 2053013553526341921, Non-NaN Category Codes: []\n",
      "Category ID: 2053013553559896355, Non-NaN Category Codes: []\n",
      "Category ID: 2053013553853497655, Non-NaN Category Codes: []\n",
      "Category ID: 2053013553887052089, Non-NaN Category Codes: []\n",
      "Category ID: 2053013553912217915, Non-NaN Category Codes: []\n",
      "Category ID: 2053013554071601477, Non-NaN Category Codes: []\n",
      "Category ID: 2053013554449088861, Non-NaN Category Codes: []\n",
      "Category ID: 2053013554524586339, Non-NaN Category Codes: []\n",
      "Category ID: 2053013554625249641, Non-NaN Category Codes: []\n",
      "Category ID: 2053013554692358509, Non-NaN Category Codes: []\n",
      "Category ID: 2053013554994348409, Non-NaN Category Codes: []\n",
      "Category ID: 2053013555178897795, Non-NaN Category Codes: []\n",
      "Category ID: 2053013555287949705, Non-NaN Category Codes: []\n",
      "Category ID: 2053013555355058573, Non-NaN Category Codes: []\n",
      "Category ID: 2053013555380224399, Non-NaN Category Codes: []\n",
      "Category ID: 2053013555413778833, Non-NaN Category Codes: []\n",
      "Category ID: 2053013555438944659, Non-NaN Category Codes: []\n",
      "Category ID: 2053013555657048481, Non-NaN Category Codes: []\n",
      "Category ID: 2053013555690602915, Non-NaN Category Codes: []\n",
      "Category ID: 2053013556110033341, Non-NaN Category Codes: []\n",
      "Category ID: 2053013556168753601, Non-NaN Category Codes: []\n",
      "Category ID: 2053013556277805513, Non-NaN Category Codes: []\n",
      "Category ID: 2053013556403634639, Non-NaN Category Codes: []\n",
      "Category ID: 2053013556437189073, Non-NaN Category Codes: []\n",
      "Category ID: 2053013556462354899, Non-NaN Category Codes: []\n",
      "Category ID: 2053013556521075159, Non-NaN Category Codes: []\n",
      "Category ID: 2053013556546240985, Non-NaN Category Codes: []\n",
      "Category ID: 2053013556579795419, Non-NaN Category Codes: []\n",
      "Category ID: 2053013557024391671, Non-NaN Category Codes: []\n",
      "Category ID: 2053013557066334713, Non-NaN Category Codes: []\n",
      "Category ID: 2053013557166998015, Non-NaN Category Codes: []\n",
      "Category ID: 2053013557225718275, Non-NaN Category Codes: []\n",
      "Category ID: 2053013557385101831, Non-NaN Category Codes: []\n",
      "Category ID: 2053013557452210699, Non-NaN Category Codes: []\n",
      "Category ID: 2053013557510930959, Non-NaN Category Codes: []\n",
      "Category ID: 2053013557544485393, Non-NaN Category Codes: []\n",
      "Category ID: 2053013557569651219, Non-NaN Category Codes: []\n",
      "Category ID: 2053013557645148695, Non-NaN Category Codes: []\n",
      "Category ID: 2053013557695480347, Non-NaN Category Codes: []\n",
      "Category ID: 2053013557737423389, Non-NaN Category Codes: []\n",
      "Category ID: 2053013557787755041, Non-NaN Category Codes: []\n",
      "Category ID: 2053013557930361385, Non-NaN Category Codes: []\n",
      "Category ID: 2053013557955527211, Non-NaN Category Codes: []\n",
      "Category ID: 2053013558005858861, Non-NaN Category Codes: []\n",
      "Category ID: 2053013558031024687, Non-NaN Category Codes: []\n",
      "Category ID: 2053013558072967729, Non-NaN Category Codes: []\n",
      "Category ID: 2053013558098133555, Non-NaN Category Codes: []\n",
      "Category ID: 2053013558131687989, Non-NaN Category Codes: []\n",
      "Category ID: 2053013558156853815, Non-NaN Category Codes: []\n",
      "Category ID: 2053013558190408249, Non-NaN Category Codes: []\n",
      "Category ID: 2053013558223962683, Non-NaN Category Codes: []\n",
      "Category ID: 2053013558249128509, Non-NaN Category Codes: []\n",
      "Category ID: 2053013558282682943, Non-NaN Category Codes: []\n",
      "Category ID: 2053013558349791811, Non-NaN Category Codes: []\n",
      "Category ID: 2053013558458843721, Non-NaN Category Codes: []\n",
      "Category ID: 2053013558492398155, Non-NaN Category Codes: []\n",
      "Category ID: 2053013558525952589, Non-NaN Category Codes: []\n",
      "Category ID: 2053013558559507023, Non-NaN Category Codes: []\n",
      "Category ID: 2053013558593061457, Non-NaN Category Codes: []\n",
      "Category ID: 2053013558618227283, Non-NaN Category Codes: []\n",
      "Category ID: 2053013558643393109, Non-NaN Category Codes: []\n",
      "Category ID: 2053013558668558935, Non-NaN Category Codes: []\n",
      "Category ID: 2053013558727279193, Non-NaN Category Codes: []\n",
      "Category ID: 2053013558752445019, Non-NaN Category Codes: []\n",
      "Category ID: 2053013558785999453, Non-NaN Category Codes: []\n",
      "Category ID: 2053013558802776671, Non-NaN Category Codes: []\n",
      "Category ID: 2053013558836331105, Non-NaN Category Codes: []\n",
      "Category ID: 2053013558861496931, Non-NaN Category Codes: []\n",
      "Category ID: 2053013558895051365, Non-NaN Category Codes: []\n",
      "Category ID: 2053013558978937451, Non-NaN Category Codes: []\n",
      "Category ID: 2053013559071212141, Non-NaN Category Codes: []\n",
      "Category ID: 2053013559104766575, Non-NaN Category Codes: []\n",
      "Category ID: 2053013559138321009, Non-NaN Category Codes: []\n",
      "Category ID: 2053013559222207091, Non-NaN Category Codes: []\n",
      "Category ID: 2053013559322870393, Non-NaN Category Codes: []\n",
      "Category ID: 2053013559473865347, Non-NaN Category Codes: []\n",
      "Category ID: 2053013559515808389, Non-NaN Category Codes: []\n",
      "Category ID: 2053013559641637517, Non-NaN Category Codes: []\n",
      "Category ID: 2053013559675191951, Non-NaN Category Codes: []\n",
      "Category ID: 2053013559708746385, Non-NaN Category Codes: []\n",
      "Category ID: 2053013559733912211, Non-NaN Category Codes: []\n",
      "Category ID: 2053013559767466645, Non-NaN Category Codes: []\n",
      "Category ID: 2053013559935238815, Non-NaN Category Codes: []\n",
      "Category ID: 2053013560010736293, Non-NaN Category Codes: []\n",
      "Category ID: 2053013560035902119, Non-NaN Category Codes: []\n",
      "Category ID: 2053013560111399597, Non-NaN Category Codes: []\n",
      "Category ID: 2053013560144954031, Non-NaN Category Codes: []\n",
      "Category ID: 2053013560220451507, Non-NaN Category Codes: []\n",
      "Category ID: 2053013560287560373, Non-NaN Category Codes: []\n",
      "Category ID: 2053013560413389501, Non-NaN Category Codes: []\n",
      "Category ID: 2053013560463721151, Non-NaN Category Codes: []\n",
      "Category ID: 2053013560555995845, Non-NaN Category Codes: []\n",
      "Category ID: 2053013560841208525, Non-NaN Category Codes: []\n",
      "Category ID: 2053013561126421213, Non-NaN Category Codes: []\n",
      "Category ID: 2053013561159975647, Non-NaN Category Codes: []\n",
      "Category ID: 2053013561185141473, Non-NaN Category Codes: []\n",
      "Category ID: 2053013561218695907, Non-NaN Category Codes: []\n",
      "Category ID: 2053013561243861733, Non-NaN Category Codes: []\n",
      "Category ID: 2053013561277416167, Non-NaN Category Codes: []\n",
      "Category ID: 2053013561302581993, Non-NaN Category Codes: []\n",
      "Category ID: 2053013561327747819, Non-NaN Category Codes: []\n",
      "Category ID: 2053013561352913645, Non-NaN Category Codes: []\n",
      "Category ID: 2053013561453576945, Non-NaN Category Codes: []\n",
      "Category ID: 2053013561495519987, Non-NaN Category Codes: []\n",
      "Category ID: 2053013561529074421, Non-NaN Category Codes: []\n",
      "Category ID: 2053013561554240247, Non-NaN Category Codes: []\n",
      "Category ID: 2053013561604571899, Non-NaN Category Codes: []\n",
      "Category ID: 2053013561638126333, Non-NaN Category Codes: []\n",
      "Category ID: 2053013561663292159, Non-NaN Category Codes: []\n",
      "Category ID: 2053013561696846593, Non-NaN Category Codes: []\n",
      "Category ID: 2053013561747178243, Non-NaN Category Codes: []\n",
      "Category ID: 2053013561814287111, Non-NaN Category Codes: []\n",
      "Category ID: 2053013561914950413, Non-NaN Category Codes: []\n",
      "Category ID: 2053013561956893455, Non-NaN Category Codes: []\n",
      "Category ID: 2053013561982059281, Non-NaN Category Codes: []\n",
      "Category ID: 2053013562082722579, Non-NaN Category Codes: []\n",
      "Category ID: 2053013562183385881, Non-NaN Category Codes: []\n",
      "Category ID: 2053013562208551707, Non-NaN Category Codes: []\n",
      "Category ID: 2053013562250494749, Non-NaN Category Codes: []\n",
      "Category ID: 2053013562325992225, Non-NaN Category Codes: []\n",
      "Category ID: 2053013562359546659, Non-NaN Category Codes: []\n",
      "Category ID: 2053013562393101093, Non-NaN Category Codes: []\n",
      "Category ID: 2053013562451821351, Non-NaN Category Codes: []\n",
      "Category ID: 2053013562560873263, Non-NaN Category Codes: []\n",
      "Category ID: 2053013562611204913, Non-NaN Category Codes: []\n",
      "Category ID: 2053013562644759347, Non-NaN Category Codes: []\n",
      "Category ID: 2053013562753811257, Non-NaN Category Codes: []\n",
      "Category ID: 2053013562778977083, Non-NaN Category Codes: []\n",
      "Category ID: 2053013562812531517, Non-NaN Category Codes: []\n",
      "Category ID: 2053013562837697343, Non-NaN Category Codes: []\n",
      "Category ID: 2053013562871251777, Non-NaN Category Codes: []\n",
      "Category ID: 2053013562913194819, Non-NaN Category Codes: []\n",
      "Category ID: 2053013563139687243, Non-NaN Category Codes: []\n",
      "Category ID: 2053013563173241677, Non-NaN Category Codes: []\n",
      "Category ID: 2053013563215184719, Non-NaN Category Codes: []\n",
      "Category ID: 2053013563248739153, Non-NaN Category Codes: []\n",
      "Category ID: 2053013563273904979, Non-NaN Category Codes: []\n",
      "Category ID: 2053013563307459413, Non-NaN Category Codes: []\n",
      "Category ID: 2053013563332625239, Non-NaN Category Codes: []\n",
      "Category ID: 2053013563366179673, Non-NaN Category Codes: []\n",
      "Category ID: 2053013563391345499, Non-NaN Category Codes: []\n",
      "Category ID: 2053013563424899933, Non-NaN Category Codes: []\n",
      "Category ID: 2053013563450065759, Non-NaN Category Codes: []\n",
      "Category ID: 2053013563483620193, Non-NaN Category Codes: []\n",
      "Category ID: 2053013563517174627, Non-NaN Category Codes: []\n",
      "Category ID: 2053013563550729061, Non-NaN Category Codes: []\n",
      "Category ID: 2053013563584283495, Non-NaN Category Codes: []\n",
      "Category ID: 2053013563651392361, Non-NaN Category Codes: []\n",
      "Category ID: 2053013563693335403, Non-NaN Category Codes: []\n",
      "Category ID: 2053013563768832881, Non-NaN Category Codes: []\n",
      "Category ID: 2053013563970159485, Non-NaN Category Codes: []\n",
      "Category ID: 2053013564154708873, Non-NaN Category Codes: []\n",
      "Category ID: 2053013564557362081, Non-NaN Category Codes: []\n",
      "Category ID: 2053013564641248165, Non-NaN Category Codes: []\n",
      "Category ID: 2053013564741911467, Non-NaN Category Codes: []\n",
      "Category ID: 2053013564918072245, Non-NaN Category Codes: []\n",
      "Category ID: 2053013564968403895, Non-NaN Category Codes: []\n",
      "Category ID: 2053013565589160919, Non-NaN Category Codes: []\n",
      "Category ID: 2053013565882762215, Non-NaN Category Codes: []\n",
      "Category ID: 2053013566067311601, Non-NaN Category Codes: []\n",
      "Category ID: 2053013566310581247, Non-NaN Category Codes: []\n",
      "Category ID: 2053013566344134657, Non-NaN Category Codes: []\n",
      "Category ID: 2053013566377689091, Non-NaN Category Codes: []\n",
      "Category ID: 2053013566411243525, Non-NaN Category Codes: []\n",
      "Category ID: 2053013566453186567, Non-NaN Category Codes: []\n",
      "Category ID: 2053013566478352393, Non-NaN Category Codes: []\n",
      "Category ID: 2053013566503518219, Non-NaN Category Codes: []\n",
      "Category ID: 2053013566562238479, Non-NaN Category Codes: []\n",
      "Category ID: 2053013566587404305, Non-NaN Category Codes: []\n",
      "Category ID: 2055156895844401457, Non-NaN Category Codes: []\n",
      "Category ID: 2055156924273394455, Non-NaN Category Codes: []\n",
      "Category ID: 2055156924315337497, Non-NaN Category Codes: []\n",
      "Category ID: 2055156924466332447, Non-NaN Category Codes: []\n",
      "Category ID: 2055909009252155819, Non-NaN Category Codes: []\n",
      "Category ID: 2058719826188173878, Non-NaN Category Codes: []\n",
      "Category ID: 2058719829233238746, Non-NaN Category Codes: []\n",
      "Category ID: 2059484387635888645, Non-NaN Category Codes: []\n",
      "Category ID: 2059484599339188409, Non-NaN Category Codes: []\n",
      "Category ID: 2059484599372742843, Non-NaN Category Codes: []\n",
      "Category ID: 2059484599414685885, Non-NaN Category Codes: []\n",
      "Category ID: 2059484599456628927, Non-NaN Category Codes: []\n",
      "Category ID: 2059484601444729123, Non-NaN Category Codes: []\n",
      "Category ID: 2059484602216481097, Non-NaN Category Codes: []\n",
      "Category ID: 2060237588744111062, Non-NaN Category Codes: []\n",
      "Category ID: 2060237591176806498, Non-NaN Category Codes: []\n",
      "Category ID: 2060981320481243178, Non-NaN Category Codes: []\n",
      "Category ID: 2060981320514797612, Non-NaN Category Codes: []\n",
      "Category ID: 2060981320548352046, Non-NaN Category Codes: []\n",
      "Category ID: 2060981320581906480, Non-NaN Category Codes: []\n",
      "Category ID: 2061717937420501730, Non-NaN Category Codes: []\n",
      "Category ID: 2061717948367634684, Non-NaN Category Codes: []\n",
      "Category ID: 2061717948468297988, Non-NaN Category Codes: []\n",
      "Category ID: 2061717948493463814, Non-NaN Category Codes: []\n",
      "Category ID: 2062461754293617058, Non-NaN Category Codes: []\n",
      "Category ID: 2070004998778912979, Non-NaN Category Codes: []\n",
      "Category ID: 2070005009172398851, Non-NaN Category Codes: []\n",
      "Category ID: 2070005009256284935, Non-NaN Category Codes: []\n",
      "Category ID: 2070747671722722162, Non-NaN Category Codes: []\n",
      "Category ID: 2070747673266226092, Non-NaN Category Codes: []\n",
      "Category ID: 2070747673358500784, Non-NaN Category Codes: []\n",
      "Category ID: 2070747685681365440, Non-NaN Category Codes: []\n",
      "Category ID: 2071489994601529806, Non-NaN Category Codes: []\n",
      "Category ID: 2071489994693804498, Non-NaN Category Codes: []\n",
      "Category ID: 2071490004441367490, Non-NaN Category Codes: []\n",
      "Category ID: 2074462942123786261, Non-NaN Category Codes: []\n",
      "Category ID: 2075210504652981138, Non-NaN Category Codes: []\n",
      "Category ID: 2075210506532029436, Non-NaN Category Codes: []\n",
      "Category ID: 2075210506573972478, Non-NaN Category Codes: []\n",
      "Category ID: 2075962341706433246, Non-NaN Category Codes: []\n",
      "Category ID: 2075962341748376288, Non-NaN Category Codes: []\n",
      "Category ID: 2075962341790319330, Non-NaN Category Codes: []\n",
      "Category ID: 2076715358323998979, Non-NaN Category Codes: []\n",
      "Category ID: 2076715364204413467, Non-NaN Category Codes: []\n",
      "Category ID: 2076715364279910943, Non-NaN Category Codes: []\n",
      "Category ID: 2078957452602114300, Non-NaN Category Codes: []\n",
      "Category ID: 2078957452635668734, Non-NaN Category Codes: []\n",
      "Category ID: 2078957452669223168, Non-NaN Category Codes: []\n",
      "Category ID: 2078957461921858354, Non-NaN Category Codes: []\n",
      "Category ID: 2079713971606127501, Non-NaN Category Codes: []\n",
      "Category ID: 2079713978300236035, Non-NaN Category Codes: []\n",
      "Category ID: 2079713982830084515, Non-NaN Category Codes: []\n",
      "Category ID: 2079713983761220055, Non-NaN Category Codes: []\n",
      "Category ID: 2080463777567867259, Non-NaN Category Codes: []\n",
      "Category ID: 2080463777718862211, Non-NaN Category Codes: []\n",
      "Category ID: 2082717806897398246, Non-NaN Category Codes: []\n",
      "Category ID: 2084217994270999025, Non-NaN Category Codes: []\n",
      "Category ID: 2084218014168776941, Non-NaN Category Codes: []\n",
      "Category ID: 2084962291626803333, Non-NaN Category Codes: []\n",
      "Category ID: 2085718636156158307, Non-NaN Category Codes: []\n",
      "Category ID: 2086471225382536008, Non-NaN Category Codes: []\n",
      "Category ID: 2086471239416676686, Non-NaN Category Codes: []\n",
      "Category ID: 2088750507198775704, Non-NaN Category Codes: []\n",
      "Category ID: 2089490106086851034, Non-NaN Category Codes: []\n",
      "Category ID: 2089490116119625748, Non-NaN Category Codes: []\n",
      "Category ID: 2090228401527849663, Non-NaN Category Codes: []\n",
      "Category ID: 2090228413959766319, Non-NaN Category Codes: []\n",
      "Category ID: 2090971675423146874, Non-NaN Category Codes: []\n",
      "Category ID: 2090971680431145002, Non-NaN Category Codes: []\n",
      "Category ID: 2090971680481476652, Non-NaN Category Codes: []\n",
      "Category ID: 2090971680783466556, Non-NaN Category Codes: []\n",
      "Category ID: 2090971685539807320, Non-NaN Category Codes: []\n",
      "Category ID: 2091727629378912491, Non-NaN Category Codes: []\n",
      "Category ID: 2094006184079000416, Non-NaN Category Codes: []\n",
      "Category ID: 2095518906859913319, Non-NaN Category Codes: []\n",
      "Category ID: 2095518917320508073, Non-NaN Category Codes: []\n",
      "Category ID: 2095518921355428757, Non-NaN Category Codes: []\n",
      "Category ID: 2096280601366626625, Non-NaN Category Codes: []\n",
      "Category ID: 2098563440799908223, Non-NaN Category Codes: []\n",
      "Category ID: 2098563448148329133, Non-NaN Category Codes: []\n",
      "Category ID: 2099306010899383229, Non-NaN Category Codes: []\n",
      "Category ID: 2100065069009208002, Non-NaN Category Codes: []\n",
      "Category ID: 2100065069302809284, Non-NaN Category Codes: []\n",
      "Category ID: 2102305967893905931, Non-NaN Category Codes: []\n",
      "Category ID: 2102307650380235197, Non-NaN Category Codes: []\n",
      "Category ID: 2103807459595387724, Non-NaN Category Codes: []\n",
      "Category ID: 2104564977229628393, Non-NaN Category Codes: []\n",
      "Category ID: 2104564977263182827, Non-NaN Category Codes: []\n",
      "Category ID: 2105319817211805903, Non-NaN Category Codes: []\n",
      "Category ID: 2105319819401232597, Non-NaN Category Codes: []\n",
      "Category ID: 2106075695351333719, Non-NaN Category Codes: []\n",
      "Category ID: 2106075725441269865, Non-NaN Category Codes: []\n",
      "Category ID: 2106830258215846573, Non-NaN Category Codes: []\n",
      "Category ID: 2110187392055903187, Non-NaN Category Codes: []\n",
      "Category ID: 2110187395755278421, Non-NaN Category Codes: []\n",
      "Category ID: 2110937189394154243, Non-NaN Category Codes: []\n",
      "Category ID: 2110937219442148235, Non-NaN Category Codes: []\n",
      "Category ID: 2110937222638207897, Non-NaN Category Codes: []\n",
      "Category ID: 2112418071384687332, Non-NaN Category Codes: []\n",
      "Category ID: 2112418215870071678, Non-NaN Category Codes: []\n",
      "Category ID: 2116907504691576833, Non-NaN Category Codes: []\n",
      "Category ID: 2116907507795361987, Non-NaN Category Codes: []\n",
      "Category ID: 2116907507954745551, Non-NaN Category Codes: []\n",
      "Category ID: 2116907518801216297, Non-NaN Category Codes: []\n",
      "Category ID: 2116907525201723525, Non-NaN Category Codes: []\n",
      "Category ID: 2119149008294249184, Non-NaN Category Codes: []\n",
      "Category ID: 2119910569631810087, Non-NaN Category Codes: []\n",
      "Category ID: 2124430574616576362, Non-NaN Category Codes: []\n",
      "Category ID: 2125175529001713727, Non-NaN Category Codes: []\n",
      "Category ID: 2125175570022007765, Non-NaN Category Codes: []\n",
      "Category ID: 2125931803410694331, Non-NaN Category Codes: []\n",
      "Category ID: 2126679652444405974, Non-NaN Category Codes: []\n",
      "Category ID: 2126679657276244294, Non-NaN Category Codes: []\n",
      "Category ID: 2127424806855902066, Non-NaN Category Codes: []\n",
      "Category ID: 2127425270821421370, Non-NaN Category Codes: []\n",
      "Category ID: 2127425375913902544, Non-NaN Category Codes: []\n",
      "Category ID: 2127425430859285014, Non-NaN Category Codes: []\n",
      "Category ID: 2127425432411177496, Non-NaN Category Codes: []\n",
      "Category ID: 2127425433661080090, Non-NaN Category Codes: []\n",
      "Category ID: 2127425438190928416, Non-NaN Category Codes: []\n",
      "Category ID: 2127425439776375330, Non-NaN Category Codes: []\n",
      "Category ID: 2127425440925614628, Non-NaN Category Codes: []\n",
      "Category ID: 2134904816839688395, Non-NaN Category Codes: []\n",
      "Category ID: 2134904835026190593, Non-NaN Category Codes: []\n",
      "Category ID: 2134905019189691101, Non-NaN Category Codes: []\n",
      "Category ID: 2134905035589419799, Non-NaN Category Codes: []\n",
      "Category ID: 2134905039313961849, Non-NaN Category Codes: []\n",
      "Category ID: 2134905041696326587, Non-NaN Category Codes: []\n",
      "Category ID: 2134905045328592909, Non-NaN Category Codes: []\n",
      "Category ID: 2134905045538308115, Non-NaN Category Codes: []\n",
      "Category ID: 2134905045613805589, Non-NaN Category Codes: []\n",
      "Category ID: 2135658359968236364, Non-NaN Category Codes: []\n",
      "Category ID: 2135658542386905834, Non-NaN Category Codes: []\n",
      "Category ID: 2135658545893344074, Non-NaN Category Codes: []\n",
      "Category ID: 2136221634460123799, Non-NaN Category Codes: []\n",
      "Category ID: 2137704922018218396, Non-NaN Category Codes: []\n",
      "Category ID: 2137704926053138958, Non-NaN Category Codes: []\n",
      "Category ID: 2141229835995840847, Non-NaN Category Codes: []\n",
      "Category ID: 2141355067922449282, Non-NaN Category Codes: []\n",
      "Category ID: 2141355068383822734, Non-NaN Category Codes: []\n",
      "Category ID: 2141478391264576072, Non-NaN Category Codes: []\n",
      "Category ID: 2141478391348462154, Non-NaN Category Codes: []\n",
      "Category ID: 2141478496122176368, Non-NaN Category Codes: []\n",
      "Category ID: 2142047355153678986, Non-NaN Category Codes: []\n",
      "Category ID: 2142171269733286244, Non-NaN Category Codes: []\n",
      "Category ID: 2144356630513320518, Non-NaN Category Codes: []\n",
      "Category ID: 2145153815500816706, Non-NaN Category Codes: []\n",
      "Category ID: 2145603402644587402, Non-NaN Category Codes: []\n",
      "Category ID: 2145727308156108933, Non-NaN Category Codes: []\n",
      "Category ID: 2145727399348666855, Non-NaN Category Codes: []\n",
      "Category ID: 2145727399449330153, Non-NaN Category Codes: []\n",
      "Category ID: 2145727399558382059, Non-NaN Category Codes: []\n",
      "Category ID: 2146306510567768475, Non-NaN Category Codes: []\n",
      "Category ID: 2146430800906682785, Non-NaN Category Codes: []\n",
      "Category ID: 2146430800990568867, Non-NaN Category Codes: []\n",
      "Category ID: 2146551904958677622, Non-NaN Category Codes: []\n",
      "Category ID: 2146660886926852416, Non-NaN Category Codes: []\n",
      "Category ID: 2147123662791115686, Non-NaN Category Codes: []\n",
      "Category ID: 2147846602826449803, Non-NaN Category Codes: []\n",
      "Category ID: 2149484852091552186, Non-NaN Category Codes: []\n",
      "Category ID: 2149939352476582010, Non-NaN Category Codes: []\n",
      "Category ID: 2150829657950257794, Non-NaN Category Codes: []\n",
      "Category ID: 2150829667932701348, Non-NaN Category Codes: []\n",
      "Category ID: 2150829923885908490, Non-NaN Category Codes: []\n",
      "Category ID: 2150829959453606568, Non-NaN Category Codes: []\n",
      "Category ID: 2151563850841850061, Non-NaN Category Codes: []\n",
      "Category ID: 2151564008329576933, Non-NaN Category Codes: []\n",
      "Category ID: 2151564095713706619, Non-NaN Category Codes: []\n",
      "Category ID: 2152167773222993940, Non-NaN Category Codes: []\n",
      "Category ID: 2152289023127715889, Non-NaN Category Codes: []\n",
      "Category ID: 2152289064542273825, Non-NaN Category Codes: []\n",
      "Category ID: 2155114825741500949, Non-NaN Category Codes: []\n",
      "Category ID: 2155241212938814273, Non-NaN Category Codes: []\n",
      "Category ID: 2155812777791324581, Non-NaN Category Codes: []\n",
      "Category ID: 2156501936323428882, Non-NaN Category Codes: []\n",
      "Category ID: 2156718775112565355, Non-NaN Category Codes: []\n",
      "Category ID: 2158174724725670855, Non-NaN Category Codes: []\n",
      "Category ID: 2158174729414901910, Non-NaN Category Codes: []\n",
      "Category ID: 2158174784544834196, Non-NaN Category Codes: []\n",
      "Category ID: 2159419215583380463, Non-NaN Category Codes: []\n",
      "Category ID: 2159535974915244827, Non-NaN Category Codes: []\n",
      "Category ID: 2159536004787077583, Non-NaN Category Codes: []\n",
      "Category ID: 2159649186167915110, Non-NaN Category Codes: []\n",
      "Category ID: 2160098698049093979, Non-NaN Category Codes: []\n",
      "Category ID: 2160912607672795565, Non-NaN Category Codes: []\n",
      "Category ID: 2160912616539554409, Non-NaN Category Codes: []\n",
      "Category ID: 2160912655915679819, Non-NaN Category Codes: []\n",
      "Category ID: 2162513024617808683, Non-NaN Category Codes: []\n",
      "Category ID: 2162513044893073459, Non-NaN Category Codes: []\n",
      "Category ID: 2162513070000177858, Non-NaN Category Codes: []\n",
      "Category ID: 2162513074060264222, Non-NaN Category Codes: []\n",
      "Category ID: 2163212765890609705, Non-NaN Category Codes: []\n",
      "Category ID: 2164367422893589471, Non-NaN Category Codes: []\n",
      "Category ID: 2164478081568343037, Non-NaN Category Codes: []\n",
      "Category ID: 2164598684107407750, Non-NaN Category Codes: []\n",
      "Category ID: 2166064333434388927, Non-NaN Category Codes: []\n",
      "Category ID: 2166064674305475225, Non-NaN Category Codes: []\n",
      "Category ID: 2166064779414732801, Non-NaN Category Codes: []\n",
      "Category ID: 2166064863317590601, Non-NaN Category Codes: []\n",
      "Category ID: 2166773308459057374, Non-NaN Category Codes: []\n",
      "Category ID: 2171876324795220314, Non-NaN Category Codes: []\n",
      "Category ID: 2171876326942704016, Non-NaN Category Codes: []\n",
      "Category ID: 2171876346882425704, Non-NaN Category Codes: []\n",
      "Category ID: 2173216776639218138, Non-NaN Category Codes: []\n",
      "Category ID: 2174721075571589819, Non-NaN Category Codes: []\n",
      "Category ID: 2174838742978659061, Non-NaN Category Codes: []\n",
      "Category ID: 2175419524847763461, Non-NaN Category Codes: []\n",
      "Category ID: 2175419595093967522, Non-NaN Category Codes: []\n",
      "Category ID: 2175419595697947312, Non-NaN Category Codes: []\n",
      "Category ID: 2176851562641490686, Non-NaN Category Codes: []\n",
      "Category ID: 2179887855134835524, Non-NaN Category Codes: []\n",
      "Category ID: 2179887863137566752, Non-NaN Category Codes: []\n",
      "Category ID: 2180736540135654014, Non-NaN Category Codes: []\n",
      "Category ID: 2180736567012753620, Non-NaN Category Codes: []\n",
      "Category ID: 2180736592824501056, Non-NaN Category Codes: []\n",
      "Category ID: 2181922917904810326, Non-NaN Category Codes: []\n",
      "Category ID: 2181922918508790116, Non-NaN Category Codes: []\n",
      "Category ID: 2181922923097358794, Non-NaN Category Codes: []\n",
      "Category ID: 2181922978520891990, Non-NaN Category Codes: []\n",
      "Category ID: 2182779801528435624, Non-NaN Category Codes: []\n",
      "Category ID: 2182780429113753770, Non-NaN Category Codes: []\n",
      "Category ID: 2184831680924091011, Non-NaN Category Codes: []\n",
      "Category ID: 2186437187866722802, Non-NaN Category Codes: []\n",
      "Category ID: 2186437664792641850, Non-NaN Category Codes: []\n",
      "Category ID: 2187707857414128194, Non-NaN Category Codes: []\n",
      "Category ID: 2187707861038006932, Non-NaN Category Codes: []\n"
     ]
    }
   ],
   "source": [
    "# NaN 개수 계산\n",
    "nan_counts = sampled_df.groupby('category_id')[\"category_code\"].apply(lambda x: x.isnull().sum())\n",
    "\n",
    "# NaN 개수가 0이 아닌 category_id 필터링\n",
    "non_zero_nan_category_ids = nan_counts[nan_counts > 0].index\n",
    "\n",
    "# 각 category_id에 대해 category_code 값 확인\n",
    "result = {}\n",
    "for category_id in non_zero_nan_category_ids:\n",
    "    non_null_values = sampled_df[sampled_df['category_id'] == category_id]['category_code'].dropna().unique()\n",
    "    result[category_id] = non_null_values\n",
    "\n",
    "# 결과 출력\n",
    "for category_id, codes in result.items():\n",
    "    print(f\"Category ID: {category_id}, Non-NaN Category Codes: {codes}\")\n"
   ]
  },
  {
   "cell_type": "code",
   "execution_count": 131,
   "metadata": {},
   "outputs": [
    {
     "name": "stdout",
     "output_type": "stream",
     "text": [
      "category_code가 NaN일 때 brand도 NaN인 경우: 466953\n",
      "category_code가 NaN일 때 총 행 개수: 1763637\n"
     ]
    }
   ],
   "source": [
    "nan_category_code = sampled_df[sampled_df[\"category_code\"].isnull()]\n",
    "nan_brand_count = nan_category_code[\"brand\"].isnull().sum()\n",
    "\n",
    "# 결과 출력\n",
    "print(f\"category_code가 NaN일 때 brand도 NaN인 경우: {nan_brand_count}\")\n",
    "print(f\"category_code가 NaN일 때 총 행 개수: {len(nan_category_code)}\")"
   ]
  }
 ],
 "metadata": {
  "kernelspec": {
   "display_name": "Python 3",
   "language": "python",
   "name": "python3"
  }
 },
 "nbformat": 4,
 "nbformat_minor": 2
}
